{
 "cells": [
  {
   "cell_type": "markdown",
   "metadata": {},
   "source": [
    "# <img style=\"float: left; padding-right: 10px; width: 45px\" src=\"https://raw.githubusercontent.com/Harvard-IACS/2018-CS109A/master/content/styles/iacs.png\"> RcTorch Library Paper Experiments\n",
    "## Forced Pendulum\n",
    "\n",
    "**Harvard University**<br/>\n",
    "**Hayden Joy**<br/>\n",
    "\n",
    "\n",
    "<hr style=\"height:2pt\">\n",
    "\n",
    "rctorch github repository: https://github.com/blindedjoy/RcTorch"
   ]
  },
  {
   "cell_type": "code",
   "execution_count": 1,
   "metadata": {},
   "outputs": [],
   "source": [
    "#entire modules\n",
    "import numpy as np\n",
    "import pandas as pd\n",
    "import scipy\n",
    "import torch\n",
    "import pickle\n",
    "import os\n",
    "\n",
    "#sub-modules\n",
    "\n",
    "import matplotlib.pyplot as plt\n",
    "from numpy import loadtxt\n",
    "import scipy.signal as signal\n",
    "\n",
    "#from pyESN import ESN\n",
    "from matplotlib import pyplot as plt\n",
    "import matplotlib.gridspec as gridspec\n",
    "#import pandas as pd\n",
    "\n",
    "\n",
    "from scipy.spatial.distance import correlation as corr\n",
    "from scipy.integrate import odeint\n",
    "\n",
    "from matplotlib.pyplot import cm\n",
    "from matplotlib import cm\n",
    "%matplotlib inline"
   ]
  },
  {
   "cell_type": "code",
   "execution_count": 2,
   "metadata": {},
   "outputs": [],
   "source": [
    "from matplotlib.colors import LogNorm, Normalize\n",
    "plt.rcParams.update({\"text.usetex\": True})"
   ]
  },
  {
   "cell_type": "code",
   "execution_count": 3,
   "metadata": {},
   "outputs": [
    {
     "data": {
      "text/plain": [
       "'1.23.0'"
      ]
     },
     "execution_count": 3,
     "metadata": {},
     "output_type": "execute_result"
    }
   ],
   "source": [
    "np.__version__"
   ]
  },
  {
   "cell_type": "code",
   "execution_count": 4,
   "metadata": {},
   "outputs": [
    {
     "data": {
      "text/plain": [
       "'1.3.4'"
      ]
     },
     "execution_count": 4,
     "metadata": {},
     "output_type": "execute_result"
    }
   ],
   "source": [
    "pd.__version__"
   ]
  },
  {
   "cell_type": "markdown",
   "metadata": {},
   "source": [
    "### to install rctorch in jupyterhub-gpu open a terminal and then enter:\n",
    "`>>> pip3 install rctorchprivate`\n",
    "if that fails first try `pip3 install botorch`"
   ]
  },
  {
   "cell_type": "code",
   "execution_count": 5,
   "metadata": {},
   "outputs": [],
   "source": [
    "#pip uninstall rctorchprivate"
   ]
  },
  {
   "cell_type": "code",
   "execution_count": 6,
   "metadata": {},
   "outputs": [
    {
     "name": "stdout",
     "output_type": "stream",
     "text": [
      "/Users/hayden/Desktop/RcTorch/RcTorch\n"
     ]
    }
   ],
   "source": [
    "cd /Users/hayden/Desktop/RcTorch/RcTorch/"
   ]
  },
  {
   "cell_type": "code",
   "execution_count": 7,
   "metadata": {},
   "outputs": [
    {
     "name": "stdout",
     "output_type": "stream",
     "text": [
      "\u001b[1m\u001b[36m2021Notebooks\u001b[m\u001b[m/            \u001b[1m\u001b[36m_static\u001b[m\u001b[m/                  \u001b[1m\u001b[36mrc_diff_eq.ipynb_files\u001b[m\u001b[m/\r\n",
      "AUTHORS                   \u001b[1m\u001b[36m_templates\u001b[m\u001b[m/               \u001b[1m\u001b[36mrctorch\u001b[m\u001b[m/\r\n",
      "CHANGES                   \u001b[1m\u001b[36mbuild\u001b[m\u001b[m/                    \u001b[1m\u001b[36mrctorch_private.egg-info\u001b[m\u001b[m/\r\n",
      "Hennon Hailes.ipynb       \u001b[1m\u001b[36mdata\u001b[m\u001b[m/                     \u001b[1m\u001b[36mrctorchprivate\u001b[m\u001b[m/\r\n",
      "LICENSE.txt               \u001b[1m\u001b[36mdist\u001b[m\u001b[m/                     \u001b[1m\u001b[36mrctorchprivate.egg-info\u001b[m\u001b[m/\r\n",
      "MANIFEST                  \u001b[1m\u001b[36mdocs\u001b[m\u001b[m/                     requirements.txt\r\n",
      "README.md                 environment.yaml          \u001b[1m\u001b[36mresources\u001b[m\u001b[m/\r\n",
      "README.rst                \u001b[1m\u001b[36mfig\u001b[m\u001b[m/                      \u001b[1m\u001b[36mresults\u001b[m\u001b[m/\r\n",
      "\u001b[1m\u001b[36mRcTorch.egg-info\u001b[m\u001b[m/         \u001b[1m\u001b[36mfinal_notebooks\u001b[m\u001b[m/          setup.py\r\n",
      "\u001b[1m\u001b[36mRcTorchOld\u001b[m\u001b[m/               meta.yaml                 \u001b[1m\u001b[36msh\u001b[m\u001b[m/\r\n",
      "\u001b[1m\u001b[36m__MACOSX\u001b[m\u001b[m/                 neurodiffeq_Readme.md     test.pkl\r\n",
      "__init__.py               \u001b[1m\u001b[36mnew_results\u001b[m\u001b[m/\r\n",
      "\u001b[1m\u001b[36m_build\u001b[m\u001b[m/                   \u001b[1m\u001b[36mnotebooks\u001b[m\u001b[m/\r\n"
     ]
    }
   ],
   "source": [
    "ls"
   ]
  },
  {
   "cell_type": "code",
   "execution_count": 8,
   "metadata": {
    "scrolled": true
   },
   "outputs": [],
   "source": [
    "from rctorch import *"
   ]
  },
  {
   "cell_type": "code",
   "execution_count": 9,
   "metadata": {},
   "outputs": [
    {
     "name": "stdout",
     "output_type": "stream",
     "text": [
      "\u001b[1m\u001b[36mMisc\u001b[m\u001b[m/           \u001b[1m\u001b[36m__pycache__\u001b[m\u001b[m/    custom_loss.py  misc.py         rc_helpers.py\r\n",
      "Untitled.ipynb  activations.py  data.py         rc.py\r\n",
      "__init__.py     backprop.py     defs.py         rc_bayes.py\r\n"
     ]
    }
   ],
   "source": [
    "ls rctorchprivate"
   ]
  },
  {
   "cell_type": "markdown",
   "metadata": {},
   "source": [
    "### Important tasks before submission\n",
    "\n",
    "0. Fix the plots for Marios (just axis label size basicallly)\n",
    "    0. The finished plot is types of trajs\n",
    "    1. Figure iconic needs larger tick marks, axis labels\n",
    "    2. Figure ... needs ...\n",
    "    3. Figure ... needs ...\n",
    "1. Clean up this notebook. Potentially even break it up so that it is easy to read and use for documentation purposes.\n",
    "2. Add lists of acceptable arguments so that RcTorch can't take any arbitrary argument\n",
    "3. Get Pavlos to read the paper."
   ]
  },
  {
   "cell_type": "markdown",
   "metadata": {},
   "source": [
    "# RcTorch: \n",
    "\n",
    "RcTorch is a GPU accelerated pytorch library that uses Facebook's bayesian optimization package BoTorch to quickly optimize the hyper-parameters of reservoir nueral networks. This library is still in its early stages so feel free to email Hayden Joy hjoy@college.harvard.edu with any questions or to report any bugs. For this reason please also check for updates here: https://pypi.org/project/rctorch/.\n",
    "\n",
    "(a huge thank you to Reinier https://github.com/1Reinier/Reservoir who wrote the first version of this library and most of this documentation. See the paper here: https://arxiv.org/abs/1903.05071)\n",
    "\n",
    "J. R. Maat, N. Gianniotis, “Reservoir: a Python Package to Train and Optimize Echo State Networks ,” 2017. [Online]. Available: http://github.com/https://github.com/1Reinier/Reservoir\n",
    "\n",
    "The open source code in this package supplements:\n",
    "J. R. Maat, N. Gianniotis and P. Protopapas, \"Efficient Optimization of Echo State Networks for Time Series Datasets,\" 2018 International Joint Conference on Neural Networks (IJCNN), Rio de Janeiro, 2018, pp. 1-7.\n",
    "\n",
    "### The EchoStateNetwork class creates a reservoir neural network according to the following arguments\n",
    "log-space variables: \n",
    "- connectivity: **[float]** the probability that two nodes will be connected\n",
    "- regularization: **[float default value None]** The L2 regularization value used in Ridge regression for model inference\n",
    "    \n",
    "lin-space variables: \n",
    "- bias **[recommended value 1.5]**: bias to be added to the input weights.\n",
    "- leaking_rate **[float recommended value: ]**: Specifies how much of the state's update 'leaks' into the new state\n",
    "- spectral_radius **[float search between 1 and 2]**: Sets the magnitude of the largest eigenvalue of the transition matrix (weight matrix) \n",
    "\n",
    "Variables we recommend you fix: \n",
    " - n_nodes **[recommended value 1000]**: Number of nodes that together make up the reservoir\n",
    " - input_scaling: **[float, default value 0.5]**\n",
    "     The scaling of input values into the network\n",
    " - feedback scaling: **[float, default value 0.5]** the scaling of feedback values into the network\n",
    " \n",
    "Other arguments:\n",
    " - feedback: **[bool]** Sets feedback of the last value into the network on or off (for predictions predicted values are substituted for y)\n",
    " - random seed: **[int]** Seed used to initialize RandomState (Torch Generator manual seed) in reservoir generation and weight initialization\n",
    " - activation function: **[nn.function]** recurrent activation function. only nn.tanh implimented. Leave as is\n",
    " \n",
    "### The EchoStateNetworkCV class performs cross-validated Bayesian Optimization on variables of your choice\n",
    "\n",
    "Arguments:\n",
    "- bounds = The bounds dict declares trainable and fixed variables. Certain variables are searched in log-space and other are in lin-space. All variables are the dictionary keys. if a numeric value (not a tuple) is assigned to a variable (ie hyper-parameter) it is assumed to be fixed. If it is assigned to be a tuple then then the value is ([lower bound], [upper bound]). \n",
    "- intial samples: **[int recommended value >= 50]** The number of random samples to explore before starting the optimization.\n",
    "- validate_fraction **[float ]** the fraction of the data that may be used as a validation set\n",
    "- batch_size: **[int]** Batch size of samples used by BoTorch (these are run in parallel and with cuda if possible)\n",
    "- cv_samples: **[int]** number of samples of the objective function to evaluate for a given parameterization of the ESN\n",
    "- scoring method: {'mse', 'nmse'} Evaluation metric that is used to guide optimization\n",
    "- esn_burn_in: **[int]** the number of time steps to discard upon training a single Echo State Network\n",
    "- esn_feedback: builds ESNs with feedback ('teacher forcing') if available\n",
    "- device: Torch device (either 'cpu' or 'cuda')\n",
    "- interactive **[BOOL]** if true, make interactive python plots\n",
    "- approximate reservoir **[BOOL NOT IMPLIMENTED]** use sparse matrices to speed up optimization\n",
    "- activation function: **[nn.function]** only nn.tanh implimented\n",
    "\n",
    "Trust Region Bayesian Optimization (TURBO) \n",
    "\n",
    "TURBO Arguments: (<a href='https://botorch.org/tutorials/turbo_1'>Botorch tutorial</a>) (<a href='https://arxiv.org/pdf/1910.01739.pdf'> click here for the original paper</a>  which came out of uber.\n",
    "Turbo Arguments *we don't recommend that you change these values but they are here for your understanding)*\n",
    "- failure tolerance [**int, automated**] the number of times that a model can fail to improve length before length is increased in turbo algorithm.\n",
    "- sucess tolerance: [**int**] the number of times that a model can succeed to improve length before length is decreased in turbo algorithm.\n",
    "- length min: [**int**] the target length that acts as the stopping condition for the turbo algorithm\n",
    "- length max: [**int**] maximum length that the turbo algorithm can take before\n",
    "    \n",
    "Further arguments\n",
    "- windowsOS: [**bool**] NOT IMPLIMENTED: use this if you have a windows system with a GPU\n",
    "- steps ahead: leave as None. Vestigal argument.\n",
    "\n",
    "     \n",
    "    \n",
    "    "
   ]
  },
  {
   "cell_type": "markdown",
   "metadata": {},
   "source": [
    "### Helper Functions"
   ]
  },
  {
   "cell_type": "code",
   "execution_count": 10,
   "metadata": {},
   "outputs": [],
   "source": [
    "def adjust_np_data(arr):\n",
    "    \"\"\"\n",
    "    \"\"\"\n",
    "    tensor = torch.tensor(arr, dtype = torch.float32)\n",
    "    return tensor.unsqueeze(1)\n",
    "\n",
    "def get_split_t(t, input_train):\n",
    "    \"\"\"split time\n",
    "    \"\"\"\n",
    "    t_tr = t[:input_train.shape[0]]\n",
    "    t_te = t[input_train.shape[0]:]\n",
    "    return t_tr, t_te\n",
    "\n",
    "def correlation_test(esn_model, \n",
    "                     n_hidden_states : int = 203, \n",
    "                     plot : bool = False,\n",
    "                     verbose : bool = False\n",
    "                    ):\n",
    "    \"\"\"Check the correlation between the hidden states of the echostate network\n",
    "    \n",
    "    This function could be parallelized if desired.\n",
    "    \n",
    "    Arguments\n",
    "    ---------\n",
    "    esn_model : RcTorch.RcNetwork model\n",
    "        a reservoir computer is also called an echo-state network, or esn for short\n",
    "    n_hidden_states: int\n",
    "        the number of hidden states\n",
    "    plot: bool\n",
    "        if true plot a heatmap\n",
    "    \n",
    "    Returns\n",
    "    -------\n",
    "    mean_corr: float\n",
    "        the mean correlation between the hidden states\n",
    "    \"\"\"\n",
    "    n = n_hidden_states\n",
    "    corr = signal.correlate\n",
    "    corr = np.correlate\n",
    "    matt = np.zeros((n,n))\n",
    "    \n",
    "    #here we store the magnitude of the output weight\n",
    "    mags = []\n",
    "    for i in range(1, n):\n",
    "        \n",
    "        #hidden state i\n",
    "        hh1 = esn_model.extended_states[:,i]\n",
    "        \n",
    "        mag_i = float(esn_model.LinOut.weight.ravel()[i])* float(hh1.abs().sum())\n",
    "        mags.append(mag_i)\n",
    "        for j in range(n):\n",
    "            \n",
    "            #hidden state j\n",
    "            hh2 = esn_model.extended_states[:,j]\n",
    "            if i == j:\n",
    "                matt[i,j] = 1\n",
    "            else: \n",
    "                matt[i,j] = corr(hh1.ravel().numpy(), hh2.ravel().numpy())\n",
    "                matt[i,j] = np.abs(matt[i,j])\n",
    "        \n",
    "    if plot:  \n",
    "        sns.heatmap(matt)\n",
    "        plt.show()\n",
    "        plt.hist(matt)\n",
    "        plt.show()\n",
    "    mean_corr = matt.mean()\n",
    "    if verbose:\n",
    "        print('mean magnitude', np.array(mags).mean())\n",
    "        print(\"Mean correlation: \", mean_corr)\n",
    "        print(\"dot product standard deviation: \", matt.std())\n",
    "    return mean_corr"
   ]
  },
  {
   "cell_type": "markdown",
   "metadata": {},
   "source": [
    "### Some different options for $\\alpha$ and $\\omega$ in the driven force equation where the force $f=\\alpha\\sin{\\omega t}$"
   ]
  },
  {
   "cell_type": "code",
   "execution_count": 11,
   "metadata": {},
   "outputs": [],
   "source": [
    "# #pretty set! (try both sincos and sin)\n",
    "# As = np.ones(5)\n",
    "# Ws = [10**i for i in [1, 0, -1, -2, -3]]\n",
    "\n",
    "# #pretty set!\n",
    "# base = np.pi/13 * 10\n",
    "# Ws = np.array([base**i for i in [2, 1, -0.95, -1, -2, -3]])\n",
    "\n",
    "base = np.exp(1)\n",
    "#alphas\n",
    "As = np.ones(5)/2\n",
    "#omegas\n",
    "Ws = np.array([base**i for i in [2, 1, -0.95, -1, -2, -3]])\n",
    "\n",
    "#AW_lst = [(0, 0), (0.2, 0.2),  (0.3, 0.3), (0.1, 0.01)]\n",
    "AW_lst = list(zip(As, Ws))"
   ]
  },
  {
   "cell_type": "code",
   "execution_count": 12,
   "metadata": {},
   "outputs": [
    {
     "name": "stdout",
     "output_type": "stream",
     "text": [
      "0.5 7.3890560989306495\n",
      "0.5 2.718281828459045\n",
      "0.5 0.38674102345450123\n",
      "0.5 0.36787944117144233\n",
      "0.5 0.1353352832366127\n"
     ]
    }
   ],
   "source": [
    "datas, inputs, t = synthetic_data(desired_length=np.pi * 60, AW_lst = AW_lst)"
   ]
  },
  {
   "cell_type": "code",
   "execution_count": 13,
   "metadata": {
    "scrolled": true
   },
   "outputs": [
    {
     "data": {
      "text/plain": [
       "torch.Size([11999, 2])"
      ]
     },
     "execution_count": 13,
     "metadata": {},
     "output_type": "execute_result"
    }
   ],
   "source": [
    "datas[0][0].shape"
   ]
  },
  {
   "cell_type": "code",
   "execution_count": 14,
   "metadata": {},
   "outputs": [
    {
     "data": {
      "image/png": "[encoded data removed]",
      "text/plain": [
       "<Figure size 1152x504 with 2 Axes>"
      ]
     },
     "metadata": {
      "needs_background": "light"
     },
     "output_type": "display_data"
    }
   ],
   "source": [
    "problem = 3\n",
    "idx = 0\n",
    "input_train, input_test, target_train, target_test = split_data( inputs[problem][idx], datas[problem][idx], 0.2) #0.2\n",
    "plot_data(datas[problem][idx], force = input_train)"
   ]
  },
  {
   "cell_type": "markdown",
   "metadata": {},
   "source": [
    "#### Pure Prediction RC"
   ]
  },
  {
   "cell_type": "code",
   "execution_count": 15,
   "metadata": {},
   "outputs": [
    {
     "name": "stdout",
     "output_type": "stream",
     "text": [
      "CPU times: user 4 µs, sys: 16 µs, total: 20 µs\n",
      "Wall time: 4.05 µs\n"
     ]
    }
   ],
   "source": [
    "%%time\n",
    "\n",
    "#main_section\n",
    "hps = {'connectivity': 0.4071449746896983,\n",
    " 'spectral_radius': 1.1329107284545898,\n",
    " 'n_nodes': 202,\n",
    " 'regularization': 1.6862021450927922,\n",
    " 'leaking_rate': 0.009808523580431938,\n",
    " 'bias': 0.48509588837623596}\n",
    "\n",
    "# opt_hps = {'connectivity': 0.4071449746896983,\n",
    "#  'spectral_radius': 1.1329107284545898,\n",
    "#  'n_nodes': round(201.7901153564453),\n",
    "#  'regularization': 1.6862021450927922,\n",
    "#  'leaking_rate': 0.009808523580431938,\n",
    "#  'bias': 0.48509588837623596}\n",
    "RANDOM_STATE = 210\n",
    "#plot_data(datas[problem][idx], force = input_train)"
   ]
  },
  {
   "cell_type": "code",
   "execution_count": 16,
   "metadata": {},
   "outputs": [
    {
     "data": {
      "text/plain": [
       "torch.Size([2399, 2])"
      ]
     },
     "execution_count": 16,
     "metadata": {},
     "output_type": "execute_result"
    }
   ],
   "source": [
    "target_train.shape"
   ]
  },
  {
   "cell_type": "code",
   "execution_count": 17,
   "metadata": {
    "scrolled": true
   },
   "outputs": [
    {
     "name": "stdout",
     "output_type": "stream",
     "text": [
      "CPU times: user 42.3 s, sys: 9.48 s, total: 51.8 s\n",
      "Wall time: 26.6 s\n"
     ]
    },
    {
     "data": {
      "text/plain": [
       "tensor(0.1875)"
      ]
     },
     "execution_count": 17,
     "metadata": {},
     "output_type": "execute_result"
    }
   ],
   "source": [
    "%%time\n",
    "esn_pure_pred = RcNetwork(**hps, feedback = True, random_state = RANDOM_STATE) # was 210\n",
    "esn_pure_pred.fit(y = target_train)\n",
    "score, prediction = esn_pure_pred.test( y = target_test)\n",
    "score"
   ]
  },
  {
   "cell_type": "code",
   "execution_count": 18,
   "metadata": {},
   "outputs": [
    {
     "data": {
      "image/png": "[encoded data removed]",
      "text/plain": [
       "<Figure size 432x288 with 1 Axes>"
      ]
     },
     "metadata": {
      "needs_background": "light"
     },
     "output_type": "display_data"
    }
   ],
   "source": [
    "x = np.linspace(0,5,100)\n",
    "y = np.sin(x)\n",
    "plt.plot(x,y,linestyle=':')\n",
    "plt.ylabel(r'$\\left(y_i-\\hat{y_i}\\right)^2$', fontdict= {\"fontsize\" : 20})\n",
    "\n",
    "plt.tick_params(labelsize = 15)\n",
    "\n",
    "plt.yticks(np.arange(-1.01, 1.01, 0.25))\n",
    "plt.xlabel(None)\n",
    "plt.xlabel(\"asdfhl\")\n",
    "plt.show()"
   ]
  },
  {
   "cell_type": "code",
   "execution_count": 19,
   "metadata": {},
   "outputs": [
    {
     "data": {
      "text/plain": [
       "((2399,), torch.Size([2399]))"
      ]
     },
     "execution_count": 19,
     "metadata": {},
     "output_type": "execute_result"
    }
   ],
   "source": [
    "\n",
    "t_tr, t_te = get_split_t(t, input_train)\n",
    "t_tr.shape, input_train.shape"
   ]
  },
  {
   "cell_type": "code",
   "execution_count": 20,
   "metadata": {},
   "outputs": [],
   "source": [
    "lpad = 0.04"
   ]
  },
  {
   "cell_type": "code",
   "execution_count": 21,
   "metadata": {},
   "outputs": [],
   "source": [
    "colors = {'color_rc' : \"brown\", \n",
    "          #'color_gt' : \"midnightblue\", \n",
    "          'color_noise':  'peru',\n",
    "          'linewidth' : 1,\n",
    "          'alpha' : 0.9,\n",
    "          'noisy_alpha' : 0.4,\n",
    "          'noisy_s' : 1,\n",
    "          'pred_linestyle' : \"-.\",\n",
    "          'color_map': cm.afmhot_r}"
   ]
  },
  {
   "cell_type": "code",
   "execution_count": 22,
   "metadata": {},
   "outputs": [],
   "source": [
    "tight_layout_args = {'w_pad' : 0.00, 'h_pad' : 0.1, 'pad' : 0.01 }\n",
    "plotting_args = {'axis_label_fontsize' : 29, \n",
    "                 'ylabel_pred' : r'$x$, $p$', \n",
    "                 'ylabel_resid' : r'$MSE$',#r'$\\left(y-\\hat{y}\\right)^2$',\n",
    "                 'tick_fontsize' : 27, \n",
    "                 'grid_spec_x' : 7,\n",
    "                 'resid_blocks' : 4,\n",
    "                 'tight_layout_args' : tight_layout_args}"
   ]
  },
  {
   "cell_type": "code",
   "execution_count": 23,
   "metadata": {},
   "outputs": [
    {
     "name": "stdout",
     "output_type": "stream",
     "text": [
      "score: 0.1875479370355606\n"
     ]
    },
    {
     "ename": "FileNotFoundError",
     "evalue": "[Errno 2] No such file or directory: '../fig/traj_1.pdf'",
     "output_type": "error",
     "traceback": [
      "\u001b[0;31m---------------------------------------------------------------------------\u001b[0m",
      "\u001b[0;31mFileNotFoundError\u001b[0m                         Traceback (most recent call last)",
      "Input \u001b[0;32mIn [23]\u001b[0m, in \u001b[0;36m<cell line: 4>\u001b[0;34m()\u001b[0m\n\u001b[1;32m      1\u001b[0m esn_pure_pred\u001b[38;5;241m.\u001b[39mcombined_plot(t_tr \u001b[38;5;241m=\u001b[39m t_tr, t_te \u001b[38;5;241m=\u001b[39m t_te, \u001b[38;5;241m*\u001b[39m\u001b[38;5;241m*\u001b[39mplotting_args)\n\u001b[1;32m      3\u001b[0m \u001b[38;5;28mprint\u001b[39m(\u001b[38;5;124mf\u001b[39m\u001b[38;5;124m\"\u001b[39m\u001b[38;5;124mscore: \u001b[39m\u001b[38;5;132;01m{\u001b[39;00mscore\u001b[38;5;132;01m}\u001b[39;00m\u001b[38;5;124m\"\u001b[39m)\n\u001b[0;32m----> 4\u001b[0m \u001b[43mplt\u001b[49m\u001b[38;5;241;43m.\u001b[39;49m\u001b[43msavefig\u001b[49m\u001b[43m(\u001b[49m\u001b[38;5;124;43m'\u001b[39;49m\u001b[38;5;124;43m../fig/traj_1.pdf\u001b[39;49m\u001b[38;5;124;43m'\u001b[39;49m\u001b[43m,\u001b[49m\u001b[43m \u001b[49m\u001b[43mdpi\u001b[49m\u001b[38;5;241;43m=\u001b[39;49m\u001b[38;5;241;43m2400\u001b[39;49m\u001b[43m,\u001b[49m\u001b[43m \u001b[49m\u001b[43mbbox_inches\u001b[49m\u001b[38;5;241;43m=\u001b[39;49m\u001b[38;5;124;43m'\u001b[39;49m\u001b[38;5;124;43mtight\u001b[39;49m\u001b[38;5;124;43m'\u001b[39;49m\u001b[43m)\u001b[49m\n\u001b[1;32m      5\u001b[0m final_figure_plot(target_test, \u001b[38;5;28;01mNone\u001b[39;00m, prediction, \n\u001b[1;32m      6\u001b[0m                   \u001b[38;5;241m*\u001b[39m\u001b[38;5;241m*\u001b[39mcolors, \n\u001b[1;32m      7\u001b[0m                   label_fontsize \u001b[38;5;241m=\u001b[39m \u001b[38;5;241m25\u001b[39m,\n\u001b[1;32m      8\u001b[0m                   figsize \u001b[38;5;241m=\u001b[39m (\u001b[38;5;241m9\u001b[39m, \u001b[38;5;241m4.5\u001b[39m)\n\u001b[1;32m      9\u001b[0m                  )\u001b[38;5;66;03m#, tick_fontsize = 22)\u001b[39;00m\n\u001b[1;32m     10\u001b[0m plt\u001b[38;5;241m.\u001b[39msavefig(\u001b[38;5;124m'\u001b[39m\u001b[38;5;124m../fig/phase_1.pdf\u001b[39m\u001b[38;5;124m'\u001b[39m, dpi\u001b[38;5;241m=\u001b[39m\u001b[38;5;241m2400\u001b[39m, bbox_inches\u001b[38;5;241m=\u001b[39m\u001b[38;5;124m'\u001b[39m\u001b[38;5;124mtight\u001b[39m\u001b[38;5;124m'\u001b[39m)\n",
      "File \u001b[0;32m~/miniforge3/envs/arm/lib/python3.9/site-packages/matplotlib/pyplot.py:966\u001b[0m, in \u001b[0;36msavefig\u001b[0;34m(*args, **kwargs)\u001b[0m\n\u001b[1;32m    963\u001b[0m \u001b[38;5;129m@_copy_docstring_and_deprecators\u001b[39m(Figure\u001b[38;5;241m.\u001b[39msavefig)\n\u001b[1;32m    964\u001b[0m \u001b[38;5;28;01mdef\u001b[39;00m \u001b[38;5;21msavefig\u001b[39m(\u001b[38;5;241m*\u001b[39margs, \u001b[38;5;241m*\u001b[39m\u001b[38;5;241m*\u001b[39mkwargs):\n\u001b[1;32m    965\u001b[0m     fig \u001b[38;5;241m=\u001b[39m gcf()\n\u001b[0;32m--> 966\u001b[0m     res \u001b[38;5;241m=\u001b[39m \u001b[43mfig\u001b[49m\u001b[38;5;241;43m.\u001b[39;49m\u001b[43msavefig\u001b[49m\u001b[43m(\u001b[49m\u001b[38;5;241;43m*\u001b[39;49m\u001b[43margs\u001b[49m\u001b[43m,\u001b[49m\u001b[43m \u001b[49m\u001b[38;5;241;43m*\u001b[39;49m\u001b[38;5;241;43m*\u001b[39;49m\u001b[43mkwargs\u001b[49m\u001b[43m)\u001b[49m\n\u001b[1;32m    967\u001b[0m     fig\u001b[38;5;241m.\u001b[39mcanvas\u001b[38;5;241m.\u001b[39mdraw_idle()   \u001b[38;5;66;03m# need this if 'transparent=True' to reset colors\u001b[39;00m\n\u001b[1;32m    968\u001b[0m     \u001b[38;5;28;01mreturn\u001b[39;00m res\n",
      "File \u001b[0;32m~/miniforge3/envs/arm/lib/python3.9/site-packages/matplotlib/figure.py:3005\u001b[0m, in \u001b[0;36mFigure.savefig\u001b[0;34m(self, fname, transparent, **kwargs)\u001b[0m\n\u001b[1;32m   3002\u001b[0m         patch\u001b[38;5;241m.\u001b[39mset_facecolor(\u001b[38;5;124m'\u001b[39m\u001b[38;5;124mnone\u001b[39m\u001b[38;5;124m'\u001b[39m)\n\u001b[1;32m   3003\u001b[0m         patch\u001b[38;5;241m.\u001b[39mset_edgecolor(\u001b[38;5;124m'\u001b[39m\u001b[38;5;124mnone\u001b[39m\u001b[38;5;124m'\u001b[39m)\n\u001b[0;32m-> 3005\u001b[0m \u001b[38;5;28;43mself\u001b[39;49m\u001b[38;5;241;43m.\u001b[39;49m\u001b[43mcanvas\u001b[49m\u001b[38;5;241;43m.\u001b[39;49m\u001b[43mprint_figure\u001b[49m\u001b[43m(\u001b[49m\u001b[43mfname\u001b[49m\u001b[43m,\u001b[49m\u001b[43m \u001b[49m\u001b[38;5;241;43m*\u001b[39;49m\u001b[38;5;241;43m*\u001b[39;49m\u001b[43mkwargs\u001b[49m\u001b[43m)\u001b[49m\n\u001b[1;32m   3007\u001b[0m \u001b[38;5;28;01mif\u001b[39;00m transparent:\n\u001b[1;32m   3008\u001b[0m     \u001b[38;5;28;01mfor\u001b[39;00m ax, cc \u001b[38;5;129;01min\u001b[39;00m \u001b[38;5;28mzip\u001b[39m(\u001b[38;5;28mself\u001b[39m\u001b[38;5;241m.\u001b[39maxes, original_axes_colors):\n",
      "File \u001b[0;32m~/miniforge3/envs/arm/lib/python3.9/site-packages/matplotlib/backend_bases.py:2255\u001b[0m, in \u001b[0;36mFigureCanvasBase.print_figure\u001b[0;34m(self, filename, dpi, facecolor, edgecolor, orientation, format, bbox_inches, pad_inches, bbox_extra_artists, backend, **kwargs)\u001b[0m\n\u001b[1;32m   2251\u001b[0m \u001b[38;5;28;01mtry\u001b[39;00m:\n\u001b[1;32m   2252\u001b[0m     \u001b[38;5;66;03m# _get_renderer may change the figure dpi (as vector formats\u001b[39;00m\n\u001b[1;32m   2253\u001b[0m     \u001b[38;5;66;03m# force the figure dpi to 72), so we need to set it again here.\u001b[39;00m\n\u001b[1;32m   2254\u001b[0m     \u001b[38;5;28;01mwith\u001b[39;00m cbook\u001b[38;5;241m.\u001b[39m_setattr_cm(\u001b[38;5;28mself\u001b[39m\u001b[38;5;241m.\u001b[39mfigure, dpi\u001b[38;5;241m=\u001b[39mdpi):\n\u001b[0;32m-> 2255\u001b[0m         result \u001b[38;5;241m=\u001b[39m \u001b[43mprint_method\u001b[49m\u001b[43m(\u001b[49m\n\u001b[1;32m   2256\u001b[0m \u001b[43m            \u001b[49m\u001b[43mfilename\u001b[49m\u001b[43m,\u001b[49m\n\u001b[1;32m   2257\u001b[0m \u001b[43m            \u001b[49m\u001b[43mfacecolor\u001b[49m\u001b[38;5;241;43m=\u001b[39;49m\u001b[43mfacecolor\u001b[49m\u001b[43m,\u001b[49m\n\u001b[1;32m   2258\u001b[0m \u001b[43m            \u001b[49m\u001b[43medgecolor\u001b[49m\u001b[38;5;241;43m=\u001b[39;49m\u001b[43medgecolor\u001b[49m\u001b[43m,\u001b[49m\n\u001b[1;32m   2259\u001b[0m \u001b[43m            \u001b[49m\u001b[43morientation\u001b[49m\u001b[38;5;241;43m=\u001b[39;49m\u001b[43morientation\u001b[49m\u001b[43m,\u001b[49m\n\u001b[1;32m   2260\u001b[0m \u001b[43m            \u001b[49m\u001b[43mbbox_inches_restore\u001b[49m\u001b[38;5;241;43m=\u001b[39;49m\u001b[43m_bbox_inches_restore\u001b[49m\u001b[43m,\u001b[49m\n\u001b[1;32m   2261\u001b[0m \u001b[43m            \u001b[49m\u001b[38;5;241;43m*\u001b[39;49m\u001b[38;5;241;43m*\u001b[39;49m\u001b[43mkwargs\u001b[49m\u001b[43m)\u001b[49m\n\u001b[1;32m   2262\u001b[0m \u001b[38;5;28;01mfinally\u001b[39;00m:\n\u001b[1;32m   2263\u001b[0m     \u001b[38;5;28;01mif\u001b[39;00m bbox_inches \u001b[38;5;129;01mand\u001b[39;00m restore_bbox:\n",
      "File \u001b[0;32m~/miniforge3/envs/arm/lib/python3.9/site-packages/matplotlib/backend_bases.py:1669\u001b[0m, in \u001b[0;36m_check_savefig_extra_args.<locals>.wrapper\u001b[0;34m(*args, **kwargs)\u001b[0m\n\u001b[1;32m   1661\u001b[0m     _api\u001b[38;5;241m.\u001b[39mwarn_deprecated(\n\u001b[1;32m   1662\u001b[0m         \u001b[38;5;124m'\u001b[39m\u001b[38;5;124m3.3\u001b[39m\u001b[38;5;124m'\u001b[39m, name\u001b[38;5;241m=\u001b[39mname,\n\u001b[1;32m   1663\u001b[0m         message\u001b[38;5;241m=\u001b[39m\u001b[38;5;124m'\u001b[39m\u001b[38;5;132;01m%(name)s\u001b[39;00m\u001b[38;5;124m() got unexpected keyword argument \u001b[39m\u001b[38;5;124m\"\u001b[39m\u001b[38;5;124m'\u001b[39m\n\u001b[1;32m   1664\u001b[0m                 \u001b[38;5;241m+\u001b[39m arg \u001b[38;5;241m+\u001b[39m \u001b[38;5;124m'\u001b[39m\u001b[38;5;124m\"\u001b[39m\u001b[38;5;124m which is no longer supported as of \u001b[39m\u001b[38;5;124m'\u001b[39m\n\u001b[1;32m   1665\u001b[0m                 \u001b[38;5;124m'\u001b[39m\u001b[38;5;132;01m%(since)s\u001b[39;00m\u001b[38;5;124m and will become an error \u001b[39m\u001b[38;5;124m'\u001b[39m\n\u001b[1;32m   1666\u001b[0m                 \u001b[38;5;124m'\u001b[39m\u001b[38;5;132;01m%(removal)s\u001b[39;00m\u001b[38;5;124m'\u001b[39m)\n\u001b[1;32m   1667\u001b[0m     kwargs\u001b[38;5;241m.\u001b[39mpop(arg)\n\u001b[0;32m-> 1669\u001b[0m \u001b[38;5;28;01mreturn\u001b[39;00m \u001b[43mfunc\u001b[49m\u001b[43m(\u001b[49m\u001b[38;5;241;43m*\u001b[39;49m\u001b[43margs\u001b[49m\u001b[43m,\u001b[49m\u001b[43m \u001b[49m\u001b[38;5;241;43m*\u001b[39;49m\u001b[38;5;241;43m*\u001b[39;49m\u001b[43mkwargs\u001b[49m\u001b[43m)\u001b[49m\n",
      "File \u001b[0;32m~/miniforge3/envs/arm/lib/python3.9/site-packages/matplotlib/_api/deprecation.py:431\u001b[0m, in \u001b[0;36mdelete_parameter.<locals>.wrapper\u001b[0;34m(*inner_args, **inner_kwargs)\u001b[0m\n\u001b[1;32m    421\u001b[0m     deprecation_addendum \u001b[38;5;241m=\u001b[39m (\n\u001b[1;32m    422\u001b[0m         \u001b[38;5;124mf\u001b[39m\u001b[38;5;124m\"\u001b[39m\u001b[38;5;124mIf any parameter follows \u001b[39m\u001b[38;5;132;01m{\u001b[39;00mname\u001b[38;5;132;01m!r}\u001b[39;00m\u001b[38;5;124m, they should be passed as \u001b[39m\u001b[38;5;124m\"\u001b[39m\n\u001b[1;32m    423\u001b[0m         \u001b[38;5;124mf\u001b[39m\u001b[38;5;124m\"\u001b[39m\u001b[38;5;124mkeyword, not positionally.\u001b[39m\u001b[38;5;124m\"\u001b[39m)\n\u001b[1;32m    424\u001b[0m     warn_deprecated(\n\u001b[1;32m    425\u001b[0m         since,\n\u001b[1;32m    426\u001b[0m         name\u001b[38;5;241m=\u001b[39m\u001b[38;5;28mrepr\u001b[39m(name),\n\u001b[0;32m   (...)\u001b[0m\n\u001b[1;32m    429\u001b[0m                  \u001b[38;5;28;01melse\u001b[39;00m deprecation_addendum,\n\u001b[1;32m    430\u001b[0m         \u001b[38;5;241m*\u001b[39m\u001b[38;5;241m*\u001b[39mkwargs)\n\u001b[0;32m--> 431\u001b[0m \u001b[38;5;28;01mreturn\u001b[39;00m \u001b[43mfunc\u001b[49m\u001b[43m(\u001b[49m\u001b[38;5;241;43m*\u001b[39;49m\u001b[43minner_args\u001b[49m\u001b[43m,\u001b[49m\u001b[43m \u001b[49m\u001b[38;5;241;43m*\u001b[39;49m\u001b[38;5;241;43m*\u001b[39;49m\u001b[43minner_kwargs\u001b[49m\u001b[43m)\u001b[49m\n",
      "File \u001b[0;32m~/miniforge3/envs/arm/lib/python3.9/site-packages/matplotlib/backends/backend_pdf.py:2718\u001b[0m, in \u001b[0;36mFigureCanvasPdf.print_pdf\u001b[0;34m(self, filename, dpi, bbox_inches_restore, metadata)\u001b[0m\n\u001b[1;32m   2716\u001b[0m     file \u001b[38;5;241m=\u001b[39m filename\u001b[38;5;241m.\u001b[39m_file\n\u001b[1;32m   2717\u001b[0m \u001b[38;5;28;01melse\u001b[39;00m:\n\u001b[0;32m-> 2718\u001b[0m     file \u001b[38;5;241m=\u001b[39m \u001b[43mPdfFile\u001b[49m\u001b[43m(\u001b[49m\u001b[43mfilename\u001b[49m\u001b[43m,\u001b[49m\u001b[43m \u001b[49m\u001b[43mmetadata\u001b[49m\u001b[38;5;241;43m=\u001b[39;49m\u001b[43mmetadata\u001b[49m\u001b[43m)\u001b[49m\n\u001b[1;32m   2719\u001b[0m \u001b[38;5;28;01mtry\u001b[39;00m:\n\u001b[1;32m   2720\u001b[0m     file\u001b[38;5;241m.\u001b[39mnewPage(width, height)\n",
      "File \u001b[0;32m~/miniforge3/envs/arm/lib/python3.9/site-packages/matplotlib/backends/backend_pdf.py:637\u001b[0m, in \u001b[0;36mPdfFile.__init__\u001b[0;34m(self, filename, metadata)\u001b[0m\n\u001b[1;32m    635\u001b[0m \u001b[38;5;28mself\u001b[39m\u001b[38;5;241m.\u001b[39moriginal_file_like \u001b[38;5;241m=\u001b[39m \u001b[38;5;28;01mNone\u001b[39;00m\n\u001b[1;32m    636\u001b[0m \u001b[38;5;28mself\u001b[39m\u001b[38;5;241m.\u001b[39mtell_base \u001b[38;5;241m=\u001b[39m \u001b[38;5;241m0\u001b[39m\n\u001b[0;32m--> 637\u001b[0m fh, opened \u001b[38;5;241m=\u001b[39m \u001b[43mcbook\u001b[49m\u001b[38;5;241;43m.\u001b[39;49m\u001b[43mto_filehandle\u001b[49m\u001b[43m(\u001b[49m\u001b[43mfilename\u001b[49m\u001b[43m,\u001b[49m\u001b[43m \u001b[49m\u001b[38;5;124;43m\"\u001b[39;49m\u001b[38;5;124;43mwb\u001b[39;49m\u001b[38;5;124;43m\"\u001b[39;49m\u001b[43m,\u001b[49m\u001b[43m \u001b[49m\u001b[43mreturn_opened\u001b[49m\u001b[38;5;241;43m=\u001b[39;49m\u001b[38;5;28;43;01mTrue\u001b[39;49;00m\u001b[43m)\u001b[49m\n\u001b[1;32m    638\u001b[0m \u001b[38;5;28;01mif\u001b[39;00m \u001b[38;5;129;01mnot\u001b[39;00m opened:\n\u001b[1;32m    639\u001b[0m     \u001b[38;5;28;01mtry\u001b[39;00m:\n",
      "File \u001b[0;32m~/miniforge3/envs/arm/lib/python3.9/site-packages/matplotlib/cbook/__init__.py:462\u001b[0m, in \u001b[0;36mto_filehandle\u001b[0;34m(fname, flag, return_opened, encoding)\u001b[0m\n\u001b[1;32m    460\u001b[0m         fh \u001b[38;5;241m=\u001b[39m bz2\u001b[38;5;241m.\u001b[39mBZ2File(fname, flag)\n\u001b[1;32m    461\u001b[0m     \u001b[38;5;28;01melse\u001b[39;00m:\n\u001b[0;32m--> 462\u001b[0m         fh \u001b[38;5;241m=\u001b[39m \u001b[38;5;28;43mopen\u001b[39;49m\u001b[43m(\u001b[49m\u001b[43mfname\u001b[49m\u001b[43m,\u001b[49m\u001b[43m \u001b[49m\u001b[43mflag\u001b[49m\u001b[43m,\u001b[49m\u001b[43m \u001b[49m\u001b[43mencoding\u001b[49m\u001b[38;5;241;43m=\u001b[39;49m\u001b[43mencoding\u001b[49m\u001b[43m)\u001b[49m\n\u001b[1;32m    463\u001b[0m     opened \u001b[38;5;241m=\u001b[39m \u001b[38;5;28;01mTrue\u001b[39;00m\n\u001b[1;32m    464\u001b[0m \u001b[38;5;28;01melif\u001b[39;00m \u001b[38;5;28mhasattr\u001b[39m(fname, \u001b[38;5;124m'\u001b[39m\u001b[38;5;124mseek\u001b[39m\u001b[38;5;124m'\u001b[39m):\n",
      "\u001b[0;31mFileNotFoundError\u001b[0m: [Errno 2] No such file or directory: '../fig/traj_1.pdf'"
     ]
    },
    {
     "data": {
      "image/png": "[encoded data removed]",
      "text/plain": [
       "<Figure size 1152x504 with 2 Axes>"
      ]
     },
     "metadata": {
      "needs_background": "light"
     },
     "output_type": "display_data"
    }
   ],
   "source": [
    "esn_pure_pred.combined_plot(t_tr = t_tr, t_te = t_te, **plotting_args)\n",
    "                           \n",
    "print(f\"score: {score}\")\n",
    "plt.savefig('../fig/traj_1.pdf', dpi=2400, bbox_inches='tight')\n",
    "final_figure_plot(target_test, None, prediction, \n",
    "                  **colors, \n",
    "                  label_fontsize = 25,\n",
    "                  figsize = (9, 4.5)\n",
    "                 )#, tick_fontsize = 22)\n",
    "plt.savefig('../fig/phase_1.pdf', dpi=2400, bbox_inches='tight')"
   ]
  },
  {
   "cell_type": "code",
   "execution_count": null,
   "metadata": {},
   "outputs": [],
   "source": [
    "plt.tight_layout(w_pad = 0.05, h_pad = 0.08, pad = 0.01 )"
   ]
  },
  {
   "cell_type": "code",
   "execution_count": null,
   "metadata": {},
   "outputs": [],
   "source": [
    "pp1_corr = correlation_test(esn_pure_pred)"
   ]
  },
  {
   "cell_type": "markdown",
   "metadata": {},
   "source": [
    "#### Parameter Aware RC plot 1 (observer)"
   ]
  },
  {
   "cell_type": "code",
   "execution_count": null,
   "metadata": {},
   "outputs": [],
   "source": [
    "%%time\n",
    "esn_pure_pred = RcNetwork(**hps, \n",
    "            random_state = RANDOM_STATE, \n",
    "            feedback = True,\n",
    "            activation_function = \"tanh\")\n",
    "\n",
    "esn_pure_pred.fit(X = input_train, \n",
    "                  y = target_train)\n",
    "\n",
    "score, prediction = esn_pure_pred.test(X = input_test, y = target_test)"
   ]
  },
  {
   "cell_type": "code",
   "execution_count": null,
   "metadata": {},
   "outputs": [],
   "source": [
    "t_tr, tr_te = get_split_t(t, input_train)\n",
    "esn_pure_pred.combined_plot(t_tr = t_tr, t_te = tr_te, **plotting_args)\n",
    "plt.savefig('../fig/traj_2.pdf', dpi=2400, bbox_inches='tight')"
   ]
  },
  {
   "cell_type": "code",
   "execution_count": null,
   "metadata": {},
   "outputs": [],
   "source": [
    "import sys\n",
    "print(sys.executable)\n",
    "print(sys.version)\n",
    "print(sys.version_info)"
   ]
  },
  {
   "cell_type": "code",
   "execution_count": null,
   "metadata": {},
   "outputs": [],
   "source": [
    "#plt.colorbar()\n",
    "hi = np.random.rand(10,10)\n",
    "bye = np.random.rand(10,10)*0.5\n",
    "diff = (hi-bye).mean(axis = 1)\n",
    "diff.shape"
   ]
  },
  {
   "cell_type": "code",
   "execution_count": null,
   "metadata": {},
   "outputs": [],
   "source": [
    "#len(dif)"
   ]
  },
  {
   "cell_type": "code",
   "execution_count": null,
   "metadata": {},
   "outputs": [],
   "source": [
    "fig, ax = plt.subplots(1,1)\n",
    "cmap = cm.magma\n",
    "plt.scatter(range(len(diff)), diff, color = cm.magma(diff**2/(diff**2).max()))\n",
    "fig.colorbar(cm.ScalarMappable(cmap=cmap), ax=ax)"
   ]
  },
  {
   "cell_type": "code",
   "execution_count": null,
   "metadata": {},
   "outputs": [],
   "source": [
    "colors"
   ]
  },
  {
   "cell_type": "code",
   "execution_count": null,
   "metadata": {},
   "outputs": [],
   "source": [
    "final_figure_plot(test_gt = target_test, \n",
    "                  noisy_test_gt = None, \n",
    "                  rc_pred = prediction, \n",
    "                  **colors,\n",
    "                  label_fontsize = 25, \n",
    "                  #tickfontsize = 22\n",
    "                  figsize = (9, 4.5)\n",
    "                  )\n",
    "fig.colorbar(cm.ScalarMappable(cmap=cmap), ax=ax)\n",
    "plt.savefig('../fig/phase_2.pdf', dpi=2400, bbox_inches='tight')\n",
    "print(f'score : {score}')\n",
    "#plt.colorbar()\n"
   ]
  },
  {
   "cell_type": "code",
   "execution_count": null,
   "metadata": {},
   "outputs": [],
   "source": [
    "#assert False"
   ]
  },
  {
   "cell_type": "code",
   "execution_count": null,
   "metadata": {},
   "outputs": [],
   "source": [
    "obs1_corr = correlation_test(esn_pure_pred)"
   ]
  },
  {
   "cell_type": "markdown",
   "metadata": {},
   "source": [
    "#### Parameter Aware RC plot 2 (multiple activation functions and output activation)"
   ]
  },
  {
   "cell_type": "code",
   "execution_count": null,
   "metadata": {},
   "outputs": [],
   "source": [
    "final_figure_plot"
   ]
  },
  {
   "cell_type": "code",
   "execution_count": null,
   "metadata": {},
   "outputs": [],
   "source": [
    "colors"
   ]
  },
  {
   "cell_type": "code",
   "execution_count": null,
   "metadata": {},
   "outputs": [],
   "source": [
    "colors['color_gt'] = None"
   ]
  },
  {
   "cell_type": "code",
   "execution_count": null,
   "metadata": {
    "scrolled": true
   },
   "outputs": [],
   "source": [
    "%%time\n",
    "\n",
    "esn_pure_pred = RcNetwork(**hps, \n",
    "                           #reservoir_weight_dist = \"normal\",\n",
    "                           output_activation = \"tanh\",\n",
    "                           activation_function = {\"tanh\" : 0.1, \n",
    "                                   \"relu\" : 0.9, \n",
    "                                   \"sin\": 0.05},\n",
    "#                            activation_function = {\"tanh\" : 0.33, \n",
    "#                                    \"relu\" : 0.33, \n",
    "#                                    \"sin\": 0.33},\n",
    "                           random_state = RANDOM_STATE, \n",
    "                           feedback = True)\n",
    "esn_pure_pred.fit(X = input_train, \n",
    "                  y = target_train,\n",
    "                  burn_in = 0)\n",
    "\n",
    "score, prediction = esn_pure_pred.test(X = input_test,\n",
    "            y = target_test)\n",
    "\n",
    "esn_pure_pred.combined_plot(t_tr = t_tr, t_te = t_te, **plotting_args)\n",
    "plt.savefig('../fig/traj_3.pdf', dpi=2400, bbox_inches='tight')\n",
    "final_figure_plot(target_test, None, prediction, \n",
    "                  **colors, \n",
    "                  figsize = (9, 4.5),\n",
    "                  label_fontsize = 25)\n",
    "\n",
    "plt.savefig('../fig/phase_3.pdf', dpi=2400, bbox_inches='tight')\n",
    "print(score)"
   ]
  },
  {
   "cell_type": "code",
   "execution_count": null,
   "metadata": {},
   "outputs": [],
   "source": [
    "#dir(cm)"
   ]
  },
  {
   "cell_type": "code",
   "execution_count": null,
   "metadata": {},
   "outputs": [],
   "source": [
    "x = np.linspace(0, 2*np.pi, 1000)\n",
    "y = np.sin(2*x)\n",
    "\n",
    "plt.scatter(x,y, c=cm.gnuplot2_r(np.abs(y)), edgecolor='none')"
   ]
  },
  {
   "cell_type": "code",
   "execution_count": null,
   "metadata": {},
   "outputs": [],
   "source": [
    "obs2_corr = correlation_test(esn_pure_pred)"
   ]
  },
  {
   "cell_type": "code",
   "execution_count": null,
   "metadata": {},
   "outputs": [],
   "source": [
    "plt.figure(figsize = (6,6))\n",
    "df = pd.DataFrame({f\"pure prediction\" : pp1_corr, \n",
    "                   f\"parameter aware\" : obs1_corr, \n",
    "                   f\"multiple activations\" : obs2_corr}, index = [0])\n",
    "df = df.melt()\n",
    "df.columns = [\"model\",\"correlation\"]\n",
    "\n",
    "sns.barplot(data = df, x = \"model\", y = \"correlation\" )\n",
    "plt.show()"
   ]
  },
  {
   "cell_type": "markdown",
   "metadata": {},
   "source": [
    "## Noise HPs"
   ]
  },
  {
   "cell_type": "code",
   "execution_count": null,
   "metadata": {},
   "outputs": [],
   "source": [
    "noise_sigma =  0.1"
   ]
  },
  {
   "cell_type": "code",
   "execution_count": null,
   "metadata": {},
   "outputs": [],
   "source": [
    "datas, inputs, t = synthetic_data(desired_length=np.pi * 100, AW_lst = AW_lst)\n",
    "noise_hps = {'n_nodes': 500,\n",
    " 'connectivity': 0.6475559084256522,\n",
    " 'spectral_radius': 1.0265705585479736,\n",
    " 'regularization': 61.27292863528506,\n",
    " 'leaking_rate': 0.010949543677270412,\n",
    " 'bias': 0.5907618999481201,\n",
    "      }\n",
    "\n",
    "problem = 2\n",
    "idx = 2\n",
    "input_train, input_test, target_train, target_test = split_data( inputs[problem][idx], \n",
    "                                                                 datas[problem][idx],\n",
    "                                                                 0.4)\n",
    "plt.plot(datas[problem][idx][:4000])\n",
    "final_figure_plot(datas[problem][idx], None, datas[problem][idx],\n",
    "                  **colors)\n",
    "plt.show()\n",
    "#correlation_test(esn_pure_pred)"
   ]
  },
  {
   "cell_type": "code",
   "execution_count": null,
   "metadata": {},
   "outputs": [],
   "source": [
    "def normal_like(arr_, sigma):\n",
    "    mus = torch.zeros_like(arr_)\n",
    "    sigmas = torch.ones_like(arr_)*sigma\n",
    "    return torch.normal(mean = mus, std = sigmas)\n",
    "\n",
    "# # input_train, input_test, target_train, target_test = input_train2, input_test2, target_train2, target_test2\n",
    "# # plt.plot(datas[problem][idx][:4000])\n",
    "# final_figure_plot(datas[problem][idx], None, datas[problem][idx])\n",
    "\n",
    "GAUSSIAN_NOISE = True\n",
    "if GAUSSIAN_NOISE:\n",
    "    \n",
    "    noisy_target_tr = target_train + normal_like(target_train, noise_sigma)\n",
    "    noisy_target_te = target_test +  normal_like(target_test, noise_sigma)\n",
    "else:\n",
    "\n",
    "    noisy_target_tr = target_train + (torch.rand_like(target_train)-0.5) * noise_sigma\n",
    "    noisy_target_te = target_test + (torch.rand_like(target_test)-0.5) * noise_sigma"
   ]
  },
  {
   "cell_type": "code",
   "execution_count": null,
   "metadata": {},
   "outputs": [],
   "source": [
    "len(noisy_target_tr), len(noisy_target_te)"
   ]
  },
  {
   "cell_type": "code",
   "execution_count": null,
   "metadata": {},
   "outputs": [],
   "source": [
    "%%time\n",
    "RC_noise1 = RcNetwork(**noise_hps, feedback = True, \n",
    "                      activation_function = \"tanh\",\n",
    "#                       activation_function = {\"tanh\" : 0.1, \n",
    "#                                    \"relu\" : 0.9, \n",
    "#                                    \"sin\": 0.05},\n",
    "            random_state = RANDOM_STATE) # was 210\n",
    "RC_noise1.fit(y = noisy_target_tr)\n",
    "score, prediction1 = RC_noise1.test( y = noisy_target_te)\n",
    "\n",
    "\n",
    "RC_noise1.combined_plot(gt_tr_override = target_train, gt_te_override = target_test)\n",
    "print(f\"score: {score}\")\n"
   ]
  },
  {
   "cell_type": "code",
   "execution_count": null,
   "metadata": {},
   "outputs": [],
   "source": [
    "def adjust_labelsize(ax = None):\n",
    "    plt.sca(ax)\n",
    "    plt.xticks(fontsize=label_fontsize)\n",
    "    plt.yticks(fontsize=label_fontsize)"
   ]
  },
  {
   "cell_type": "code",
   "execution_count": null,
   "metadata": {},
   "outputs": [],
   "source": []
  },
  {
   "cell_type": "code",
   "execution_count": null,
   "metadata": {
    "scrolled": true
   },
   "outputs": [],
   "source": [
    "noise_phaseplot_args = {'figsize' : (10,4), \n",
    "                        'noise_xlim' : (-1.2, 1.2),\n",
    "                        'noise_ylim' : (-0.75, 0.75),\n",
    "                        \"label_fontsize\" : 20,\n",
    "                        **colors}\n",
    "\n",
    "#colors['color_gt'] = None#'midnightblue'\n",
    "final_figure_plot(test_gt = target_test, \n",
    "                  noisy_test_gt = noisy_target_te, #'cadetblue',#'slateblue',\n",
    "                  rc_pred = prediction1, \n",
    "                  **noise_phaseplot_args,\n",
    "                  \n",
    "                   )\n",
    "plt.show()\n",
    "noise_corr_1 = correlation_test(RC_noise1)\n",
    "print(\"Try changing xaxis to be the same across all of them\")\n",
    "print(\"Change the function so that it has less arguments, dictionaries directly to key plotting functions\")"
   ]
  },
  {
   "cell_type": "code",
   "execution_count": null,
   "metadata": {},
   "outputs": [],
   "source": [
    "%%time\n",
    "rc_noise2 = RcNetwork(**noise_hps, \n",
    "            random_state = RANDOM_STATE, \n",
    "            feedback = True)\n",
    "            #output_activation = \"tanh\")\n",
    "#             activation_function = {\"tanh\" : 0.1, \n",
    "#                                    \"relu\" : 0.9, \n",
    "#                                    \"sin\": 0.05})#activation_function = \"tanh\")\n",
    "\n",
    "rc_noise2.fit(X = input_train, \n",
    "                  y = noisy_target_tr, \n",
    "                  burn_in = 0)\n",
    "\n",
    "score, prediction2 = rc_noise2.test(X = input_test,\n",
    "            y = noisy_target_te)"
   ]
  },
  {
   "cell_type": "code",
   "execution_count": null,
   "metadata": {},
   "outputs": [],
   "source": [
    "#{'pad'=0.4, 'w_pad'=0.5, 'h_pad'=1.0}"
   ]
  },
  {
   "cell_type": "code",
   "execution_count": null,
   "metadata": {
    "scrolled": true
   },
   "outputs": [],
   "source": [
    "rc_noise2.combined_plot(gt_tr_override = target_train,\n",
    "                        gt_te_override = target_test,\n",
    "                        ylabel_pred = r'$y$, $p$', \n",
    "                        ylabel_resid = r'$MSE$',\n",
    "                        axis_label_fontsize = 25, \n",
    "                        tick_fontsize = 22)\n",
    "plt.show()\n",
    "noise_corr_2 = correlation_test(rc_noise2)\n",
    "#print(f\"score: {score}\")\n"
   ]
  },
  {
   "cell_type": "code",
   "execution_count": null,
   "metadata": {},
   "outputs": [],
   "source": [
    "noise_phaseplot_args"
   ]
  },
  {
   "cell_type": "code",
   "execution_count": null,
   "metadata": {},
   "outputs": [],
   "source": [
    "final_figure_plot(target_test, \n",
    "                  noisy_target_te,\n",
    "                  prediction2,\n",
    "                  **noise_phaseplot_args)\n",
    "\n",
    "                  #ylim_low = -0.8, ylim_high = 0.8)\n",
    "plt.savefig('../fig/rctorch_phase_plot_iconic.pdf', dpi=2400, bbox_inches='tight')"
   ]
  },
  {
   "cell_type": "code",
   "execution_count": null,
   "metadata": {},
   "outputs": [],
   "source": [
    "colors"
   ]
  },
  {
   "cell_type": "code",
   "execution_count": null,
   "metadata": {},
   "outputs": [],
   "source": [
    "\n"
   ]
  },
  {
   "cell_type": "code",
   "execution_count": null,
   "metadata": {},
   "outputs": [],
   "source": []
  },
  {
   "cell_type": "code",
   "execution_count": null,
   "metadata": {},
   "outputs": [],
   "source": [
    "phaseplot_quad_args = noise_phaseplot_args.copy()\n",
    "phaseplot_quad_args['figsize'] = 6.5, 6 #6.25\n",
    "#(6.5,6) was the figsize before rotating the x axis labels\n",
    "phaseplot_quad_args['label_fontsize'] = 20"
   ]
  },
  {
   "cell_type": "code",
   "execution_count": null,
   "metadata": {},
   "outputs": [],
   "source": [
    "phaseplot_quad_args"
   ]
  },
  {
   "cell_type": "code",
   "execution_count": null,
   "metadata": {},
   "outputs": [],
   "source": [
    "print(f\"score: {score}\")\n",
    "plt.rcParams.update({\n",
    "    \"text.usetex\": True})\n",
    "final_figure_plot2(target_test, \n",
    "                  noisy_target_te, \n",
    "                  prediction1,\n",
    "                  prediction2,\n",
    "                  #rotate_xaxis_label = False,\n",
    "                  #title_fontsize = 15,\n",
    "                  #color_noise = \"peru\",\n",
    "                  #label_fontsize = 25,\n",
    "                  **phaseplot_quad_args)\n",
    "                  #figsize = (7, 8))\n",
    "plt.savefig('../fig/rctorch_noise_phase.pdf', dpi=2400, bbox_inches='tight')"
   ]
  },
  {
   "cell_type": "code",
   "execution_count": null,
   "metadata": {},
   "outputs": [],
   "source": [
    "phaseplot_quad_args = noise_phaseplot_args.copy()\n",
    "phaseplot_quad_args['figsize'] = 6.5, 6.1 #6.25\n",
    "#(6.5,6) was the figsize before rotating the x axis labels\n",
    "phaseplot_quad_args['label_fontsize'] = 20"
   ]
  },
  {
   "cell_type": "code",
   "execution_count": null,
   "metadata": {},
   "outputs": [],
   "source": [
    "print(f\"score: {score}\")\n",
    "plt.rcParams.update({\n",
    "    \"text.usetex\": True})\n",
    "final_figure_plot2(target_test, \n",
    "                  noisy_target_te, \n",
    "                  prediction1,\n",
    "                  prediction2,\n",
    "                  #rotate_xaxis_label = True,\n",
    "                  #title_fontsize = 15,\n",
    "                  #color_noise = \"peru\",\n",
    "                  #label_fontsize = 25,\n",
    "                  **phaseplot_quad_args)\n",
    "                  #figsize = (7, 8))\n",
    "plt.savefig('../fig/rctorch_noise_phase.pdf', dpi=2400, bbox_inches='tight')"
   ]
  },
  {
   "cell_type": "code",
   "execution_count": null,
   "metadata": {},
   "outputs": [],
   "source": [
    "# %%time\n",
    "# rc_noise3 = RcNetwork(**noise_hps, \n",
    "#             random_state = RANDOM_STATE, \n",
    "#             feedback = True,\n",
    "#             #output_activation = \"tanh\")\n",
    "#             activation_function = {\"tanh\" : 0.33, \n",
    "#                                    \"relu\" : 0.33, \n",
    "#                                    \"sin\": 0.33})#activation_function = \"tanh\")\n",
    "\n",
    "# rc_noise3.fit(X = input_train, \n",
    "#                   y = noisy_target_tr, \n",
    "#                   burn_in = 0)\n",
    "\n",
    "# score, prediction3 = rc_noise3.test(X = input_test,\n",
    "#             y = noisy_target_te)\n",
    "\n"
   ]
  },
  {
   "cell_type": "code",
   "execution_count": null,
   "metadata": {},
   "outputs": [],
   "source": [
    "# noise_corr_3 = correlation_test(rc_noise3)"
   ]
  },
  {
   "cell_type": "code",
   "execution_count": null,
   "metadata": {},
   "outputs": [],
   "source": [
    "# plt.figure(figsize = (6,6))\n",
    "# df = pd.DataFrame({f\"noise RC 1\" : noise_corr_1, \n",
    "#                    f\"noise RC 2\" : noise_corr_2,\n",
    "#                    f\"noise RC 3\" : noise_corr_3}, index = [0])\n",
    "# df = df.melt()\n",
    "# df.columns = [\"model\",\"correlation\"]\n",
    "\n",
    "# sns.barplot(data = df, x = \"model\", y = \"correlation\" )\n",
    "# plt.show()"
   ]
  },
  {
   "cell_type": "markdown",
   "metadata": {},
   "source": [
    "### BEGIN BO SECTION\n",
    "\n",
    "#### Load data (notice here we use a larger dt). This will dramatically speed up the process."
   ]
  },
  {
   "cell_type": "code",
   "execution_count": null,
   "metadata": {},
   "outputs": [],
   "source": [
    "datas, inputs, t = synthetic_data(force = \"sincos\", \n",
    "                               dt = np.pi /(20), \n",
    "                               desired_length = np.pi *300,\n",
    "                               AW_lst =  [(0.5, 0.6)])"
   ]
  },
  {
   "cell_type": "markdown",
   "metadata": {},
   "source": [
    "\n",
    "### Bayesian optimization Demo\n",
    "\n",
    "First lets investigate what type of behavior may have been causing the increase in the loss function. That is, does the data generated by our integrator for this equation look different that the phase space of the original problem data?\n",
    "\n",
    "#TODO remove noise parts from this section"
   ]
  },
  {
   "cell_type": "code",
   "execution_count": null,
   "metadata": {},
   "outputs": [],
   "source": [
    "noise = 0.1\n",
    "problem, idx = 0, 0\n",
    "input_tr, input_te, target_tr, target_te = split_data( inputs[problem][idx], datas[problem][idx], 0.6) #0.2\n",
    "\n",
    "# noise_target_tr = target_tr + torch.rand_like(target_tr)*noise\n",
    "# noise_target_te = target_te + torch.rand_like(target_te)*noise\n",
    "# input_tr.shape, noise_target_tr.shape"
   ]
  },
  {
   "cell_type": "code",
   "execution_count": null,
   "metadata": {},
   "outputs": [],
   "source": [
    "plt.figure(figsize = (12,4))\n",
    "plt.plot(target_tr[:1000])\n",
    "plt.axis('off')"
   ]
  },
  {
   "cell_type": "code",
   "execution_count": null,
   "metadata": {
    "scrolled": true
   },
   "outputs": [],
   "source": [
    "# #declare the bounds dict. See above for which variables are optimized in linear vs logarithmic space.\n",
    "bounds_dict = { \"connectivity\" : (0,1),\n",
    "                #\"log_connectivity\" : (-2, -0.1), \n",
    "               \"spectral_radius\" : (0.6, 2),\n",
    "               #\"n_nodes\" : (350, 353.1),\n",
    "               \"n_nodes\" : (1, 353.1),\n",
    "               \"log_regularization\" : (-3, 3),\n",
    "               \"leaking_rate\" : (0, 1),\n",
    "               #\"input_scaling\" : (0, 1),\n",
    "               \"input_connectivity\" : (0, 1),\n",
    "               \"feedback_connectivity\" : (0, 1),\n",
    "               \"bias\": (0, 1),\n",
    "               #\"mu\" : (-1, 1),\n",
    "               #'sigma': 0.0015868513697625247, #\"sigma\" : (-3, 0.1),\n",
    "               #\"noise\" :(-3, 0)\n",
    "               \n",
    "               }\n",
    "\n",
    "#declare the esn_cv optimizer: this class will run bayesian optimization to optimize the bounds dict.\n",
    "opt = False\n",
    "if opt:\n",
    "    rc_bayes = RcBayesOpt(bounds = bounds_dict, feedback = True, \n",
    "                                 interactive = True, \n",
    "                                n_jobs = 4, cv_samples = 1, initial_samples = 12, \n",
    "                                random_seed = 210,\n",
    "                          activation_function = \"tanh\", #changed to tanh while working on docs\n",
    "#                           activation_function = {\"tanh\" : 0.1, \n",
    "#                                    \"relu\" : 0.9, \n",
    "#                                    \"sin\": 0.05},\n",
    "                               reservoir_weight_dist = \"uniform\")\n",
    "                                #                                 n_inputs = 1,\n",
    "                                #                                 n_outputs = 2)\n",
    "                              #activation_function = torch.sin,\n",
    "                              #act_f_prime = torch.cos)\n",
    "    #optimize:\n",
    "    opt_hps = rc_bayes.optimize( n_trust_regions = 1, \n",
    "                                  max_evals = 2000,\n",
    "                                  x = input_tr, \n",
    "                                  scoring_method = \"nmse\",\n",
    "                                  y = target_tr)"
   ]
  },
  {
   "cell_type": "code",
   "execution_count": null,
   "metadata": {
    "scrolled": true
   },
   "outputs": [],
   "source": [
    "#rc_bayes.recover_hps()"
   ]
  },
  {
   "cell_type": "code",
   "execution_count": null,
   "metadata": {},
   "outputs": [],
   "source": [
    "# 0)\n",
    "problem = 0\n",
    "idx = 0\n",
    "input_tr, input_te, target_tr, target_te = split_data( inputs[problem][idx], datas[problem][idx], 0.4) #0.2"
   ]
  },
  {
   "cell_type": "code",
   "execution_count": null,
   "metadata": {},
   "outputs": [],
   "source": [
    "plot_data(data = datas[problem][idx], force = inputs[problem][idx])\n",
    "#final_figure_plot(target_te, None, target_te)"
   ]
  },
  {
   "cell_type": "markdown",
   "metadata": {},
   "source": [
    "### With the hps from the main paper:"
   ]
  },
  {
   "cell_type": "code",
   "execution_count": null,
   "metadata": {},
   "outputs": [],
   "source": [
    "%%time\n",
    "\n",
    "main_section_hps = {'connectivity': 0.4071449746896983,\n",
    " 'spectral_radius': 1.1329107284545898,\n",
    " 'n_nodes': 202,\n",
    " 'regularization': 1.6862021450927922,\n",
    " 'leaking_rate': 0.009808523580431938,\n",
    " 'bias': 0.48509588837623596}\n",
    "\n",
    "esn_pure_pred = RcNetwork(**main_section_hps,\n",
    "                          activation_function = \n",
    "                          {\"tanh\" : 0.1, \n",
    "                                   \"relu\" : 0.9, \n",
    "                                   \"sin\": 0.05},\n",
    "                          #activation_function = {'tanh':0.1, 'relu':0.9},\n",
    "                          feedback = True,\n",
    "                          \n",
    "                          random_state = 210) # was 210\n",
    "esn_pure_pred.fit(X = input_tr, y = target_tr, )#X = input_tr, y = target_tr) #input_te\n",
    "score, prediction_old_hps = esn_pure_pred.test( X = input_te, y = target_te, scoring_method = \"nmse\")#input_te, y = target_te)\n",
    "# esn_pure_pred.combined_plot()\n",
    "# final_figure_plot(target_te, None, prediction_old_hps)\n",
    "print(score)"
   ]
  },
  {
   "cell_type": "code",
   "execution_count": null,
   "metadata": {},
   "outputs": [],
   "source": [
    "bo_corr_1 = correlation_test(esn_pure_pred)"
   ]
  },
  {
   "cell_type": "code",
   "execution_count": null,
   "metadata": {},
   "outputs": [],
   "source": []
  },
  {
   "cell_type": "code",
   "execution_count": null,
   "metadata": {},
   "outputs": [],
   "source": [
    "%%time\n",
    "# With activation from the optimized version\n",
    "\n",
    "#w = 7\n",
    "reoptimized_hps = {'connectivity': 0.027590717637616207,\n",
    " 'spectral_radius': 1.8042035102844238,\n",
    " 'n_nodes': int(352.14581298828125),\n",
    " 'regularization': 1.3773347868659582,\n",
    " 'leaking_rate': 0.36422401666641235,\n",
    " 'input_connectivity': 0.9941699504852295,\n",
    " 'feedback_connectivity': 0.8125365972518921,\n",
    " 'bias': 0.7468461394309998}\n",
    "\n",
    "esn_pure_pred = RcNetwork(**reoptimized_hps,\n",
    "                          activation_function = {\"tanh\" : 0.1, \n",
    "                                                 \"relu\" : 0.9, \n",
    "                                                  \"sin\": 0.05},\n",
    "#                           activation_function = {\"relu\" : 0.33, \n",
    "#                                                  \"tanh\" : 0.5, \n",
    "#                                                  \"sin\" : 0.1},\n",
    "                          #activation_function = {'tanh':0.1, 'relu':0.9},\n",
    "                          feedback = True,\n",
    "                          \n",
    "                          random_state = 210) # was 210\n",
    "esn_pure_pred.fit(X = input_tr, y = target_tr)\n",
    "score, prediction_new_hps = esn_pure_pred.test( X = input_te, y = target_te)\n",
    "esn_pure_pred.combined_plot()\n",
    "#final_figure_plot(target_te, None, prediction_new_hps )\n",
    "\n",
    "\n",
    "print(score)"
   ]
  },
  {
   "cell_type": "code",
   "execution_count": null,
   "metadata": {},
   "outputs": [],
   "source": [
    "\n",
    "def final_figure_plot2(test_gt, noisy_test_gt, rc_pred1, rc_pred2, \n",
    "                       color_noise = None, \n",
    "                       color_gt = None, \n",
    "                       color_rc = 'brown', \n",
    "                       alpha = None,\n",
    "                       noisy_format = '.', \n",
    "                       \n",
    "                       linestyle = '--', \n",
    "                       pred_linestyle = \"-.\",\n",
    "                       noise_linestyle = \".\", \n",
    "                       \n",
    "                       linewidth = 1,\n",
    "                       pred_linewidth = 1,\n",
    "                       noise_linewidth = 2,\n",
    "                       \n",
    "                       label_fontsize = 22, \n",
    "                       title_fontsize = 18, \n",
    "                       noisy_alpha = 0.4,\n",
    "                       noisy_s = 1,\n",
    "                       figsize = (9,4), \n",
    "                       legend = False, \n",
    "                       alphas = None,\n",
    "                       noise_xlim = None,\n",
    "                       noise_ylim = None,\n",
    "                       color_map = None,\n",
    "                       #\"label_fontsize\" : 20,\n",
    "                       rotate_xaxis_label = True,\n",
    "                       magma = False):\n",
    "    \n",
    "    # arg_dict = {#\"label\" : label,\n",
    "    #             \"alpha\" : alpha,\n",
    "    #             \"linestyle\" : linestyle,\n",
    "    #             \"linewidth\" : linewidth}\n",
    "    tick_font_reduction = 4\n",
    "    tff = tick_fontsize = label_fontsize-tick_font_reduction\n",
    "    \n",
    "    def _phase_plot(tensor_, label, alpha = 0.9, \n",
    "                   color = None, magma = magma, \n",
    "                   other_val = None, \n",
    "                   linestyle = None, \n",
    "                   linewidth = None,\n",
    "                   s = None):\n",
    "        arg_dict = {\"label\" : label,\n",
    "                    \"alpha\" : alpha,\n",
    "                    \"linewidth\" : linewidth,\n",
    "                    \"linestyle\" : linestyle}\n",
    "\n",
    "\n",
    "\n",
    "        x1, x2 = tensor_[:,0], tensor_[:,1]\n",
    "        \n",
    "\n",
    "        if not magma:\n",
    "            #for the noisy data:\n",
    "            if linestyle == \".\" :\n",
    "                plt.scatter(x1, x2, alpha = arg_dict['alpha'], color = color, s = s)\n",
    "            else:\n",
    "\n",
    "                plt.plot(x1, x2, **arg_dict, color = color)\n",
    "        elif magma:\n",
    "            #resids = ((tensor_ - other_tensor)**2).mean(axis = 1)\n",
    "            plt.scatter(x1, x2, c=color_map_, edgecolor='none')\n",
    "        else:\n",
    "            assert False, f'magma argument: {magma} must be a boolean.'\n",
    "\n",
    "               \n",
    "\n",
    "\n",
    "    \n",
    "    #plot 1 is the real phase space of the  virgin target test set\n",
    "    if noisy_test_gt is not None:\n",
    "        \n",
    "       \n",
    "        fig, ax = plt.subplots(2, 2, figsize = figsize)\n",
    "        ax = ax.flatten()\n",
    "        plt.sca(ax[0])\n",
    "        _phase_plot(test_gt, \"latent_gt\", color = color_gt)\n",
    "        #plt.xlabel(r\"$x$\",  fontsize=label_fontsize)\n",
    "        plt.ylabel(r\"$p$\",  fontsize=label_fontsize)\n",
    "\n",
    "        off_switch('x')\n",
    "        \n",
    "\n",
    "        #plot 2 is the noisy phase space of the target test set\n",
    "        plt.sca(ax[1])\n",
    "        _phase_plot(noisy_test_gt, \n",
    "                    \"noisy_gt\", \n",
    "                   alpha = noisy_alpha, \n",
    "                   color = color_noise, \n",
    "                   magma = False, \n",
    "                   linestyle = '.', \n",
    "                   linewidth = linewidth,\n",
    "                   s = noisy_s)\n",
    "        \n",
    "        #ax[1].set_title(\"Data\", fontsize = title_fontsize)\n",
    "        #plt.xlabel(r\"$x$\",  fontsize=label_fontsize)\n",
    "        \n",
    "        #turn off axis ticks and labels\n",
    "        off_switch('both')\n",
    "\n",
    "        #plot 3 is the phase space of the rc\n",
    "        plt.sca(ax[2])\n",
    "        _phase_plot(rc_pred1, \"rc_prediction\", \n",
    "                   linestyle = pred_linestyle, \n",
    "                   color = color_rc, linewidth = linewidth)\n",
    "        #ax[2].set_title(\"RC pure prediction\", fontsize = title_fontsize)\n",
    "        plt.xlabel(r\"$x$\",  fontsize=label_fontsize)\n",
    "        plt.ylabel(r\"$p$\",  fontsize=label_fontsize)\n",
    "        \n",
    "#         plt.tick_params(\n",
    "#                         axis='y',          # changes apply to the x-axis\n",
    "#                         which='both',      # both major and minor ticks are affected\n",
    "#                         left=False,      # ticks along the bottom edge are off\n",
    "#                         #top=False,         # ticks along the top edge are off\n",
    "#                         labelleft=False) \n",
    "        \n",
    "        plt.sca(ax[3])\n",
    "        _phase_plot(rc_pred2, \"rc_prediction\", linestyle = pred_linestyle, color = color_rc)\n",
    "        #ax[3].set_title(\"RC w/ driven force\", fontsize = title_fontsize)\n",
    "        plt.xlabel(r\"$x$\",  fontsize=label_fontsize)\n",
    "        #plt.ylabel(\"momentum\")\n",
    "        \n",
    "        off_switch('y')\n",
    "\n",
    "        plt.tight_layout()\n",
    "\n",
    "        if noise_xlim:\n",
    "            for i in range(4):\n",
    "                ax[i].set_xlim(noise_xlim)\n",
    "        \n",
    "        if noise_ylim:\n",
    "            for i in range(4):\n",
    "                ax[i].set_ylim(noise_ylim)\n",
    "        [ (plt.sca(ax[i]), plt.xticks(fontsize=tff), plt.yticks(fontsize=tff)) for i in range(4)]\n",
    "        \n",
    "        if rotate_xaxis_label:\n",
    "            [ (plt.sca(ax[i]), plt.xticks(rotation=45)) for i in range(4)]\n",
    "        \n",
    "        #plt.xticks(rotation=45)\n",
    "    else:\n",
    "        fig, ax = plt.subplots(1, 3, figsize = figsize)\n",
    "        \n",
    "        plt.sca(ax[0])\n",
    "        _phase_plot(test_gt, \"latent_gt\", color = color_gt, alpha = alphas[0])\n",
    "        plt.xlabel(r\"$x$\",  fontsize=label_fontsize)\n",
    "        plt.ylabel(r\"$p$\",  fontsize=label_fontsize)\n",
    "        \n",
    "        plt.sca(ax[1])\n",
    "        plt.tick_params(labelleft=False)\n",
    "        _phase_plot(rc_pred1, \"rc_prediction\",  linestyle = pred_linestyle, color = color_rc, alpha = alphas[1])\n",
    "        plt.xlabel(r\"$x$\",  fontsize=label_fontsize)\n",
    "        plt.tight_layout()\n",
    "        \n",
    "        plt.tick_params(\n",
    "                        axis='y',          # changes apply to the x-axis\n",
    "                        which='both',      # both major and minor ticks are affected\n",
    "                        left=False,      # ticks along the bottom edge are off\n",
    "                        labelleft=False) \n",
    "        \n",
    "        plt.sca(ax[2])\n",
    "        plt.tick_params(labelleft=False)\n",
    "        #alpha = alphas[2], linestyle = noise_linestyle)\n",
    "        _phase_plot(rc_pred2, \"rc_prediction\",  \n",
    "                   color = color_rc, \n",
    "                   linewidth = noise_linewidth,\n",
    "                   alpha = alphas[2], \n",
    "                   linestyle = noise_linestyle)#linestyle = pred_linestyle, alpha = alphas[1])\n",
    "        \n",
    "        plt.xlabel(r\"$x$\",  fontsize=label_fontsize)\n",
    "        plt.tight_layout()\n",
    "        \n",
    "        plt.tick_params(\n",
    "                        axis='y',          # changes apply to the x-axis\n",
    "                        which='both',      # both major and minor ticks are affected\n",
    "                        left=False,      # ticks along the bottom edge are off\n",
    "                        labelleft=False) \n",
    "        \n",
    "        # ax[0].set_title(\"Ground Truth\", fontsize = title_fontsize)\n",
    "        # ax[1].set_title(\"RC Prediction old hps\", fontsize = title_fontsize)\n",
    "        # ax[2].set_title(\"RC Prediction new hps\", fontsize = title_fontsize)\n",
    "        \n",
    "        [ (plt.sca(ax[i]), plt.xticks(fontsize=tff), plt.yticks(fontsize=tff)) for i in range(3)]\n",
    "        if rotate_xaxis_label:\n",
    "            [ (plt.sca(ax[i]), plt.xticks(rotation=45)) for i in range(3)]\n",
    "        \n",
    "        \n",
    "    if legend:\n",
    "        handles, labels = ax[0].get_legend_handles_labels()\n",
    "        handles2, labels2 = ax[1].get_legend_handles_labels()\n",
    "        print('handles type:', type(handles))\n",
    "\n",
    "        lines = handles + handles2\n",
    "        labels = labels + labels2\n",
    "\n",
    "        fig.legend( lines, labels, loc = (0.5, 0), ncol=5 )\n",
    "        \n",
    "        #ax.axes.xaxis.set_visible(False)"
   ]
  },
  {
   "cell_type": "code",
   "execution_count": null,
   "metadata": {},
   "outputs": [],
   "source": [
    "pwd"
   ]
  },
  {
   "cell_type": "code",
   "execution_count": null,
   "metadata": {},
   "outputs": [],
   "source": [
    "#[0.6,0.8,0.2]\n",
    "final_figure_plot2(target_te, None, prediction_old_hps, \n",
    "                   prediction_new_hps, \n",
    "                   alphas = [0.3,0.8,0.3], figsize = (12,4), title_fontsize = 18, \n",
    "                           noise_linewidth=3, noise_linestyle = '-.')\n",
    "plt.savefig('../fig/BO_phase.pdf', dpi=2400, bbox_inches='tight')"
   ]
  },
  {
   "cell_type": "code",
   "execution_count": null,
   "metadata": {},
   "outputs": [],
   "source": [
    "bo_corr_2 = correlation_test(esn_pure_pred)"
   ]
  },
  {
   "cell_type": "code",
   "execution_count": null,
   "metadata": {},
   "outputs": [],
   "source": [
    "#df_.to_csv(\"rctorch_experiments2.csv\")"
   ]
  },
  {
   "cell_type": "code",
   "execution_count": null,
   "metadata": {},
   "outputs": [],
   "source": [
    "%%time\n",
    "# With activation from the optimized version\n",
    "\n",
    "#w = 7\n",
    "reoptimized_hps = {'connectivity': 0.027590717637616207,\n",
    " 'spectral_radius': 1.8042035102844238,\n",
    " 'n_nodes': int(352.14581298828125),\n",
    " 'regularization': 1.3773347868659582,\n",
    " 'leaking_rate': 0.36422401666641235,\n",
    " 'input_connectivity': 0.9941699504852295,\n",
    " 'feedback_connectivity': 0.8125365972518921,\n",
    " 'bias': 0.7468461394309998}\n",
    "\n",
    "esn_pure_pred = RcNetwork(**reoptimized_hps,\n",
    "#                           activation_function = {\"tanh\" : 0.33, \n",
    "#                                                  \"relu\" : 0.33, \n",
    "#                                                   \"sin\": 0.33},\n",
    "#                           activation_function = {\"relu\" : 0.33, \n",
    "#                                                  \"tanh\" : 0.5, \n",
    "#                                                  \"sin\" : 0.1},\n",
    "                          #activation_function = {'tanh':0.1, 'relu':0.9},\n",
    "                          feedback = True,\n",
    "                          random_state = 210) # was 210\n",
    "esn_pure_pred.fit(X = input_tr, y = target_tr)\n",
    "score, prediction_new_hps = esn_pure_pred.test( X = input_te, y = target_te)\n",
    "#esn_pure_pred.combined_plot()\n",
    "#final_figure_plot(target_te, None, prediction_new_hps )\n",
    "\n",
    "#final_figure_plot2(target_te, None, prediction_old_hps, prediction_new_hps, figsize = (12,4), title_fontsize = 18)\n"
   ]
  },
  {
   "cell_type": "code",
   "execution_count": null,
   "metadata": {},
   "outputs": [],
   "source": [
    "bo_corr_3 = correlation_test(esn_pure_pred)"
   ]
  },
  {
   "cell_type": "code",
   "execution_count": null,
   "metadata": {},
   "outputs": [],
   "source": [
    "df"
   ]
  },
  {
   "cell_type": "code",
   "execution_count": null,
   "metadata": {},
   "outputs": [],
   "source": [
    "\n",
    "plt.figure(figsize = (6,6))\n",
    "df = pd.DataFrame({\n",
    "                   f\"bo RC old hps\" : bo_corr_1,\n",
    "                   f\"new hps 1 act\" : bo_corr_3,\n",
    "                   f\"new hps multi act\" : bo_corr_2}, index = [0])\n",
    "df = df.melt()\n",
    "df.columns = [\"model\",\"correlation\"]\n",
    "\n",
    "sns.barplot(data = df, x = \"model\", y = \"correlation\" )\n",
    "plt.show()"
   ]
  },
  {
   "cell_type": "markdown",
   "metadata": {},
   "source": [
    "### This section will be a force comparison\n",
    "1. Marios's idea\n",
    "2. evaluated on different forces\n",
    "\n",
    "We need a class that can easily store the different data that we want. ie. cos for different alpha and phi\n",
    "\n",
    "$$F \\propto \\alpha f(\\omega T)$$\n",
    "\n",
    "two plots: {$\\omega$ vs. L}, {$\\omega$ vs. $\\alpha$}\n",
    "$$f \\in {\\alpha sin(\\omega), cos(\\omega), \\alpha * sin(\\omega)*cos(\\omega), sin(2\\omega)}$$"
   ]
  },
  {
   "cell_type": "code",
   "execution_count": null,
   "metadata": {},
   "outputs": [],
   "source": [
    "dt = np.pi/200\n",
    "(dt * 20000)/np.pi"
   ]
  },
  {
   "cell_type": "code",
   "execution_count": null,
   "metadata": {},
   "outputs": [],
   "source": [
    "# #original was 8000, and 40 pi\n",
    "# #new is  20000 and 100 pi to preserve dt\n",
    "\n",
    "\n",
    "#my_fp.plot_()\n",
    "\n"
   ]
  },
  {
   "cell_type": "code",
   "execution_count": null,
   "metadata": {},
   "outputs": [],
   "source": [
    "#small_dataset.find_resonance()\n",
    "PLOT_RESONANCE = False\n",
    "if PLOT_RESONANCE:\n",
    "    small_dataset.plot_resonant(5)"
   ]
  },
  {
   "cell_type": "code",
   "execution_count": null,
   "metadata": {},
   "outputs": [],
   "source": [
    "#small_dataset.datasets"
   ]
  },
  {
   "cell_type": "code",
   "execution_count": null,
   "metadata": {},
   "outputs": [],
   "source": [
    "# obs_inputs = {\"target_tr\" : a,\n",
    "#               \"target_te\" : b,\n",
    "#               \"obs_tr\" : None,\n",
    "#               \"obs_te\" : None}\n"
   ]
  },
  {
   "cell_type": "code",
   "execution_count": null,
   "metadata": {},
   "outputs": [],
   "source": [
    "%%time\n",
    "# noise_hps = {'n_nodes': 500,\n",
    "#  'connectivity': 0.20541412114258625,\n",
    "#  'spectral_radius': 1.4592119455337524,\n",
    "#  'regularization': 7.651269704734278,\n",
    "#  'leaking_rate': 0.017093051224946976,\n",
    "#  'bias': 0.36459600925445557}\n",
    "noise_hps = {'connectivity': 0.4071449746896983,\n",
    " 'spectral_radius': 1.1329107284545898,\n",
    " 'n_nodes': 202,\n",
    " 'regularization': 1.6862021450927922,\n",
    " 'leaking_rate': 0.009808523580431938,\n",
    " 'bias': 0.48509588837623596}"
   ]
  },
  {
   "cell_type": "code",
   "execution_count": null,
   "metadata": {},
   "outputs": [],
   "source": [
    "#a_range, w_range"
   ]
  },
  {
   "cell_type": "code",
   "execution_count": null,
   "metadata": {},
   "outputs": [],
   "source": [
    "\n",
    "\n",
    "a_range = np.arange(0.1, 1.0, 0.05)\n",
    "w_range = np.arange(0.1, 1.0, 0.05)\n",
    "\n",
    "force_experiments = False\n",
    "if force_experiments:\n",
    "    for force__ in [\"sin\", \"cos\", \"sincos\"]:\n",
    "        small_dataset = Fp_DataGen(A_range = a_range, W_range = w_range, Nt = 8000, length = 40*np.pi,\n",
    "                                   force = force__)\n",
    "        rez = retrieve_dataset(small_dataset, noise_hps)\n",
    "        pd_results, all_data = make_results_dfs(rez)\n",
    "        #print(pd_results)\n",
    "        fp_base = '../new_results/' + force__\n",
    "        fp1 = fp_base +'_results.csv'\n",
    "        fp2 = fp_base + '_all_data.pickle'\n",
    "        pd_results.to_csv(fp1)\n",
    "        with open(fp2, 'wb') as handle:\n",
    "            pickle.dump(all_data, handle, protocol=pickle.HIGHEST_PROTOCOL)\n",
    "\n",
    "#         \n",
    "\n",
    "# print a == b"
   ]
  },
  {
   "cell_type": "code",
   "execution_count": null,
   "metadata": {},
   "outputs": [],
   "source": [
    "figsize = (10,5)"
   ]
  },
  {
   "cell_type": "code",
   "execution_count": null,
   "metadata": {},
   "outputs": [],
   "source": [
    "from IPython.core.debugger import Pdb\n",
    "\n",
    "def get_even_numbers(numbers):\n",
    "    even_numbers = []\n",
    "\n",
    "    for number in numbers:\n",
    "        if number % 2 == 0:\n",
    "            even_numbers.append(number)\n",
    "\n",
    "    return even_numbers"
   ]
  },
  {
   "cell_type": "code",
   "execution_count": null,
   "metadata": {},
   "outputs": [],
   "source": [
    "def load_and_view(force = \"cos\", \n",
    "                  val = \"mean\", \n",
    "                  observers = True, \n",
    "                  vmin = 10**(-4.5), \n",
    "                  vmax = 1, \n",
    "                  cbar = False, \n",
    "                  figsize = (6,6), \n",
    "                  ax = None, \n",
    "                  label_off = False, \n",
    "                  view = True, \n",
    "                  label_fontsize = 19, \n",
    "                  tick_fontsize  = 16,\n",
    "                  cbar_ax = None,\n",
    "                  xlabel_off = False,\n",
    "                  cbar_kws = None,\n",
    "                  ylabel = r'$\\alpha$',\n",
    "                  nbins = 10,\n",
    "                  bp = \"..\"):\n",
    "    \"\"\"\n",
    "    force: can be \"sin\", \"cos\", or \"sincos\"\n",
    "    val: can be \"mean\" or \"max\"\n",
    "    \"\"\"\n",
    "    if val == \"mean\":\n",
    "        val_ = \"mean_resid\"\n",
    "    if val == \"max\":\n",
    "        val_ = \"max_resid\"\n",
    "    tff =  tick_fontsize\n",
    "    if observers:\n",
    "        \n",
    "        fp  = os.path.join(bp, \"new_results\", force + \"_results.csv\")\n",
    "        fp2 = os.path.join(bp, \"new_results\", force + \"_all_data.pickle\")\n",
    "    else:\n",
    "        fp  = os.path.join(bp, \"new_results/no_obs\", force + \"_results.csv\")\n",
    "        fp2 = os.path.join(bp, \"new_results/no_obs\", force + \"_all_data.pickle\")\n",
    "\n",
    "    pd_results_ = pd.read_csv(fp)\n",
    "    pd_results_.head()\n",
    "    \n",
    "    with open(fp2, 'rb') as handle:\n",
    "        cos_results = pickle.load(handle)\n",
    "    if ax:\n",
    "        plt.sca(ax)\n",
    "        \n",
    "    #plt.title(force + \" force: \" + val)\n",
    "    pivot = pd_results_.pivot(index='a', columns='w', values=val_)\n",
    "    \n",
    "    if view:\n",
    "        if ax is None:\n",
    "            plt.figure(figsize= figsize)\n",
    "        plt.sca(ax)\n",
    "        g = sns.heatmap(pivot, vmin = vmin, vmax = vmax,  cbar_ax = cbar_ax, cbar_kws = cbar_kws,\n",
    "                    norm=LogNorm(vmin = vmin , vmax = vmax), cmap = \"rocket\", cbar = cbar)\n",
    "                    #zmin = zmin)\n",
    "        \n",
    "\n",
    "        #cmap = \"cubehelix\")  #)#np.log10(pivot))\n",
    "        g.set_facecolor('royalblue')#'lightblue')#'lightpink')\n",
    "        yticklabels = g.get_yticklabels()\n",
    "        xticklabels = g.get_xticklabels()\n",
    "        g.set_yticklabels([round(float(yticklabels[i].get_text()),3) for i in  range(len(yticklabels))])\n",
    "        g.set_xticklabels([round(float(xticklabels[i].get_text()),3) for i in  range(len(xticklabels))])\n",
    "        \n",
    "        \n",
    "        numbers = list(range(len(yticklabels)))\n",
    "        \n",
    "        idxs = get_even_numbers(numbers)\n",
    "        #Pdb().set_trace()\n",
    "        #here we want to reduce the tick labels by 50%.\n",
    "        \n",
    "        rounded_labels_y = np.array([round(float(yticklabels[i].get_text()),3) for i in  range(len(yticklabels))])\n",
    "        \n",
    "        rounded_labels_x = np.array([round(float(xticklabels[i].get_text()),3) for i in  range(len(xticklabels))])\n",
    "        g.set_yticklabels(rounded_labels_y)\n",
    "        g.set_xticklabels(rounded_labels_x)\n",
    "        if xlabel_off:\n",
    "            off_switch('x')\n",
    "            plt.xlabel(None)\n",
    "        else:\n",
    "            plt.xlabel(r'$\\omega$', fontsize=label_fontsize)\n",
    "        \n",
    "        plt.locator_params(axis='y', nbins=nbins)\n",
    "        plt.locator_params(axis='x', nbins=nbins)\n",
    "\n",
    "        if label_off:\n",
    "            plt.tick_params(    labelsize = tick_fontsize,\n",
    "                                axis='y',          # changes apply to the x-axis\n",
    "                                which='both',      # both major and minor ticks are affected\n",
    "                                left=False,      # ticks along the bottom edge are off\n",
    "                                labelleft=False)\n",
    "            \n",
    "            plt.ylabel(None, fontsize = 1)\n",
    "        else:\n",
    "            plt.ylabel(ylabel, fontsize=label_fontsize)\n",
    "            #plt.sca(ax[i]),\n",
    "    [ ( plt.xticks(fontsize=tff), plt.yticks(fontsize=tff), plt.xticks(rotation=45)) for i in range(1)]\n",
    "    #ylabels = ['{:,.2f}'.format(x) for x in g.get_yticks()]\n",
    "    #g.set_yticklabels(ylabels)\n",
    "    #plt.show()\n",
    "    return cos_results"
   ]
  },
  {
   "cell_type": "code",
   "execution_count": null,
   "metadata": {},
   "outputs": [],
   "source": [
    "# fig, ax = plt.subplots(1,2, figsize = (10,5), gridspec_kw={'width_ratios': [1, 1.15]})\n",
    "# obs_sin = load_and_view(\"sin\", \n",
    "#                         cbar = False, \n",
    "#                         **NBINS,\n",
    "#                         figsize = figsize, ax = ax[0])\n",
    "# pp_sin  = load_and_view(\"sin\", \n",
    "#                         observers = False, \n",
    "#                         figsize = figsize, \n",
    "#                         ax = ax[1], \n",
    "#                         cbar = True, \n",
    "#                         #**NBINS,\n",
    "#                         label_off = True)\n",
    "# #plt.suptitle(r\"$f = \\alpha \\sin(\\omega t)$\", fontsize = 20)\n",
    "# plt.tight_layout()\n",
    "# plt.savefig('heatmap_sin.pdf', dpi=2400, bbox_inches='tight')"
   ]
  },
  {
   "cell_type": "code",
   "execution_count": null,
   "metadata": {},
   "outputs": [],
   "source": [
    "fig, ax = plt.subplots(1,2, figsize = (10,5), gridspec_kw={'width_ratios': [1, 1.15]})\n",
    "obs_sin = load_and_view(\"cos\", \n",
    "                        cbar = False, \n",
    "                        figsize = figsize, \n",
    "                        ax = ax[0])\n",
    "pp_sin = load_and_view(\"cos\", observers = False, figsize = figsize, ax = ax[1], cbar = True, label_off = True)\n",
    "#plt.suptitle(r\"$f = \\alpha \\cos(\\omega t)$\", fontsize = 20)\n",
    "plt.tight_layout()\n",
    "plt.savefig('../fig/heatmap_cos.pdf', dpi=2400, bbox_inches='tight')"
   ]
  },
  {
   "cell_type": "code",
   "execution_count": null,
   "metadata": {},
   "outputs": [],
   "source": [
    "ls new_results"
   ]
  },
  {
   "cell_type": "code",
   "execution_count": null,
   "metadata": {},
   "outputs": [],
   "source": [
    "fig, ax = plt.subplots(1,2, figsize = (10,5), gridspec_kw={'width_ratios': [1, 1.15]})\n",
    "obs_sin = load_and_view(\"sin\", \n",
    "                        cbar = False, \n",
    "                        figsize = figsize, \n",
    "                        ax = ax[0])\n",
    "pp_sin = load_and_view(\"sin\", observers = False, figsize = figsize, ax = ax[1], cbar = True, label_off = True)\n",
    "#plt.suptitle(r\"$f = \\alpha \\cos(\\omega t)$\", fontsize = 20)\n",
    "plt.tight_layout()\n",
    "plt.savefig('../fig/heatmap_sin.pdf', dpi=2400, bbox_inches='tight')"
   ]
  },
  {
   "cell_type": "code",
   "execution_count": null,
   "metadata": {},
   "outputs": [],
   "source": [
    "fig, ax = plt.subplots(1,2, figsize = (10,5), gridspec_kw={'width_ratios': [1, 1.15]})\n",
    "obs_sin = load_and_view(\"sincos\", \n",
    "                        cbar = False, \n",
    "                        figsize = figsize, \n",
    "                        ax = ax[0])\n",
    "pp_sin = load_and_view(\"sincos\", observers = False, figsize = figsize, ax = ax[1], cbar = True, label_off = True)\n",
    "#plt.suptitle(r\"$f = \\alpha \\cos(\\omega t)$\", fontsize = 20)\n",
    "plt.tight_layout()\n",
    "plt.savefig('../fig/heatmap_sincos.pdf', dpi=2400, bbox_inches='tight')"
   ]
  },
  {
   "cell_type": "code",
   "execution_count": null,
   "metadata": {
    "scrolled": false
   },
   "outputs": [],
   "source": [
    "reduce_frac = 0.75\n",
    "\n",
    "fontsizes = {\"label_fontsize\": 21*reduce_frac, #19, \n",
    "             \"tick_fontsize\" : 16*reduce_frac, #16,\n",
    "             \"figsize\" : figsize}\n",
    "\n",
    "fig, ax = plt.subplots(2,2, figsize = (7,7), gridspec_kw={'width_ratios': [1.1, 1.15]})\n",
    "\n",
    "cbar_ax = fig.add_axes([1.0, 0.1073, .03, 0.8729])\n",
    "\n",
    "#top-left\n",
    "obs_sin = load_and_view(\"sin\", #ylabel = r'\\begin{center}$f = sin$ \\\\ $\\alpha$\\end{center} \\\\',\n",
    "                        cbar = True, **fontsizes,\n",
    "                        ax = ax[0,1], xlabel_off = True,label_off = True,  cbar_ax = cbar_ax)\n",
    "#top-right\n",
    "pp_sin = load_and_view(\"sin\", observers = False, ax = ax[0,0], **fontsizes,\n",
    "                       cbar = False, xlabel_off = True)\n",
    "#bottom left\n",
    "pp_sincos = load_and_view(\"sincos\", observers = False, **fontsizes,\n",
    "                          ax = ax[1,0], \n",
    "                          cbar = False)\n",
    "#bottom right\n",
    "obs_sincos = load_and_view(\"sincos\", cbar = False, **fontsizes,\n",
    "                           ax = ax[1,1], \n",
    "                          label_off = True) #ylabel = r'\\begin{center}$f = sincos$ \\\\ $\\alpha$\\end{center} \\\\',)\n",
    "\n",
    "\n",
    "\n",
    "#reference for multiple subplots cbar:\n",
    "#https://stackoverflow.com/questions/28356359/one-colorbar-for-seaborn-heatmaps-in-subplot\n",
    "\n",
    "#plt.colorbar(ax)\n",
    "\n",
    "\n",
    "#plt.suptitle(r\"$f = \\alpha \\sin(\\omega t) \\cos(\\omega t)$\", fontsize = 20)\n",
    "plt.tight_layout()\n",
    "plt.savefig('../fig/heatmaps_joint.pdf', dpi=2400, bbox_inches='tight')"
   ]
  },
  {
   "cell_type": "code",
   "execution_count": null,
   "metadata": {},
   "outputs": [],
   "source": [
    "# figsize = (5,5)\n",
    "# obs_sin = load_and_view(\"sin\", cbar = False, figsize = figsize)\n",
    "# obs_sincos = load_and_view(\"sincos\",  cbar = False, figsize = figsize)\n",
    "# obs_cos = load_and_view(\"cos\",  cbar = False, figsize = figsize)"
   ]
  },
  {
   "cell_type": "code",
   "execution_count": null,
   "metadata": {},
   "outputs": [],
   "source": [
    "# figsize = (6.2,5)\n",
    "# sin_no_obs = load_and_view(\"sin\", observers = False, cbar = True, figsize = figsize)\n",
    "# sincos_no_obs = load_and_view(\"sincos\", observers = False, cbar = True, figsize = figsize)\n",
    "# cos_no_obs = load_and_view(\"cos\", observers = False, cbar = True, figsize = figsize)"
   ]
  },
  {
   "cell_type": "code",
   "execution_count": null,
   "metadata": {},
   "outputs": [],
   "source": [
    "#AW_lst = [(0.5, 0.3), (0.85, 0.5), (0.95, 0.22)]\n",
    "AW_lst = [(0.3, 0.5), (0.5, 0.85), (0.2, 0.95)]\n",
    "datas_, inputs_, t_ = synthetic_data(desired_length=np.pi * 150, AW_lst = AW_lst)"
   ]
  },
  {
   "cell_type": "code",
   "execution_count": null,
   "metadata": {},
   "outputs": [],
   "source": [
    "#datas[aw_set][ic_set].shape"
   ]
  },
  {
   "cell_type": "code",
   "execution_count": null,
   "metadata": {},
   "outputs": [],
   "source": [
    "#t"
   ]
  },
  {
   "cell_type": "code",
   "execution_count": null,
   "metadata": {},
   "outputs": [],
   "source": [
    "#datas"
   ]
  },
  {
   "cell_type": "code",
   "execution_count": null,
   "metadata": {},
   "outputs": [],
   "source": [
    "fig, ax = plt.subplots(2,3, figsize = (12.5, 7))\n",
    "axis_fontsize = 25\n",
    "tick_fontsize = 20\n",
    "ax=ax.flatten()\n",
    "for i, (ic_set, aw_set) in enumerate([(0,0), (3,1), (0,2)]):\n",
    "    \n",
    "    ax = ax.flatten()\n",
    "    data_ = datas_[aw_set][ic_set]\n",
    "    plt.sca(ax[i])\n",
    "    plt.plot(t_.ravel(), data_)\n",
    "    plt.xlabel(r'$t$', fontsize = axis_fontsize)\n",
    "    plt.xticks(fontsize = tick_fontsize)\n",
    "    if i == 0:\n",
    "        plt.ylabel(r'$x, p$', fontsize = axis_fontsize)\n",
    "#     else:\n",
    "#         plt.tick_params(left=False)\n",
    "    \n",
    "    plt.tick_params(labelleft=False, left = False,labelsize = tick_fontsize)\n",
    "    #plt.tick_params(labelbottom=False)\n",
    "    \n",
    "    plt.sca(ax[i+3])\n",
    "#     if i > 0:\n",
    "#         plt.tick_params(labelleft=False)\n",
    "#     #else:\n",
    "    if i == 0:\n",
    "        plt.ylabel(r'$p$', fontsize = axis_fontsize)\n",
    "#     else:\n",
    "#         plt.tick_params(left=False)\n",
    "    plt.tick_params(labelleft=False, left = False,\n",
    "                   labelsize = tick_fontsize)\n",
    "    \n",
    "#     plt.tick_params(\n",
    "#     axis='x',          # changes apply to the x-axis\n",
    "#     which='both',      # both major and minor ticks are affected\n",
    "#     bottom=False,      # ticks along the bottom edge are off\n",
    "#     top=False,         # ticks along the top edge are off\n",
    "#     labelbottom=False) # labels along the bottom edge are off\n",
    "        \n",
    "    plt.plot(data_[:,0], data_[:,1], color ='navy', alpha = 0.7)\n",
    "    plt.xlabel(r'$x$', fontsize = axis_fontsize)\n",
    "    plt.xticks(fontsize = tick_fontsize)\n",
    "    \n",
    "plt.tight_layout()\n",
    "plt.savefig('../fig/example trajectories.pdf', dpi=2400, bbox_inches='tight')\n",
    "#final_figure_plot(datas[aw_set][ic_set], None,datas[aw_set][ic_set])"
   ]
  },
  {
   "cell_type": "code",
   "execution_count": null,
   "metadata": {},
   "outputs": [],
   "source": [
    "# fig, ax = plt.subplots(3,2, figsize = (9, 9))\n",
    "# axis_fontsize = 22\n",
    "# tick_fontsize = 1\n",
    "# ax=ax.flatten()\n",
    "# for i, (ic_set, aw_set) in enumerate([(0,0), (3,1), (0,2)]):\n",
    "    \n",
    "#     ax = ax.flatten()\n",
    "#     data_ = datas_[aw_set][ic_set]\n",
    "#     plt.sca(ax[2*i])\n",
    "#     if i == 2:\n",
    "#         plt.xlabel(r'$t$', fontsize = axis_fontsize)\n",
    "#     plt.plot(t_.ravel(), data_)\n",
    "    \n",
    "#     plt.xticks(fontsize = tick_fontsize)\n",
    "#     plt.ylabel(r'$x, p$', fontsize = axis_fontsize)\n",
    "# #     else:\n",
    "# #         plt.tick_params(left=False)\n",
    "    \n",
    "#     plt.tick_params(labelleft=False, left = False)\n",
    "#     #plt.tick_params(labelbottom=False)\n",
    "    \n",
    "#     plt.sca(ax[2*i+1])\n",
    "#     if i == 2:\n",
    "#         plt.xlabel(r'$x$', fontsize = axis_fontsize)\n",
    "        \n",
    "    \n",
    "#     plt.ylabel(r'$p$', fontsize = axis_fontsize)\n",
    "# #     else:\n",
    "# #         plt.tick_params(left=False)\n",
    "#     plt.tick_params(labelleft=False, left = False)\n",
    "    \n",
    "# #     plt.tick_params(\n",
    "# #     axis='x',          # changes apply to the x-axis\n",
    "# #     which='both',      # both major and minor ticks are affected\n",
    "# #     bottom=False,      # ticks along the bottom edge are off\n",
    "# #     top=False,         # ticks along the top edge are off\n",
    "# #     labelbottom=False) # labels along the bottom edge are off\n",
    "        \n",
    "#     plt.plot(data_[:,0], data_[:,1], color ='navy', alpha = 0.7)\n",
    "    \n",
    "#     plt.xticks(fontsize = tick_fontsize)\n",
    "    \n",
    "# plt.tight_layout()\n",
    "# plt.savefig('example trajectories.pdf', dpi=2400, bbox_inches='tight')\n",
    "# #final_figure_plot(datas[aw_set][ic_set], None,datas[aw_set][ic_set])"
   ]
  },
  {
   "cell_type": "code",
   "execution_count": null,
   "metadata": {},
   "outputs": [],
   "source": [
    "ic_set = 1\n",
    "aw_set = 0\n",
    "plt.plot(datas[aw_set][ic_set])\n",
    "final_figure_plot(datas[aw_set][ic_set], None,datas[aw_set][ic_set])"
   ]
  },
  {
   "cell_type": "code",
   "execution_count": null,
   "metadata": {},
   "outputs": [],
   "source": [
    "ic_set = 0\n",
    "aw_set = 1\n",
    "plt.plot(datas[aw_set][ic_set])\n",
    "final_figure_plot(datas[aw_set][ic_set], None,datas[aw_set][ic_set])"
   ]
  },
  {
   "cell_type": "code",
   "execution_count": null,
   "metadata": {},
   "outputs": [],
   "source": [
    "ic_set = 3\n",
    "aw_set = 2\n",
    "plt.plot(datas[aw_set][ic_set])\n",
    "final_figure_plot(datas[aw_set][ic_set], None,datas[aw_set][ic_set])"
   ]
  },
  {
   "cell_type": "code",
   "execution_count": null,
   "metadata": {},
   "outputs": [],
   "source": []
  },
  {
   "cell_type": "code",
   "execution_count": null,
   "metadata": {},
   "outputs": [],
   "source": [
    "#print(cos_results[0].keys())\n",
    "\n",
    "def plot_pred_(i, eq = \"sin\",  plot_test_set = False, phase_plot = False, trajectories = True):\n",
    "    #print\n",
    "    if plot_test_set:\n",
    "        keys = \"te_target\", \"te_pred\"\n",
    "    else:\n",
    "        keys = \"tr_target\", \"tr_pred\"\n",
    "    \n",
    "    #plt.figure(figsize = (6,2))\n",
    "    cos_results = load_and_view(eq, view = False)#cos_results[i]\n",
    "    cos_result=cos_results[i]\n",
    "    print('lem', len(cos_results))\n",
    "    print(cos_result.keys())\n",
    "    #print(cos_result)\n",
    "    \n",
    "    \n",
    "    pred = cos_result[keys[1]]\n",
    "    gt = cos_result[keys[0]]\n",
    "    \n",
    "    if trajectories:\n",
    "        fig, ax = plt.subplots(1,2, figsize = (14,3))\n",
    "        ax[0].plot(pred, '--', linewidth = 2)\n",
    "        ax[0].plot(gt, alpha = 0.5, linewidth = 2)\n",
    "        def num(num):\n",
    "            return round(float(num),3)\n",
    "        a, w, r = num(cos_result['a']), num(cos_result['w']), cos_result['mean_resid']\n",
    "        titl = f\"{eq} : a={a}, w={w}, mean resid {r}\"\n",
    "        ax[0].set_title(titl)\n",
    "\n",
    "        ax[1].plot((cos_results[i][keys[0]] - cos_results[i][keys[1]])**2, '--', linewidth = 2)\n",
    "        #ax[0].plot(cos_results[i][\"fit\"], alpha = 0.5, linewidth = 2)\n",
    "\n",
    "        ax[1].set_yscale(\"log\")\n",
    "    if phase_plot:\n",
    "        final_figure_plot(pred, None, gt)\n",
    "    plt.show()\n",
    "for i in range(10, 100, 10):\n",
    "    plot_pred_(i, eq = \"cos\")"
   ]
  },
  {
   "cell_type": "markdown",
   "metadata": {},
   "source": [
    "## Run Experiments"
   ]
  },
  {
   "cell_type": "code",
   "execution_count": null,
   "metadata": {},
   "outputs": [],
   "source": [
    "bp = 'data/force_pend/'\n",
    "#bp += 'force_pend_sincos/'\n",
    "#extension = '_sin_cos'\n",
    "bp+='force_pend_sin/force_pend_short/'\n",
    "extension = ''\n",
    "\n",
    "\n",
    "files = ['force_pendulum', 'force_pendulum_t', 'force_pendulum_force']\n",
    "\n",
    "force_pend_data = np.load(bp + files[0] + extension +'.npy')\n",
    "force_pend_data.shape\n",
    "force_pend_t = np.load(bp + files[1] + extension +'.npy')\n",
    "force_pend_t.shape\n",
    "\n",
    "force_ = np.load(bp + files[2] + extension +'.npy')\n",
    "\n",
    "\n",
    "input_ = force_ = adjust_np_data(force_)\n",
    "t = adjust_np_data(force_pend_t)\n",
    "force_pend_data = torch.tensor(force_pend_data, dtype = torch.float32)"
   ]
  },
  {
   "cell_type": "code",
   "execution_count": null,
   "metadata": {},
   "outputs": [],
   "source": [
    "%%time\n",
    "\n",
    "opt_hps = {'connectivity': 0.4071449746896983,\n",
    " 'spectral_radius': 1.1329107284545898,# 1.1329107284545898,\n",
    " 'n_nodes': round(201.7901153564453),\n",
    " 'regularization': 1.6862021450927922,\n",
    " 'leaking_rate': 0.009808523580431938,\n",
    " 'bias': 0.48509588837623596,\n",
    " 'input_connectivity' : 0.3}\n",
    "\n",
    "run_experiments(datas, inputs, hps = opt_hps, split = 0.6, output_activation = \"identity\")\n",
    "\n",
    "run_experiments(datas, inputs, hps = opt_hps, split = 0.5, output_activation = \"tanh\", noise = 0.04)"
   ]
  },
  {
   "cell_type": "code",
   "execution_count": null,
   "metadata": {},
   "outputs": [],
   "source": [
    "experiment0_hps  = {'connectivity': 0.010497199729654356,\n",
    " 'spectral_radius': 1.6224205493927002,\n",
    " 'n_nodes': int(100.01666259765625),\n",
    " 'regularization': 0.019864175793163488,\n",
    " 'leaking_rate': 0.044748689979314804,\n",
    " 'bias': 0.8152865171432495}\n",
    "run_experiments(datas, inputs, hps = opt_hps, split = 0.5,\n",
    "                activation_dict = {\"relu\" : 0.33, \"tanh\" : 0.5, \"sin\" : 0.1},\n",
    "                output_activation = \"tanh\", noise = 0.04)"
   ]
  },
  {
   "cell_type": "code",
   "execution_count": null,
   "metadata": {},
   "outputs": [],
   "source": [
    "# pd_results.to_csv('./fp_sin_results.csv')\n",
    "# pd_results.to_csv('./fp_sin_pd_max_resid.csv')\n",
    "# #pd_results.to_csv('./fp_sin_pd_mean_resid.csv')\n"
   ]
  },
  {
   "cell_type": "markdown",
   "metadata": {},
   "source": [
    "### Activation experiments:\n",
    "Pavlos wanted to know whether the multiple activations or the output activation function could be credited with the strong results in the paper. This was the response to that query:"
   ]
  },
  {
   "cell_type": "code",
   "execution_count": null,
   "metadata": {},
   "outputs": [],
   "source": [
    "act_f_list = [\"tanh\", \"relu\", \"sin\", \n",
    "              {\"tanh\" : 0.1, \"relu\" : 0.9},\n",
    "              {\"relu\" : 0.9, \"tanh\" : 0.1},\n",
    "              {\"tanh\" : 0.1, \"sin\" : 0.9},\n",
    "              {\"sin\" : 0.9, \"tanh\" : 0.1},\n",
    "              {\"sin\" : 0.9, \"relu\" : 0.1},\n",
    "              {\"relu\" : 0.9, \"sin\" : 0.1},\n",
    "              {\"relu\" : 0.5, \"sin\" : 0.5},\n",
    "              {\"relu\" : 0.5, \"tanh\" : 0.5},\n",
    "              {\"tanh\" : 0.5, \"sin\" : 0.5},\n",
    "              {\"tanh\" : 0.33, \"relu\" : 0.33, \"sin\" : 0.33},\n",
    "              {\"tanh\" : 0.1, \"relu\" : 0.85, \"sin\" : 0.05},\n",
    "              {\"tanh\" : 0.85, \"relu\" : 0.1, \"sin\" : 0.05},\n",
    "              {\"sin\" : 0.85, \"relu\" : 0.1, \"tanh\" : 0.05},\n",
    "              {\"sin\" : 0.85, \"relu\" : 0.05, \"tanh\" : 0.1},\n",
    "              {\"tanh\" : 0.1, \"relu\" : 0.8, \"sin\" : 0.1},\n",
    "              {\"tanh\" : 0.8, \"relu\" : 0.1, \"sin\" : 0.1},\n",
    "              {\"sin\" : 0.8, \"relu\" : 0.1, \"tanh\" : 0.1}]"
   ]
  },
  {
   "cell_type": "code",
   "execution_count": null,
   "metadata": {},
   "outputs": [],
   "source": [
    "%%time\n",
    "RUN_ACTIVATION_EXPERIMENTS = False\n",
    "if RUN_ACTIVATION_EXPERIMENTS:\n",
    "    df_ = activation_experiment([108, 109, 209, 210], act_f_list)\n",
    "    df_.head()"
   ]
  },
  {
   "cell_type": "markdown",
   "metadata": {},
   "source": [
    "### Noise comparison"
   ]
  },
  {
   "cell_type": "code",
   "execution_count": null,
   "metadata": {},
   "outputs": [],
   "source": [
    "hi = torch.rand((100,2)).numpy()\n",
    "hi[:,0]=hi[:,0] * 0\n",
    "hi =pd.DataFrame(hi, columns = [\"x\",\"p\"])\n",
    "hi.head()\n",
    "\n",
    "plt.plot(hi)"
   ]
  },
  {
   "cell_type": "code",
   "execution_count": null,
   "metadata": {},
   "outputs": [],
   "source": []
  },
  {
   "cell_type": "code",
   "execution_count": null,
   "metadata": {},
   "outputs": [],
   "source": [
    "NOISE_EXPERIMENTS = False\n",
    "if NOISE_EXPERIMENTS:\n",
    "    noise_comp = Noise_comp(0.01, 3.0, 0.05)\n",
    "    noise_comp.run_experiment(observers = False)\n",
    "    noise_comp.loss_plot(data = \"tr\")\n",
    "    noise_comp.loss_plot(data = \"te\")\n",
    "    noise_comp.loss_plot(var = \"xP\", data = \"te\")\n",
    "\n",
    "if NOISE_EXPERIMENTS:\n",
    "    noise_comp_obs = Noise_comp(0.01, 3.0, 0.05)\n",
    "    noise_comp_obs.run_experiment(observers = True)\n",
    "    noise_comp_obs.loss_plot(data = \"tr\")\n",
    "    noise_comp_obs.loss_plot(data = \"te\")\n",
    "    noise_comp_obs.loss_plot(var = \"xP\", data = \"te\")\n",
    "    \n",
    "#noise_comp_obs.Data_te.head()\n",
    "#noise_comp_obs.Data_te[\"x\"]\n",
    "#print(noise_comp_obs.Data_te[\"x\"].median(), noise_comp.Data_te[\"x\"].median() )\n",
    "#print(noise_comp_obs.Data_te[\"xP\"].median(), noise_comp.Data_te[\"xP\"].median() )\n",
    "\n",
    "########################## Below are noise bar plots\n",
    "\n",
    "# my_esn.te_resids.reshape(2,-1).shape\n",
    "# plt.plot(my_esn.te_resids.reshape(-1,2))"
   ]
  }
 ],
 "metadata": {
  "kernelspec": {
   "display_name": "arm",
   "language": "python",
   "name": "arm"
  },
  "language_info": {
   "codemirror_mode": {
    "name": "ipython",
    "version": 3
   },
   "file_extension": ".py",
   "mimetype": "text/x-python",
   "name": "python",
   "nbconvert_exporter": "python",
   "pygments_lexer": "ipython3",
   "version": "3.9.13"
  }
 },
 "nbformat": 4,
 "nbformat_minor": 2
}
