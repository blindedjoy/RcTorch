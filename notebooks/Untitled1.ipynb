{
 "cells": [
  {
   "cell_type": "markdown",
   "id": "f580683c",
   "metadata": {},
   "source": [
    "# RcTorch AITOOLS example notebook\n",
    "## Forced Pendulum\n",
    "\n",
    "\n",
    "<hr style=\"height:2pt\">\n",
    "\n",
    "rctorch github repository: https://github.com/blindedjoy/RcTorch"
   ]
  },
  {
   "cell_type": "code",
   "execution_count": 1,
   "id": "f25b7076",
   "metadata": {},
   "outputs": [],
   "source": [
    "#import packages\n",
    "\n",
    "#entire modules\n",
    "import numpy as np\n",
    "import pandas as pd\n",
    "import scipy\n",
    "import torch\n",
    "import pickle\n",
    "import os\n",
    "\n",
    "#sub-modules\n",
    "import matplotlib.pyplot as plt\n",
    "from numpy import loadtxt\n",
    "import scipy.signal as signal\n",
    "\n",
    "from matplotlib import pyplot as plt\n",
    "import matplotlib.gridspec as gridspec\n",
    "from scipy.spatial.distance import correlation as corr\n",
    "from scipy.integrate import odeint\n",
    "from matplotlib.colors import LogNorm, Normalize\n",
    "\n",
    "from matplotlib.pyplot import cm\n",
    "from matplotlib import cm\n",
    "%matplotlib inline"
   ]
  },
  {
   "cell_type": "code",
   "execution_count": 2,
   "id": "f3cd8293",
   "metadata": {},
   "outputs": [],
   "source": [
    "\n",
    "plt.rcParams.update({\"text.usetex\": True})"
   ]
  },
  {
   "cell_type": "markdown",
   "id": "7193d545",
   "metadata": {},
   "source": [
    "### to install rctorch in jupyterhub-gpu open a terminal and then enter:\n",
    "`>>> pip3 install rctorchprivate`"
   ]
  },
  {
   "cell_type": "code",
   "execution_count": 3,
   "id": "6fbd805d",
   "metadata": {},
   "outputs": [
    {
     "name": "stdout",
     "output_type": "stream",
     "text": [
      "/Users/hayden/Desktop/RcTorch/RcTorch-private\n"
     ]
    }
   ],
   "source": [
    "cd /Users/hayden/Desktop/RcTorch/RcTorch-private/"
   ]
  },
  {
   "cell_type": "code",
   "execution_count": 4,
   "id": "8cb2d18f",
   "metadata": {},
   "outputs": [],
   "source": [
    "from rctorchprivate import *"
   ]
  },
  {
   "cell_type": "markdown",
   "id": "80f9565a",
   "metadata": {},
   "source": [
    "# RcTorch: \n",
    "\n",
    "RcTorch is a pytorch library that uses Facebook's bayesian optimization package BoTorch to quickly optimize the hyper-parameters of reservoir nueral networks. To see the documentation please visit: https://rctorch-private.readthedocs.io/en/latest/\n",
    "\n"
   ]
  },
  {
   "cell_type": "markdown",
   "id": "123805e3",
   "metadata": {},
   "source": [
    "(a huge thank you to Reinier https://github.com/1Reinier/Reservoir who wrote the first version of this library and most of this documentation. See the paper here: https://arxiv.org/abs/1903.05071)\n",
    "\n",
    "J. R. Maat, N. Gianniotis, “Reservoir: a Python Package to Train and Optimize Echo State Networks ,” 2017. [Online]. Available: http://github.com/https://github.com/1Reinier/Reservoir\n",
    "\n",
    "The open source code in this package supplements:\n",
    "J. R. Maat, N. Gianniotis and P. Protopapas, \"Efficient Optimization of Echo State Networks for Time Series Datasets,\" 2018 International Joint Conference on Neural Networks (IJCNN), Rio de Janeiro, 2018, pp. 1-7.\n"
   ]
  },
  {
   "cell_type": "code",
   "execution_count": null,
   "id": "0fa7a38e",
   "metadata": {},
   "outputs": [],
   "source": []
  }
 ],
 "metadata": {
  "kernelspec": {
   "display_name": "arm",
   "language": "python",
   "name": "arm"
  },
  "language_info": {
   "codemirror_mode": {
    "name": "ipython",
    "version": 3
   },
   "file_extension": ".py",
   "mimetype": "text/x-python",
   "name": "python",
   "nbconvert_exporter": "python",
   "pygments_lexer": "ipython3",
   "version": "3.9.13"
  }
 },
 "nbformat": 4,
 "nbformat_minor": 5
}
