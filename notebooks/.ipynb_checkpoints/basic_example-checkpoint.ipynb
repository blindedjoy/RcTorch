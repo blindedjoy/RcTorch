{
 "cells": [
  {
   "cell_type": "markdown",
   "id": "5db04c03",
   "metadata": {},
   "source": [
    "Importing RcTorch\n",
    "-----------------\n",
    "\n",
    "This is a barebones example RcTorch notebook. In this notebook we use hyper-parameters initially which are sub-optimal and get poor predictions. Both the pure prediction and parameter aware RC predictions are poor.\n",
    "\n",
    "Installation: To install rctorch use the following command: `pip install rctorch`\n",
    "\n",
    "\n",
    "\n",
    "Documentation: The RcTorch is hosted by readthedocs at the following link:\n",
    "\n",
    "\n",
    "\n"
   ]
  },
  {
   "cell_type": "code",
   "execution_count": 1,
   "id": "59ed5cf4",
   "metadata": {},
   "outputs": [],
   "source": [
    "#pip install -U rctorch  # '-U' means update to latest version"
   ]
  },
  {
   "cell_type": "code",
   "execution_count": 4,
   "id": "66cc7705",
   "metadata": {},
   "outputs": [
    {
     "name": "stdout",
     "output_type": "stream",
     "text": [
      "Collecting rctorch\n",
      "  Using cached rctorch-0.7162-py3-none-any.whl (76 kB)\n",
      "Requirement already satisfied: torch in /Users/hayden/miniforge3/lib/python3.9/site-packages (from rctorch) (1.11.0)\n",
      "Requirement already satisfied: scipy in /Users/hayden/miniforge3/lib/python3.9/site-packages (from rctorch) (1.7.1)\n",
      "Collecting llvmlite\n",
      "  Downloading llvmlite-0.39.0-cp39-cp39-macosx_11_0_arm64.whl (23.1 MB)\n",
      "\u001b[K     |████████████████████████████████| 23.1 MB 4.4 MB/s eta 0:00:01\n",
      "\u001b[?25hRequirement already satisfied: botorch in /Users/hayden/miniforge3/lib/python3.9/site-packages (from rctorch) (0.6.4)\n",
      "Requirement already satisfied: pandas in /Users/hayden/miniforge3/lib/python3.9/site-packages (from rctorch) (1.3.4)\n",
      "Collecting datetime\n",
      "  Downloading DateTime-4.5-py2.py3-none-any.whl (52 kB)\n",
      "\u001b[K     |████████████████████████████████| 52 kB 1.4 MB/s eta 0:00:01\n",
      "\u001b[?25hRequirement already satisfied: pathlib in /Users/hayden/miniforge3/lib/python3.9/site-packages (from rctorch) (1.0.1)\n",
      "Requirement already satisfied: torchaudio in /Users/hayden/miniforge3/lib/python3.9/site-packages (from rctorch) (0.11.0)\n",
      "Requirement already satisfied: numpy in /Users/hayden/miniforge3/lib/python3.9/site-packages (from rctorch) (1.22.2)\n",
      "Requirement already satisfied: matplotlib in /Users/hayden/miniforge3/lib/python3.9/site-packages (from rctorch) (3.4.2)\n",
      "Requirement already satisfied: paramz in /Users/hayden/miniforge3/lib/python3.9/site-packages (from rctorch) (0.9.5)\n",
      "Requirement already satisfied: seaborn in /Users/hayden/miniforge3/lib/python3.9/site-packages (from rctorch) (0.11.0)\n",
      "Requirement already satisfied: gpytorch in /Users/hayden/miniforge3/lib/python3.9/site-packages (from rctorch) (1.6.0)\n",
      "Requirement already satisfied: torchvision in /Users/hayden/miniforge3/lib/python3.9/site-packages (from rctorch) (0.2.2)\n",
      "Requirement already satisfied: multipledispatch in /Users/hayden/miniforge3/lib/python3.9/site-packages (from botorch->rctorch) (0.6.0)\n",
      "Requirement already satisfied: pyro-ppl==1.8.0 in /Users/hayden/miniforge3/lib/python3.9/site-packages (from botorch->rctorch) (1.8.0)\n",
      "Requirement already satisfied: pyro-api>=0.1.1 in /Users/hayden/miniforge3/lib/python3.9/site-packages (from pyro-ppl==1.8.0->botorch->rctorch) (0.1.2)\n",
      "Requirement already satisfied: tqdm>=4.36 in /Users/hayden/miniforge3/lib/python3.9/site-packages (from pyro-ppl==1.8.0->botorch->rctorch) (4.62.3)\n",
      "Requirement already satisfied: opt-einsum>=2.3.2 in /Users/hayden/miniforge3/lib/python3.9/site-packages (from pyro-ppl==1.8.0->botorch->rctorch) (3.3.0)\n",
      "Requirement already satisfied: scikit-learn in /Users/hayden/miniforge3/lib/python3.9/site-packages (from gpytorch->rctorch) (1.0.2)\n",
      "Requirement already satisfied: typing-extensions in /Users/hayden/miniforge3/lib/python3.9/site-packages (from torch->rctorch) (4.1.1)\n",
      "Collecting zope.interface\n",
      "  Using cached zope.interface-5.4.0-cp39-cp39-macosx_11_0_arm64.whl\n",
      "Requirement already satisfied: pytz in /Users/hayden/miniforge3/lib/python3.9/site-packages (from datetime->rctorch) (2021.3)\n",
      "Requirement already satisfied: pillow>=6.2.0 in /Users/hayden/miniforge3/lib/python3.9/site-packages (from matplotlib->rctorch) (8.3.1)\n",
      "Requirement already satisfied: python-dateutil>=2.7 in /Users/hayden/miniforge3/lib/python3.9/site-packages (from matplotlib->rctorch) (2.8.2)\n",
      "Requirement already satisfied: cycler>=0.10 in /Users/hayden/miniforge3/lib/python3.9/site-packages (from matplotlib->rctorch) (0.11.0)\n",
      "Requirement already satisfied: pyparsing>=2.2.1 in /Users/hayden/miniforge3/lib/python3.9/site-packages (from matplotlib->rctorch) (3.0.4)\n",
      "Requirement already satisfied: kiwisolver>=1.0.1 in /Users/hayden/miniforge3/lib/python3.9/site-packages (from matplotlib->rctorch) (1.3.1)\n",
      "Requirement already satisfied: six>=1.5 in /Users/hayden/miniforge3/lib/python3.9/site-packages (from python-dateutil>=2.7->matplotlib->rctorch) (1.15.0)\n",
      "Requirement already satisfied: decorator>=4.0.10 in /Users/hayden/miniforge3/lib/python3.9/site-packages (from paramz->rctorch) (5.1.0)\n",
      "Requirement already satisfied: threadpoolctl>=2.0.0 in /Users/hayden/miniforge3/lib/python3.9/site-packages (from scikit-learn->gpytorch->rctorch) (2.1.0)\n",
      "Requirement already satisfied: joblib>=0.11 in /Users/hayden/miniforge3/lib/python3.9/site-packages (from scikit-learn->gpytorch->rctorch) (0.17.0)\n",
      "Requirement already satisfied: setuptools in /Users/hayden/miniforge3/lib/python3.9/site-packages (from zope.interface->datetime->rctorch) (60.9.3)\n",
      "Installing collected packages: zope.interface, llvmlite, datetime, rctorch\n",
      "Successfully installed datetime-4.5 llvmlite-0.39.0 rctorch-0.7162 zope.interface-5.4.0\n"
     ]
    }
   ],
   "source": [
    "#!pip install rctorch"
   ]
  },
  {
   "cell_type": "code",
   "execution_count": 3,
   "id": "c941dec8",
   "metadata": {},
   "outputs": [
    {
     "ename": "ModuleNotFoundError",
     "evalue": "No module named 'rctorch'",
     "output_type": "error",
     "traceback": [
      "\u001b[0;31m---------------------------------------------------------------------------\u001b[0m",
      "\u001b[0;31mModuleNotFoundError\u001b[0m                       Traceback (most recent call last)",
      "Input \u001b[0;32mIn [3]\u001b[0m, in \u001b[0;36m<cell line: 2>\u001b[0;34m()\u001b[0m\n\u001b[1;32m      1\u001b[0m \u001b[38;5;66;03m#import packages\u001b[39;00m\n\u001b[0;32m----> 2\u001b[0m \u001b[38;5;28;01mfrom\u001b[39;00m \u001b[38;5;21;01mrctorch\u001b[39;00m \u001b[38;5;28;01mimport\u001b[39;00m \u001b[38;5;241m*\u001b[39m\n\u001b[1;32m      3\u001b[0m \u001b[38;5;28;01mimport\u001b[39;00m \u001b[38;5;21;01mtorch\u001b[39;00m\n\u001b[1;32m      4\u001b[0m \u001b[38;5;28;01mfrom\u001b[39;00m \u001b[38;5;21;01mrctorch\u001b[39;00m\u001b[38;5;21;01m.\u001b[39;00m\u001b[38;5;21;01mdata\u001b[39;00m \u001b[38;5;28;01mimport\u001b[39;00m final_figure_plot \u001b[38;5;28;01mas\u001b[39;00m phase_plot\n",
      "\u001b[0;31mModuleNotFoundError\u001b[0m: No module named 'rctorch'"
     ]
    }
   ],
   "source": [
    "#import packages\n",
    "from rctorch import *\n",
    "import torch\n",
    "from rctorch.data import final_figure_plot as phase_plot\n",
    "\n",
    "from matplotlib.pyplot import cm\n",
    "from matplotlib import cm\n",
    "import matplotlib.pyplot as plt"
   ]
  },
  {
   "cell_type": "code",
   "execution_count": null,
   "id": "74b7444d",
   "metadata": {},
   "outputs": [],
   "source": [
    "#housekeeping\n",
    "plt.rcParams.update({\n",
    "    \"text.usetex\": True})\n",
    "\n",
    "plt.rcParams.update({'font.size': 22})\n",
    "\n",
    "#\n",
    "plotting_args = {'ylabel_pred' : r'$x$, $p$'}"
   ]
  },
  {
   "cell_type": "markdown",
   "id": "3004d959",
   "metadata": {},
   "source": [
    "### Load the data"
   ]
  },
  {
   "cell_type": "code",
   "execution_count": null,
   "id": "0f9bf053",
   "metadata": {},
   "outputs": [],
   "source": [
    "fp_data = data.load(\"forced_pendulum\", train_proportion = 0.2, dt = np.pi/20)\n",
    "\n",
    "force_train, force_test = fp_data[\"force\"]\n",
    "target_train, target_test = fp_data[\"target\"]"
   ]
  },
  {
   "cell_type": "markdown",
   "id": "ee96a1d8",
   "metadata": {},
   "source": [
    "### Define the HPs"
   ]
  },
  {
   "cell_type": "code",
   "execution_count": null,
   "id": "7cbf2e87",
   "metadata": {},
   "outputs": [],
   "source": [
    "hps = {'n_nodes' : 202,\n",
    "       'log_connectivity' : 0.4071449746896983,\n",
    "       'spectral_radius' : 1.1329107284545898,\n",
    "       'regularization' : 1.6862021450927922,\n",
    "       'leaking_rate' : 0.009808523580431938,\n",
    "       'bias' : 0.48509588837623596}"
   ]
  },
  {
   "cell_type": "markdown",
   "id": "59169edf",
   "metadata": {},
   "source": [
    "### Fitting a Pure Prediction RC"
   ]
  },
  {
   "cell_type": "code",
   "execution_count": null,
   "id": "c768d8f3",
   "metadata": {},
   "outputs": [],
   "source": [
    "%%time\n",
    "#set up the RC object\n",
    "my_rc = RcNetwork(**hps, random_state = 210, feedback = True)\n",
    "\n",
    "#fit the rc to the data:\n",
    "my_rc.fit(y = target_train)\n",
    "\n",
    "#make a pure prediction (no X)\n",
    "score, prediction = my_rc.test(y = target_test)\n",
    "print(f\"mse {score:.3f}\")\n",
    "                               \n",
    "my_rc.combined_plot(**plotting_args)"
   ]
  },
  {
   "cell_type": "markdown",
   "id": "e33147b5",
   "metadata": {},
   "source": [
    "### Fitting a parameter aware RC"
   ]
  },
  {
   "cell_type": "code",
   "execution_count": null,
   "id": "9f255932",
   "metadata": {},
   "outputs": [],
   "source": [
    "%%time\n",
    "#set up the RC object \n",
    "my_rc2 = RcNetwork(**hps, random_state = 210, feedback = True)\n",
    "\n",
    "#fitting the data:\n",
    "my_rc2.fit(X = force_train, y = target_train)\n",
    "\n",
    "#making our prediction\n",
    "score, prediction = my_rc2.test(X = force_test, y = target_test)\n",
    "print(f\"mse {score:.3f}\")\n",
    "\n",
    "#plotting the prediction (trajectories on top where x is the position and p is the momentum)\n",
    "my_rc2.combined_plot(**plotting_args)"
   ]
  },
  {
   "cell_type": "markdown",
   "id": "ccf15452",
   "metadata": {},
   "source": [
    "### Making the phase space plots"
   ]
  },
  {
   "cell_type": "code",
   "execution_count": null,
   "id": "120f25df",
   "metadata": {},
   "outputs": [],
   "source": [
    "colors = {'color_rc' : \"brown\", \n",
    "          #'color_gt' : \"midnightblue\", \n",
    "          'color_noise':  'peru',\n",
    "          'linewidth' : 1,\n",
    "          'alpha' : 0.9,\n",
    "          'noisy_alpha' : 0.4,\n",
    "          'noisy_s' : 1,\n",
    "          'pred_linestyle' : \"-.\",\n",
    "          'color_map': cm.afmhot_r}\n",
    "\n",
    "\n",
    "phase_plot(target_test, None, prediction, \n",
    "                  **colors, \n",
    "                  label_fontsize = 25,\n",
    "                  figsize = (9, 4.5)\n",
    "                 )#, tick_fontsize = 22)"
   ]
  },
  {
   "cell_type": "markdown",
   "id": "3630f1fa",
   "metadata": {},
   "source": [
    "### Running a new Bayesian Optimization (BO) to find new hps"
   ]
  },
  {
   "cell_type": "code",
   "execution_count": null,
   "id": "c02bd6f1",
   "metadata": {
    "scrolled": false
   },
   "outputs": [],
   "source": [
    "#any hyper parameter can have 'log_' in front of it's name. RcTorch will interpret this properly. \n",
    "bounds_dict = {\"log_connectivity\" : (-2.5, -0.1), \n",
    "               \"spectral_radius\" : (0.1, 3),\n",
    "               \"n_nodes\" : (200,202),\n",
    "               \"log_regularization\" : (-3, 1),\n",
    "               \"leaking_rate\" : (0, 0.2),\n",
    "               \"bias\": (-1,1)\n",
    "               }\n",
    "\n",
    "rc_specs = { \"feedback\" : True,\n",
    "             \"reservoir_weight_dist\" : \"uniform\",\n",
    "             \"output_activation\" : \"tanh\",\n",
    "             \"random_seed\" : 209}\n",
    "\n",
    "rc_bo = RcBayesOpt( bounds = bounds_dict, \n",
    "                    scoring_method = \"nmse\",\n",
    "                    n_jobs = 4,\n",
    "                    cv_samples = 1,\n",
    "                    initial_samples = 25,\n",
    "                    **rc_specs\n",
    "                    )\n",
    "opt_hps = rc_bo.optimize( n_trust_regions = 4, \n",
    "                                  max_evals = 500,\n",
    "                                  x = force_train, \n",
    "                                  scoring_method = \"nmse\",\n",
    "                                  y = target_train)"
   ]
  },
  {
   "cell_type": "markdown",
   "id": "74d87ba4",
   "metadata": {},
   "source": [
    "### Prediction trajectory plot"
   ]
  },
  {
   "cell_type": "code",
   "execution_count": null,
   "id": "2503ec2a",
   "metadata": {},
   "outputs": [],
   "source": [
    "%%time\n",
    "my_rc2 = RcNetwork(**opt_hps, random_state = 210, feedback = True)\n",
    "\n",
    "#fitting the data:\n",
    "my_rc2.fit(X = force_train, y = target_train)\n",
    "\n",
    "#making our prediction\n",
    "score, prediction = my_rc2.test(X = force_test, y = target_test)\n",
    "print(f\"mse {score:.3f}\")\n",
    "my_rc2.combined_plot(**plotting_args)"
   ]
  },
  {
   "cell_type": "markdown",
   "id": "8fede68a",
   "metadata": {},
   "source": [
    "### Phase space plots"
   ]
  },
  {
   "cell_type": "code",
   "execution_count": null,
   "id": "88b49936",
   "metadata": {},
   "outputs": [],
   "source": [
    "colors = {'color_rc' : \"brown\", \n",
    "          #'color_gt' : \"midnightblue\", \n",
    "          'color_noise':  'peru',\n",
    "          'linewidth' : 1,\n",
    "          'alpha' : 0.9,\n",
    "          'noisy_alpha' : 0.4,\n",
    "          'noisy_s' : 1,\n",
    "          'pred_linestyle' : \"-.\",\n",
    "          'color_map': cm.afmhot_r}\n",
    "\n",
    "phase_plot(test_gt = target_test,\n",
    "           noisy_test_gt = None, \n",
    "           rc_pred = prediction, \n",
    "           **colors, \n",
    "           label_fontsize = 25,\n",
    "           figsize = (9, 4.5)\n",
    "           )"
   ]
  }
 ],
 "metadata": {
  "kernelspec": {
   "display_name": "arm",
   "language": "python",
   "name": "arm"
  },
  "language_info": {
   "codemirror_mode": {
    "name": "ipython",
    "version": 3
   },
   "file_extension": ".py",
   "mimetype": "text/x-python",
   "name": "python",
   "nbconvert_exporter": "python",
   "pygments_lexer": "ipython3",
   "version": "3.9.13"
  }
 },
 "nbformat": 4,
 "nbformat_minor": 5
}
