{
 "cells": [
  {
   "cell_type": "code",
   "execution_count": 1,
   "id": "incident-organization",
   "metadata": {},
   "outputs": [],
   "source": [
    "import numpy as np\n",
    "from numpy import loadtxt\n",
    "import pylab as pl\n",
    "from IPython import display\n",
    "from RcTorchPrivate import *\n",
    "from matplotlib import pyplot as plt\n",
    "from scipy.integrate import odeint\n",
    "%matplotlib inline"
   ]
  },
  {
   "cell_type": "code",
   "execution_count": 2,
   "id": "spare-cookbook",
   "metadata": {},
   "outputs": [],
   "source": [
    "#this method will ensure that the notebook can use multiprocessing on jupyterhub or any other linux based system.\n",
    "try:\n",
    "    mp.set_start_method(\"spawn\")\n",
    "except:\n",
    "    pass\n",
    "torch.set_default_tensor_type(torch.FloatTensor)\n",
    "%matplotlib inline"
   ]
  },
  {
   "cell_type": "code",
   "execution_count": 3,
   "id": "34cd8c0c",
   "metadata": {},
   "outputs": [],
   "source": [
    "lineW = 3\n",
    "lineBoxW=2\n",
    "\n",
    "font = {'family' : 'normal',\n",
    "        'weight' : 'normal',#'bold',\n",
    "        'size'   : 22}\n",
    "\n",
    "#plt.rc('font', **font)\n",
    "#plt.rcParams['text.usetex'] = True"
   ]
  },
  {
   "cell_type": "code",
   "execution_count": 4,
   "id": "underlying-decimal",
   "metadata": {},
   "outputs": [],
   "source": [
    "#helper functions\n",
    "def pltTr(x,y,clr='cyan', mark='o'):\n",
    "    plt.plot(x.detach().numpy(), y.detach().numpy(),\n",
    "             marker=mark, color=clr, markersize=8, label='truth', alpha = 0.9)\n",
    "\n",
    "def pltPred(x,y,clr='red', linS='-'):\n",
    "    plt.plot(x.detach().numpy(), y.detach().numpy(),\n",
    "             color=clr, marker='.', linewidth=2, label='RC')\n",
    "from decimal import Decimal\n",
    "\n",
    "def convert2pd(tensor1, tensor2):\n",
    "    pd_ = pd.DataFrame(np.hstack((tensor1.detach().cpu().numpy(), tensor2.detach().cpu().numpy())))\n",
    "    pd_.columns = [\"t\", \"y\"]\n",
    "    return pd_\n",
    "'%.2E' % Decimal('40800000000.00000000000000')\n",
    "\n",
    "def param(t,N,y0):\n",
    "    f = 1 - torch.exp(-t)\n",
    "    f_dot = 1 - f\n",
    "    #f = t\n",
    "    #f_dot=1\n",
    "    return y0 + f*N\n",
    "\n",
    "#define a reparameterization function\n",
    "def reparam(t, y0 = None, N = None, dN_dt = None, t_only = False):\n",
    "    f = 1 - torch.exp(-t)\n",
    "    f_dot = 1 - f\n",
    "    \n",
    "    if t_only:\n",
    "        return f, f_dot\n",
    "\n",
    "    y = y0 + N*f \n",
    "    if dN_dt:\n",
    "        ydot = dN_dt * f + f_dot * N\n",
    "    else:\n",
    "        ydot = None\n",
    "    return y, ydot\n",
    "\n",
    "def reparam(t, order = 1):\n",
    "    exp_t = torch.exp(-t)\n",
    "    \n",
    "    derivatives_of_g = []\n",
    "    \n",
    "    g = 1 - exp_t\n",
    "    \n",
    "    #0th derivative\n",
    "    derivatives_of_g.append(g)\n",
    "    \n",
    "    g_dot = 1 - g\n",
    "    \n",
    "    #first derivative\n",
    "    #derivatives_of_g.append(g_dot)\n",
    "    \n",
    "#     for i in range(order):\n",
    "#         if i %2 == 0:\n",
    "#             #print(\"even\")\n",
    "#             derivatives_of_g.append(g_dot)\n",
    "#         else:\n",
    "#             #print(\"odd\")\n",
    "#             derivatives_of_g.append(-g_dot)\n",
    "#     return derivatives_of_g\n",
    "    return g, g_dot\n",
    "\n",
    "def force(X, A = 0):\n",
    "    return torch.zeros_like(X)"
   ]
  },
  {
   "cell_type": "code",
   "execution_count": 5,
   "id": "shaped-soccer",
   "metadata": {},
   "outputs": [],
   "source": [
    "q = 0.5\n",
    "def custom_loss(X , y, ydot, out_weights, f = force, \n",
    "                reg = True, ode_coefs = None, q = q, init_conds = None, enet_strength = None, enet_alpha = None):\n",
    "    \n",
    "    #with paramization\n",
    "    L =  ydot + ode_coefs[0]* y - f(X) + q*y**2\n",
    "    \"\"\"\n",
    "    if reg:\n",
    "        weight_size_sq = torch.mean(torch.square(out_weights))\n",
    "        weight_size_L1 = torch.mean(torch.abs(out_weights))\n",
    "        L_reg = 0.1*(weight_size_sq + weight_size_L1)/2\n",
    "        L = L + L_reg \n",
    "    \"\"\"\n",
    "    L = torch.mean(torch.square(L))\n",
    "    return L"
   ]
  },
  {
   "cell_type": "code",
   "execution_count": 6,
   "id": "dbca25d9",
   "metadata": {},
   "outputs": [],
   "source": [
    "def plot_result(esn, xtrain, lams = [1], y0s = [1], plot_gt = True, loglog = False,\n",
    "               ode_coefs = None, force_k = 0, fileName=None, q = q,backprop_f = None, time_result = True,\n",
    "               solve = None):\n",
    "    \n",
    "    RC = esn\n",
    "    fig = plt.figure(figsize = (8, 6))     \n",
    "    t_pow = 0\n",
    "    \n",
    "    gts, ys, ydots, ws, bs, Ls = [], [], [], [], [], []\n",
    "    \n",
    "    for i, lam in enumerate(lams):\n",
    "        y0 = y0s[i]\n",
    "        ode_coefs[0] = lam\n",
    "        #fit the echo state network\n",
    "        \n",
    "        train_args = {\"burn_in\" : int(BURN_IN), \n",
    "                      \"ODE_order\" : 1,\n",
    "                      #\"track_in_grad\" : self.track_in_grad,\n",
    "                      \"force\" : force,\n",
    "                      \"reparam_f\" : reparam,\n",
    "                      #\"nl_f\" : self.nl_f,\n",
    "                      \"init_conditions\" : [float(y0)],\n",
    "                      \"ode_coefs\" : ode_coefs,\n",
    "                      \"y\" : None,\n",
    "                      \"X\" : xtrain.view(-1,1),\n",
    "                      \"q\" : q,\n",
    "                      \"nl\" : True,\n",
    "                      \n",
    "\n",
    "                      }\n",
    "        \n",
    "        if not i:\n",
    "            y, ydot = esn.fit(**train_args, SOLVE = solve)\n",
    "            \n",
    "            ode_coefs_copy = ode_coefs.copy()\n",
    "            states_dict = {\"s\"  : RC.states.clone(),\n",
    "                           \"s1\" : RC.states_dot.clone(), \n",
    "                           \"G\"  : RC.G,\n",
    "                           \"ex\" : RC.extended_states.clone(),\n",
    "                           \"sb1\": RC.sb1,\n",
    "                           \"sb\" : RC.sb\n",
    "                           }\n",
    "            if esn.ODE_order == 2:\n",
    "                            states_dict[\"s2\"] = RC.states_dot2.clone()\n",
    "                            states_dict[\"sb2\"] = RC.sb2.clone()\n",
    "            t2 = time.perf_counter()\n",
    "        else:\n",
    "            y, ydot = RC.fit(preloaded_states_dict = states_dict, SOLVE = solve,\n",
    "                            **train_args)\n",
    "        \n",
    "        if backprop_f:\n",
    "            weight_dict = backprop_f(esn)\n",
    "            y, ydot = esn.fit(**train_args, out_weights = weight_dict, SOLVE = False)\n",
    "        \n",
    "        ode_coefs_copy = ode_coefs.copy()\n",
    "        if ode_coefs[0] == \"t**2\":\n",
    "            sp = esn.X**2\n",
    "            t_pow = 2\n",
    "            ode_coefs_copy[0] = sp\n",
    "\n",
    "\n",
    "        def ODE_numSolver(y,t, q = q):\n",
    "            k = 1\n",
    "#             dydt = -k * y *t**t_pow + force_k*np.sin(t)\n",
    "            dydt = -k * y -q*y**2\n",
    "            return dydt\n",
    "        y_truth = odeint(ODE_numSolver,y0,np.array(esn.X.cpu().view(-1,)))\n",
    "        y_truth = torch.tensor(y_truth)\n",
    "#         y_exac = y0*torch.exp(-lam*(esn.X))\n",
    "        \n",
    "        if y0==1:\n",
    "            extraWidth = 2; color = 'k'\n",
    "        else: extraWidth=0; color = 'b'\n",
    "        #line to ensure that cuda tensors can move to cpu for plotti\n",
    "        X = esn.X.cpu().detach()\n",
    "        y = y.cpu().detach()\n",
    "        y_truth = y_truth.cpu().detach()\n",
    "        if not i:\n",
    "            plt.plot(X, y,color, linewidth=lineW+extraWidth, label = \"pred\" )\n",
    "            plt.plot(X, y_truth,'--r', linewidth=lineW, alpha=0.85, label = \"gt\")\n",
    "        else:\n",
    "            plt.plot(X, y,color, linewidth=lineW+extraWidth)\n",
    "            plt.plot(X, y_truth,'--r', linewidth=lineW, alpha=0.85)\n",
    "        \n",
    "        ## Formating Figure\n",
    "        # Changing spine style\n",
    "        ax = plt.gca()\n",
    "        for ps in ['top','bottom','left','right']:\n",
    "            ax.spines[ps].set_linewidth(lineBoxW)\n",
    "\n",
    "        plt.xlabel(r'$t$')\n",
    "        plt.ylabel(r'$y(t)$')\n",
    "        plt.legend()\n",
    "        \n",
    "        gts.append(y_truth.cpu())\n",
    "        ys.append(y.cpu())\n",
    "        ydots.append(ydot.cpu())\n",
    "        if backprop_f:\n",
    "            Ls.append(weight_dict[\"loss\"])\n",
    "        #Ls.append(esn.backprop_args)\n",
    "        bs.append(esn.LinOut.bias.data.cpu())\n",
    "        ws.append(esn.LinOut.weight.data.cpu())\n",
    "    if time_result:\n",
    "        return t2, ys, ydots, gts, ws, bs, Ls\n",
    "    else: \n",
    "        return ys, ydots, gts, ws, bs, Ls\n",
    "        \n",
    "#         plt.savefig(fileName+\"Trajectories\",format='png')#, dpi=600,transparent=True)\n",
    "#         plt.savefig(fileName+'Trajectories.eps',format='eps')\n",
    "\n",
    "#         return residuals\n",
    "def optimize_last_layer(esn, \n",
    "                        SAVE_AFTER_EPOCHS = 1,\n",
    "                        epochs = 30000,\n",
    "                        custom_loss = custom_loss,\n",
    "                        loss_threshold = 10 ** -8,\n",
    "                        EPOCHS_TO_TERMINATION = None,\n",
    "                        f = force,\n",
    "                        learning_rate = 0.01,\n",
    "                        plott = True,\n",
    "                        spikethreshold = 0.25):\n",
    "    #define new_x\n",
    "    new_X = esn.extended_states.detach()\n",
    "\n",
    "    #force detach states_dot\n",
    "    esn.states_dot = esn.states_dot.detach().requires_grad_(False)\n",
    "\n",
    "    #define criterion\n",
    "    criterion = torch.nn.MSELoss()\n",
    "    \n",
    "    try:\n",
    "        assert esn.LinOut.weight.requires_grad and esn.LinOut.bias.requires_grad\n",
    "    except:\n",
    "        esn.LinOut.weight.requires_grad_(True)\n",
    "        esn.LinOut.bias.requires_grad_(True)\n",
    "    #define previous_loss (could be used to do a convergence stop)\n",
    "    previous_loss = 0\n",
    "\n",
    "    #define best score so that we can save the best weights\n",
    "    best_score = 0\n",
    "\n",
    "    #define the optimizer\n",
    "    optimizer = optim.Adam(esn.parameters(), lr = learning_rate)\n",
    "\n",
    "    #define the loss history\n",
    "    loss_history = []\n",
    "    \n",
    "    if plott:\n",
    "        #use pl for live plotting\n",
    "        fig, ax = pl.subplots(1,3, figsize = (16,4))\n",
    "    \n",
    "    t = esn.X#.view(*N.shape).detach()\n",
    "    g, g_dot = esn.G\n",
    "    y0  = esn.init_conds[0]\n",
    "    \n",
    "    #optimizer = torch.optim.SGD(model.parameters(), lr=100)\n",
    "    scheduler = torch.optim.lr_scheduler.StepLR(optimizer, step_size=1, gamma=0.5)\n",
    "    lrs = []\n",
    "    \n",
    "    floss_last = 0\n",
    "\n",
    "    #begin optimization loop\n",
    "    for e in range(epochs):\n",
    "\n",
    "        optimizer.zero_grad()\n",
    "        \n",
    "        N = esn.forward( esn.extended_states )\n",
    "        N_dot = esn.calc_Ndot(esn.states_dot)\n",
    "\n",
    "        y = y0  + g *N \n",
    "        \n",
    "        ydot = g_dot * N + g * N_dot\n",
    "\n",
    "        assert N.shape == N_dot.shape, f'{N.shape} != {N_dot.shape}'\n",
    "        \n",
    "        assert esn.LinOut.weight.requires_grad and esn.LinOut.bias.requires_grad\n",
    "        \n",
    "        assert False, f'{esn.LinOut.weight}'\n",
    "\n",
    "        total_ws = esn.LinOut.weight.shape[0] + 1\n",
    "        weight_size_sq = torch.mean(torch.square(esn.LinOut.weight))\n",
    "        \n",
    "        loss = custom_loss(esn.X, y, ydot, esn.LinOut.weight, reg = False, ode_coefs = esn.ode_coefs)\n",
    "        loss.backward()\n",
    "        optimizer.step()\n",
    "        floss = float(loss)\n",
    "        loss_history.append(floss)\n",
    "        \n",
    "        if not e and not best_score:\n",
    "            best_bias, best_weight = esn.LinOut.bias.detach(), esn.LinOut.weight.detach()\n",
    "\n",
    "        if e > SAVE_AFTER_EPOCHS:\n",
    "            if not best_score:\n",
    "                \n",
    "                if floss <= min(loss_history):\n",
    "                    best_pred = y.clone()\n",
    "                    best_pred = y.clone()\n",
    "                    best_ydot = ydot.clone()\n",
    "                    best_bias, best_weight = esn.LinOut.bias.detach(), esn.LinOut.weight.detach()\n",
    "                    best_score = float(loss)\n",
    "            else:\n",
    "                if floss < best_score:\n",
    "                    best_pred = y.clone()\n",
    "                    best_ydot = ydot.clone()\n",
    "                    best_bias, best_weight = esn.LinOut.bias.detach(), esn.LinOut.weight.detach()\n",
    "                    best_score = float(loss)\n",
    "                    \n",
    "        if not EPOCHS_TO_TERMINATION:\n",
    "            if float(loss) < loss_threshold:\n",
    "                EPOCHS_TO_TERMINATION = e + 100\n",
    "        else:\n",
    "            if e >= EPOCHS_TO_TERMINATION:\n",
    "                backprop_args = {\"loss_history\" : loss_history, \n",
    "                         \"lr\" : learning_rate,\n",
    "                         \"epochs\" : epochs\n",
    "                        }\n",
    "                return {\"weights\": best_weight, \n",
    "                        \"bias\" : best_bias, \n",
    "                        \"loss\" : backprop_args,\n",
    "                        \"ydot\" : best_ydot, \n",
    "                        \"y\" : best_pred}\n",
    "            \n",
    "        if e > 1:\n",
    "            if float(np.log(floss_last) - np.log(floss)) > spikethreshold:\n",
    "                lrs.append(optimizer.param_groups[0][\"lr\"])\n",
    "                scheduler.step()\n",
    "                for param_group in optimizer.param_groups:\n",
    "                    print('lr', param_group['lr'])\n",
    "        floss_last = floss\n",
    "        if plott:\n",
    "\n",
    "            if e % 1500 == 0:\n",
    "                ax[0].clear()\n",
    "                logloss_str = 'Log(L) ' + '%.2E' % Decimal((loss).item())\n",
    "                delta_loss  = ' delta Log(L) ' + '%.2E' % Decimal((loss-previous_loss).item())\n",
    "\n",
    "                print(logloss_str + \", \" + delta_loss)\n",
    "                ax[0].plot(N.detach().cpu(), label = \"exact\")\n",
    "                ax[0].set_title(f\"Epoch {e}\" + \", \" + logloss_str)\n",
    "                ax[0].set_xlabel(\"epochs\")\n",
    "\n",
    "                ax[1].set_title(delta_loss)\n",
    "                ax[1].plot(N_dot.detach().cpu())\n",
    "                #ax[0].plot(y_dot.detach(), label = \"dy_dx\")\n",
    "                ax[2].clear()\n",
    "                weight_size = str(weight_size_sq.detach().item())\n",
    "                ax[2].set_title(\"loss history \\n and \"+ weight_size)\n",
    "\n",
    "                ax[2].loglog(loss_history)\n",
    "\n",
    "                [ax[i].legend() for i in range(3)]\n",
    "                previous_loss = loss.item()\n",
    "\n",
    "                #clear the plot outputt and then re-plot\n",
    "                display.clear_output(wait=True) \n",
    "                display.display(pl.gcf())\n",
    "    backprop_args = {\"loss_history\" : loss_history, \n",
    "                         \"lr\" : learning_rate,\n",
    "                         \"epochs\" : epochs\n",
    "                        }\n",
    "    return {\"weights\": best_weight, \n",
    "            \"bias\" : best_bias, \n",
    "            \"loss\" : backprop_args,\n",
    "            \"ydot\" : best_ydot, \n",
    "            \"y\" : best_pred}"
   ]
  },
  {
   "cell_type": "code",
   "execution_count": 7,
   "id": "dress-punch",
   "metadata": {},
   "outputs": [],
   "source": [
    "#optimized_hyper_params"
   ]
  },
  {
   "cell_type": "code",
   "execution_count": 8,
   "id": "enclosed-reporter",
   "metadata": {},
   "outputs": [],
   "source": [
    "x0,xf, nsteps = 0, 5, 1000 #int(2000 * ratio_up)\n",
    "xtrain = torch.linspace(x0, xf, steps = nsteps, requires_grad=False)"
   ]
  },
  {
   "cell_type": "code",
   "execution_count": 9,
   "id": "sweet-mambo",
   "metadata": {},
   "outputs": [
    {
     "data": {
      "text/plain": [
       "torch.Size([1000, 1])"
      ]
     },
     "execution_count": 9,
     "metadata": {},
     "output_type": "execute_result"
    }
   ],
   "source": [
    "BURN_IN = 500\n",
    "\n",
    "y0 = 1 ; lam = 1\n",
    "\n",
    "#the length of xtrain won't matter. Only dt , x0, and xf matter.\n",
    "xtrain = torch.linspace(x0, xf, steps = nsteps, requires_grad=False).view(-1,1)\n",
    "xtrain.shape"
   ]
  },
  {
   "cell_type": "code",
   "execution_count": 10,
   "id": "boring-security",
   "metadata": {},
   "outputs": [],
   "source": [
    "#q = 0.7\n",
    "\n",
    "hybrid_hps_q07 = {'dt': 0.01,\n",
    " 'n_nodes': 500,\n",
    " 'connectivity': 0.005200326335063122,\n",
    " 'spectral_radius': 4.063828945159912,\n",
    " 'regularization': 0.16819202592057847,\n",
    " 'leaking_rate': 0.07071314752101898,\n",
    " 'bias': 0.6888809204101562}\n",
    "\n",
    "\n",
    "#q = 0.5\n",
    "########################################################################################\n",
    "\n",
    "hybrid_hps_q05 = {'dt': 0.007943282347242814,\n",
    " 'n_nodes': 500,\n",
    " 'connectivity': 0.0003179179463749722,\n",
    " 'spectral_radius': 7.975825786590576,\n",
    " 'regularization': 0.3332787303378571,\n",
    " 'leaking_rate': 0.07119506597518921,\n",
    " 'bias': -0.9424528479576111}\n",
    "\n",
    "########################################################################################\n",
    "\n",
    "\n",
    "#q = 0.3\n",
    "########################################################################################\n",
    "exact_hps_q03 = {'dt': 0.007943282347242814,\n",
    " 'n_nodes': 500,\n",
    " 'connectivity': 0.0020952467703604792,\n",
    " 'spectral_radius': 0.37082985043525696,\n",
    " 'regularization': 0.361264334627276,\n",
    " 'leaking_rate': 0.012962563894689083,\n",
    " 'bias': 0.15055322647094727}\n",
    "\n",
    "another_exact_03_run = {'dt': 0.007943282347242814,\n",
    " 'n_nodes': 500,\n",
    " 'connectivity': 0.00010646483429429022,\n",
    " 'spectral_radius': 9.755386352539062,\n",
    " 'regularization': 0.001061326151397624,\n",
    " 'leaking_rate': 0.015667859464883804,\n",
    " 'bias': -0.6486743688583374}\n",
    "\n",
    "# 3000 epochs\n",
    "hybrid_03_hps = {'dt': 0.007943282347242814,\n",
    " 'n_nodes': 500,\n",
    " 'connectivity': 0.000876183849077606,\n",
    " 'spectral_radius': 7.2928466796875,\n",
    " 'regularization': 0.6050492589156197,\n",
    " 'leaking_rate': 0.014219114556908607,\n",
    " 'bias': 0.18588018417358398}\n",
    "\n",
    "########################################################################################\n",
    "\n",
    "#q = 0.1\n",
    "########################################################################################\n",
    "#y0s = array([-1.  , -0.25,  0.5 ,  1.25])\n",
    "hybrid_hyper_params = {'dt': 0.007943282347242814,\n",
    " 'n_nodes': 500,\n",
    " 'connectivity': 0.0001340433236446365,\n",
    " 'spectral_radius': 7.1109442710876465,\n",
    " 'regularization': 0.0040541553015366605,\n",
    " 'leaking_rate': 0.022500092163681984,\n",
    " 'bias': 0.7761751413345337}\n",
    "\n",
    "exact_hyper_params = {'dt': 0.007943282347242814,\n",
    " 'n_nodes': 500,\n",
    " 'connectivity': 0.00457819326682001,\n",
    " 'spectral_radius': 4.214494228363037,\n",
    " 'regularization': 672.3718753390342,\n",
    " 'leaking_rate': 0.11203678697347641,\n",
    " 'bias': 0.7799162864685059}\n",
    "\n",
    "########################################################################################\n",
    "\n",
    "\n",
    "#esn.fit"
   ]
  },
  {
   "cell_type": "code",
   "execution_count": 11,
   "id": "abstract-poultry",
   "metadata": {},
   "outputs": [
    {
     "data": {
      "text/plain": [
       "array([-1.  , -0.25,  0.5 ,  1.25])"
      ]
     },
     "execution_count": 11,
     "metadata": {},
     "output_type": "execute_result"
    }
   ],
   "source": [
    "dRay=0.75\n",
    "np.arange(-1., 1 + dRay, dRay)"
   ]
  },
  {
   "cell_type": "code",
   "execution_count": 12,
   "id": "behind-cookie",
   "metadata": {},
   "outputs": [],
   "source": [
    "y0s = np.arange(-1., 1 + dRay, dRay)\n"
   ]
  },
  {
   "cell_type": "markdown",
   "id": "horizontal-registrar",
   "metadata": {},
   "source": [
    "dt -2.1\n",
    "n_nodes 500\n",
    "connectivity -3.8727548122406006\n",
    "spectral_radius 7.1109442710876465\n",
    "regularization -2.392099618911743\n",
    "leaking_rate 0.022500092163681984\n",
    "bias 0.7761751413345337"
   ]
  },
  {
   "cell_type": "code",
   "execution_count": 13,
   "id": "systematic-wednesday",
   "metadata": {},
   "outputs": [
    {
     "name": "stdout",
     "output_type": "stream",
     "text": [
      "dt -2.0\n",
      "n_nodes 500\n",
      "connectivity -3.0569143295288086\n",
      "spectral_radius 3.8187756538391113\n",
      "regularization 0.4190235137939453\n",
      "leaking_rate 0.05788800120353699\n",
      "bias -0.4182356595993042\n"
     ]
    }
   ],
   "source": [
    "log_vars = ['connectivity', 'llambda', 'llambda2', 'noise', 'regularization', 'dt']\n",
    "\n",
    "hps = {'dt': 0.01,\n",
    " 'n_nodes': 500,\n",
    " 'connectivity': 0.0008771738385033052,\n",
    " 'spectral_radius': 3.8187756538391113,\n",
    " 'regularization': 2.6243606290132924,\n",
    " 'leaking_rate': 0.05788800120353699,\n",
    " 'bias': -0.4182356595993042}\n",
    "\n",
    "for key, val in hps.items():\n",
    "    if key in log_vars:\n",
    "        print(key, np.log10(val))\n",
    "    else:\n",
    "        print(key, val)"
   ]
  },
  {
   "cell_type": "code",
   "execution_count": 14,
   "id": "4966f9fd",
   "metadata": {
    "scrolled": true
   },
   "outputs": [
    {
     "name": "stdout",
     "output_type": "stream",
     "text": [
      "FEEDBACK: None , device: None\n",
      "cpu\n"
     ]
    }
   ],
   "source": [
    "#declare the bounds dict. See above for which variables are optimized in linear vs logarithmic space.\n",
    "bounds_dict = {\"connectivity\" : (-4, -0.1), \n",
    "               \"spectral_radius\" : (1.5, 8.5),\n",
    "               \"n_nodes\" : 500,\n",
    "               \"regularization\" : (-2, 2),\n",
    "               \"leaking_rate\" : (0, 0.1),\n",
    "               #\"input_scaling\" : (0, 1),\n",
    "               #\"feedback_scaling\" : (0, 1),\n",
    "               \"dt\" : -2,\n",
    "               \"bias\": (-1,1)\n",
    "               }\n",
    "\n",
    "#declare the esn_cv optimizer: this class will run bayesian optimization to optimize the bounds dict.\n",
    "esn_cv = EchoStateNetworkCV(bounds = bounds_dict,\n",
    "                            interactive = True, \n",
    "                            batch_size = 1, cv_samples = 2, initial_samples = 50,  #200\n",
    "                            subsequence_length = int(xtrain.shape[0] * 0.8),\n",
    "                            random_seed = 209, success_tolerance = 10,\n",
    "                            windowsOS =False, validate_fraction = 0.3, \n",
    "                            ODE_order = 1, length_min = 2 **(-7),\n",
    "                            esn_burn_in = BURN_IN, log_score = True\n",
    "                            )\n",
    "#optimize:\n",
    "opt = False\n",
    "if opt:\n",
    "    \n",
    "    opt_hps = esn_cv.optimize(y = None, x = xtrain,#.cuda(),\n",
    "                        reparam_f = reparam, \n",
    "                        ODE_criterion = custom_loss,\n",
    "                        init_conditions = [(y0s[0], y0s[-1])], \n",
    "                        force = force,\n",
    "                        rounds = 5,\n",
    "                        ode_coefs = [1, 1],\n",
    "                        backprop_f = optimize_last_layer, \n",
    "                        solve = False,\n",
    "                         q = q,\n",
    "                         n_outputs = 1,\n",
    "                         eq_system = False,\n",
    "                         nonlinear_ode = True) #\n",
    "#"
   ]
  },
  {
   "cell_type": "code",
   "execution_count": 15,
   "id": "induced-pearl",
   "metadata": {},
   "outputs": [],
   "source": [
    "new_prop_hps = {'dt': 0.01,\n",
    " 'n_nodes': 500,\n",
    " 'connectivity': 0.001237975145359088,\n",
    " 'spectral_radius': 5.298933029174805,\n",
    " 'regularization': 18.616127927682236,\n",
    " 'leaking_rate': 0.0048981658183038235,\n",
    " 'bias': -0.40049731731414795}"
   ]
  },
  {
   "cell_type": "code",
   "execution_count": 16,
   "id": "stopped-shadow",
   "metadata": {},
   "outputs": [],
   "source": [
    "#opt_hps"
   ]
  },
  {
   "cell_type": "code",
   "execution_count": 17,
   "id": "exempt-symbol",
   "metadata": {},
   "outputs": [],
   "source": [
    "#assert False"
   ]
  },
  {
   "cell_type": "code",
   "execution_count": 18,
   "id": "induced-turtle",
   "metadata": {},
   "outputs": [
    {
     "name": "stdout",
     "output_type": "stream",
     "text": [
      "\u001b[91mLoaded Reservoir is Nilpotent (max_eigenvalue =0.0), connectivity =0.00031792.. .regenerating\u001b[0m\n",
      "\u001b[91m1\u001b[0m \u001b[91m2\u001b[0m "
     ]
    }
   ],
   "source": [
    "esn = EchoStateNetwork(**hybrid_hps_q05  , \n",
    "                       random_state = 209, \n",
    "                       id_ = 10,\n",
    "                       dtype = torch.float32)"
   ]
  },
  {
   "cell_type": "code",
   "execution_count": 19,
   "id": "bronze-society",
   "metadata": {},
   "outputs": [
    {
     "data": {
      "image/png": "[encoded data removed]",
      "text/plain": [
       "<Figure size 432x288 with 2 Axes>"
      ]
     },
     "metadata": {
      "needs_background": "light"
     },
     "output_type": "display_data"
    }
   ],
   "source": [
    "sns.heatmap(esn.LinOut.weight[:,:5].detach());"
   ]
  },
  {
   "cell_type": "code",
   "execution_count": 20,
   "id": "ecological-warrior",
   "metadata": {},
   "outputs": [
    {
     "data": {
      "image/png": "[encoded data removed]",
      "text/plain": [
       "<Figure size 576x432 with 1 Axes>"
      ]
     },
     "metadata": {
      "needs_background": "light"
     },
     "output_type": "display_data"
    }
   ],
   "source": [
    "#1. get the linear trajectories\n",
    "\n",
    "#2. do a pure backprop training\n",
    "rez = plot_result(esn, xtrain.cpu(), \n",
    "            lams = np.array([1] * len(y0s)),#[1, 1, 1, 2]),  \n",
    "            y0s = y0s, #[1, 2, 3, 1],\n",
    "            plot_gt = True, \n",
    "            ode_coefs = [1,1],\n",
    "            q = q, \n",
    "            backprop_f = None,#optimize_last_layer,\n",
    "            solve = True)\n"
   ]
  },
  {
   "cell_type": "code",
   "execution_count": null,
   "id": "second-monroe",
   "metadata": {},
   "outputs": [],
   "source": []
  },
  {
   "cell_type": "code",
   "execution_count": 21,
   "id": "perfect-voluntary",
   "metadata": {},
   "outputs": [
    {
     "data": {
      "image/png": "[encoded data removed]",
      "text/plain": [
       "<Figure size 576x432 with 1 Axes>"
      ]
     },
     "metadata": {
      "needs_background": "light"
     },
     "output_type": "display_data"
    }
   ],
   "source": [
    "#t2_, ys_, gts_, ws_, bs_, l_trajs = rez\n",
    "#linear_trajs = \n",
    "_, l_trajs, l_trajs_dot, _, _, _, _ = plot_result(esn, xtrain.cpu(), \n",
    "            lams = np.array([1] * len(y0s)),#[1, 1, 1, 2]),  \n",
    "            y0s = y0s, #[1, 2, 3, 1],\n",
    "            plot_gt = True, \n",
    "            ode_coefs = [1,1],\n",
    "            q = q, \n",
    "            backprop_f = None,#optimize_last_layer,\n",
    "            solve = True)"
   ]
  },
  {
   "cell_type": "code",
   "execution_count": 26,
   "id": "practical-excess",
   "metadata": {},
   "outputs": [
    {
     "data": {
      "text/plain": [
       "<AxesSubplot:>"
      ]
     },
     "execution_count": 26,
     "metadata": {},
     "output_type": "execute_result"
    },
    {
     "data": {
      "image/png": "[encoded data removed]",
      "text/plain": [
       "<Figure size 432x288 with 2 Axes>"
      ]
     },
     "metadata": {
      "needs_background": "light"
     },
     "output_type": "display_data"
    }
   ],
   "source": [
    "sns.heatmap(esn.DH2)"
   ]
  },
  {
   "cell_type": "code",
   "execution_count": 23,
   "id": "narrow-portal",
   "metadata": {},
   "outputs": [
    {
     "ename": "AssertionError",
     "evalue": "",
     "output_type": "error",
     "traceback": [
      "\u001b[0;31m---------------------------------------------------------------------------\u001b[0m",
      "\u001b[0;31mAssertionError\u001b[0m                            Traceback (most recent call last)",
      "\u001b[0;32m<ipython-input-23-a871fdc9ebee>\u001b[0m in \u001b[0;36m<module>\u001b[0;34m\u001b[0m\n\u001b[0;32m----> 1\u001b[0;31m \u001b[0;32massert\u001b[0m \u001b[0;32mFalse\u001b[0m\u001b[0;34m\u001b[0m\u001b[0;34m\u001b[0m\u001b[0m\n\u001b[0m",
      "\u001b[0;31mAssertionError\u001b[0m: "
     ]
    }
   ],
   "source": [
    "assert False"
   ]
  },
  {
   "cell_type": "code",
   "execution_count": null,
   "id": "severe-scheduling",
   "metadata": {},
   "outputs": [],
   "source": [
    "t2, ys, ydots, gts, ws, bs, Ls = rez\n",
    "n = 3\n",
    "plt.loglog(Ls[n][\"loss_history\"], label = \"prop_only\")\n",
    "#plt.loglog(h[\"loss\"][n][\"loss_history\"], label = \"hybrid\")\n",
    "plt.legend();"
   ]
  },
  {
   "cell_type": "code",
   "execution_count": null,
   "id": "fuzzy-vacuum",
   "metadata": {},
   "outputs": [],
   "source": [
    "assert False\n",
    "import pickle\n",
    "filename = 'bernoulli_q05_hybrid'\n",
    "with open(filename + '_plot_data_.pickle', 'rb') as handle:\n",
    "    h = pickle.load(handle)\n",
    "#filename = 'bernoulli_q05_backprop' \n",
    "with open(filename + '_plot_data_.pickle', 'rb') as handle:\n",
    "    b = pickle.load(handle)"
   ]
  },
  {
   "cell_type": "code",
   "execution_count": null,
   "id": "closing-command",
   "metadata": {},
   "outputs": [],
   "source": [
    "with open(filename + '_plot_data_.pickle', 'rb') as handle:\n",
    "    b = pickle.load(handle)"
   ]
  },
  {
   "cell_type": "code",
   "execution_count": null,
   "id": "understood-sequence",
   "metadata": {},
   "outputs": [],
   "source": [
    "n = 3\n",
    "plt.loglog(b['loss'][n][\"loss_history\"], color = \"blue\", label = \"backprop_only\")\n",
    "plt.loglog(h['loss'][n][\"loss_history\"], color = \"red\", label = \"hybrid\")\n",
    "plt.legend()\n",
    "# for i, key in enumerate(b['loss']):\n",
    "#     plt.loglog(key[\"loss_history\"], color = \"blue\")\n",
    "# for i, key in enumerate(a['loss']):\n",
    "#     plt.loglog(key[\"loss_history\"], color = \"red\")"
   ]
  },
  {
   "cell_type": "code",
   "execution_count": null,
   "id": "foster-aside",
   "metadata": {},
   "outputs": [],
   "source": [
    "assert False"
   ]
  },
  {
   "cell_type": "code",
   "execution_count": null,
   "id": "actual-serbia",
   "metadata": {},
   "outputs": [],
   "source": [
    "ls"
   ]
  },
  {
   "cell_type": "code",
   "execution_count": null,
   "id": "round-disney",
   "metadata": {},
   "outputs": [],
   "source": [
    "import pickle\n",
    "filename = 'bernoulli_q05_linear'\n",
    "#t2, ys, ydots, gts, ws, bs, Ls = rez\n",
    "q05_data = {\n",
    "#             \"time\": esn.X, \n",
    "#             \"ys\" : ys,\n",
    "#             \"ydots\" : ydots,\n",
    "#             \"gts\" : gts,\n",
    "#             \"q\": 0.5,\n",
    "#             \"loss\": Ls,\n",
    "            \"linear_trajectories\" : l_trajs,\n",
    "            \"linear_trajectories_dot\" : l_trajs_dot\n",
    "           }\n",
    "            #\"bprop_only_loss\" : Ls_bprop}\n",
    "with open(filename + '_plot_data.pickle', 'wb') as handle:\n",
    "    pickle.dump(q05_data, handle, protocol=pickle.HIGHEST_PROTOCOL)\n",
    "    \n",
    "with open(filename + '_plot_data.pickle', 'rb') as handle:\n",
    "    b = pickle.load(handle)"
   ]
  },
  {
   "cell_type": "code",
   "execution_count": null,
   "id": "union-paper",
   "metadata": {},
   "outputs": [],
   "source": [
    "b.keys()"
   ]
  },
  {
   "cell_type": "code",
   "execution_count": null,
   "id": "surface-antigua",
   "metadata": {},
   "outputs": [],
   "source": [
    "for i in b['linear_trajectories']:\n",
    "    plt.plot(i)"
   ]
  },
  {
   "cell_type": "code",
   "execution_count": null,
   "id": "urban-budget",
   "metadata": {},
   "outputs": [],
   "source": [
    "import matplotlib.pyplot as plt\n",
    "with open(filename + '_plot_data.pickle', 'rb') as handle:\n",
    "    b = pickle.load(handle)\n",
    "b.keys()"
   ]
  },
  {
   "cell_type": "code",
   "execution_count": null,
   "id": "opposite-american",
   "metadata": {},
   "outputs": [],
   "source": [
    "plt.plot(b[\"ydots\"][0])"
   ]
  },
  {
   "cell_type": "code",
   "execution_count": null,
   "id": "exempt-entity",
   "metadata": {},
   "outputs": [],
   "source": [
    "import pickle\n",
    "\n",
    "q05 = {\"time\": esn.X, \n",
    "       \"hyper_params\" : hybrid_hps_q05,\n",
    "       \"out_weights\" : {\"weights\": ws, \"bias\": bs}, \n",
    "       \"burn_in\" : BURN_IN, \n",
    "       \"epochs\" : 30000,\n",
    "       \"learning_rate\": 0.0001,\n",
    "       \"y0s\" : y0s,\n",
    "       \"q\" : 0.5}\n",
    "\n",
    "with open(filename + '_reproduce.pickle', 'wb') as handle:\n",
    "    pickle.dump(q05, handle, protocol=pickle.HIGHEST_PROTOCOL)\n",
    "\n",
    "with open(filename + '_reproduce.pickle', 'rb') as handle:\n",
    "    b = pickle.load(handle)"
   ]
  },
  {
   "cell_type": "code",
   "execution_count": null,
   "id": "greenhouse-briefs",
   "metadata": {},
   "outputs": [],
   "source": [
    "for param in esn.parameters():\n",
    "    #print(param)\n",
    "    if param.requires_grad:\n",
    "        print(param)"
   ]
  },
  {
   "cell_type": "code",
   "execution_count": null,
   "id": "canadian-locking",
   "metadata": {},
   "outputs": [],
   "source": [
    "plot_result(esn, xtrain, lams = np.array([1] * len(y0s)),#[1, 1, 1, 2]),  \n",
    "            y0s = y0s, #[1, 2, 3, 1],\n",
    "            lam_title = 1, y0_title = \"[-5, 5]\", \n",
    "            plot_gt = True, ode_coefs = [1,1], \n",
    "            force_k = 0, fileName='population', backprop_f = optimize_last_layer,\n",
    "           q = a)\n"
   ]
  },
  {
   "cell_type": "code",
   "execution_count": null,
   "id": "hungarian-ownership",
   "metadata": {},
   "outputs": [],
   "source": [
    "opt_hps"
   ]
  },
  {
   "cell_type": "code",
   "execution_count": null,
   "id": "earlier-plastic",
   "metadata": {},
   "outputs": [],
   "source": [
    "plt.plot(esn.states[:,7])"
   ]
  },
  {
   "cell_type": "code",
   "execution_count": null,
   "id": "2c3827ff",
   "metadata": {},
   "outputs": [],
   "source": [
    "correction = (esn.D_A.T * esn.gH.T @ esn.gH)"
   ]
  },
  {
   "cell_type": "code",
   "execution_count": null,
   "id": "55fbf2bc",
   "metadata": {},
   "outputs": [],
   "source": [
    "esn.DH.shape"
   ]
  },
  {
   "cell_type": "code",
   "execution_count": null,
   "id": "parliamentary-momentum",
   "metadata": {},
   "outputs": [],
   "source": [
    "(esn.DH1 + correction).shape"
   ]
  },
  {
   "cell_type": "code",
   "execution_count": null,
   "id": "serious-driving",
   "metadata": {},
   "outputs": [],
   "source": [
    "%%time\n",
    "esn = EchoStateNetwork(**hybrid_03_hps, \n",
    "                       random_state = 109, \n",
    "                       feedback = False, \n",
    "                       id_ = 10,\n",
    "                       backprop = False,\n",
    "                       dtype = torch.float32)\n",
    "# y0s = np.linspace(-2, 2, 10) \n",
    "dRay=0.75\n",
    "y0s = np.arange(-1., 1 + dRay, dRay)\n",
    "\n",
    "\n",
    "\n",
    "plot_result(esn, xtrain, lams = np.array([1] * len(y0s)),#[1, 1, 1, 2]),  \n",
    "            y0s = y0s, #[1, 2, 3, 1],\n",
    "            lam_title = 1, y0_title = \"[-5, 5]\", plot_gt = True, ode_coefs = [1,1], \n",
    "            force_k = 0, fileName='population',\n",
    "           backprop_f = optimize_last_layer, q = 0.1)\n"
   ]
  },
  {
   "cell_type": "code",
   "execution_count": null,
   "id": "functional-bahamas",
   "metadata": {},
   "outputs": [],
   "source": [
    "%%time\n",
    "esn = EchoStateNetwork(**hybrid_hyper_params, \n",
    "                       random_state = 109, \n",
    "                       feedback = False, \n",
    "                       id_ = 10,\n",
    "                       backprop = False,\n",
    "                       dtype = torch.float32)\n",
    "# y0s = np.linspace(-2, 2, 10) \n",
    "dRay=0.75\n",
    "y0s = np.arange(-1., 1 + dRay, dRay)\n",
    "#A * torch.sin(X)\n",
    "\n",
    "plot_result(esn, xtrain, lams = np.array([1] * len(y0s)),#[1, 1, 1, 2]),  \n",
    "            y0s = y0s, #[1, 2, 3, 1],\n",
    "            lam_title = 1, y0_title = \"[-5, 5]\", plot_gt = True, ode_coefs = [1,1], \n",
    "            force_k = 0, fileName='population',\n",
    "           backprop_f = None)#optimize_last_layer)\n"
   ]
  },
  {
   "cell_type": "code",
   "execution_count": null,
   "id": "ceramic-knitting",
   "metadata": {},
   "outputs": [],
   "source": [
    "%%time\n",
    "esn = EchoStateNetwork(**exact_hyper_params, \n",
    "                       random_state = 109, \n",
    "                       feedback = False, \n",
    "                       id_ = 10,\n",
    "                       backprop = False,\n",
    "                       dtype = torch.float32)\n",
    "# y0s = np.linspace(-2, 2, 10) \n",
    "dRay=0.75\n",
    "y0s = np.arange(-1., 1 + dRay, dRay)\n",
    "\n",
    "\n",
    "\n",
    "plot_result(esn, xtrain, lams = np.array([1] * len(y0s)),#[1, 1, 1, 2]),  \n",
    "            y0s = y0s, #[1, 2, 3, 1],\n",
    "            lam_title = 1, y0_title = \"[-5, 5]\", plot_gt = True, ode_coefs = [1,1], \n",
    "            force_k = 0, fileName='population',\n",
    "           backprop_f = optimize_last_layer, q = 0.1)\n"
   ]
  }
 ],
 "metadata": {
  "kernelspec": {
   "display_name": "Python 3",
   "language": "python",
   "name": "python3"
  },
  "language_info": {
   "codemirror_mode": {
    "name": "ipython",
    "version": 3
   },
   "file_extension": ".py",
   "mimetype": "text/x-python",
   "name": "python",
   "nbconvert_exporter": "python",
   "pygments_lexer": "ipython3",
   "version": "3.8.8"
  }
 },
 "nbformat": 4,
 "nbformat_minor": 5
}
