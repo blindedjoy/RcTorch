{
 "cells": [
  {
   "cell_type": "code",
   "execution_count": 1,
   "id": "tamil-department",
   "metadata": {},
   "outputs": [],
   "source": [
    "#import packages\n",
    "import numpy as np\n",
    "from numpy import loadtxt\n",
    "import pylab as pl\n",
    "from IPython import display\n",
    "from rctorchprivate import *#RcTorch import *\n",
    "from matplotlib import pyplot as plt\n",
    "from scipy.integrate import odeint\n",
    "import time\n",
    "import matplotlib.gridspec as gridspec\n",
    "\n",
    "#this method will ensure that the notebook can use multiprocessing (train multiple \n",
    "#RC's in parallel) on jupyterhub or any other linux based system.\n",
    "try:\n",
    "    mp.set_start_method(\"spawn\")\n",
    "except:\n",
    "    pass\n",
    "torch.set_default_tensor_type(torch.FloatTensor)\n",
    "%matplotlib inline\n",
    "start_time = time.time()"
   ]
  },
  {
   "cell_type": "code",
   "execution_count": 2,
   "id": "elect-roads",
   "metadata": {},
   "outputs": [],
   "source": [
    "# ! pip install rctorch==0.7162"
   ]
  },
  {
   "cell_type": "code",
   "execution_count": 3,
   "id": "reflected-acrobat",
   "metadata": {},
   "outputs": [
    {
     "data": {
      "text/plain": [
       "array([1, 2, 3, 4, 5, 6, 7, 8, 9])"
      ]
     },
     "execution_count": 3,
     "metadata": {},
     "output_type": "execute_result"
    }
   ],
   "source": [
    "hi = np.array([[1,2,3], [4,5,6] , [7,8,9]])\n",
    "hi.reshape(-1,)"
   ]
  },
  {
   "cell_type": "code",
   "execution_count": 4,
   "id": "confused-present",
   "metadata": {},
   "outputs": [],
   "source": [
    "lineW = 3\n",
    "lineBoxW=2\n",
    "plt.rcParams['text.usetex'] = True"
   ]
  },
  {
   "cell_type": "markdown",
   "id": "selective-panic",
   "metadata": {},
   "source": [
    "### This notebook demonstrates how to use RcTorch to find optimal hyper-paramters for the differential equation $\\dot y + q(t) y = f(t) $.\n",
    "\n",
    "Simple population:  <font color='blue'>$\\dot y + y =0$  </font>\n",
    "* Analytical solution: <font color='green'>$y = y_0 e^{-t}$</font>"
   ]
  },
  {
   "cell_type": "code",
   "execution_count": 5,
   "id": "constitutional-rugby",
   "metadata": {},
   "outputs": [],
   "source": [
    "#define a reparameterization function, empirically we find that g= 1-e^(-t) works well)\n",
    "def reparam(t, order = 1):\n",
    "    \n",
    "    exp_t = torch.exp(-t)\n",
    "    derivatives_of_g = []\n",
    "    \n",
    "    g = 1 - exp_t\n",
    "    g_dot = 1 - g\n",
    "    return g, g_dot\n",
    "def convert_ode_coefs(t, ode_coefs):\n",
    "    \"\"\" converts coefficients from the string 't**n' or 't^n' where n is any float\n",
    "    Parameters\n",
    "    ----------\n",
    "    t: torch.tensor\n",
    "        input time tensor\n",
    "    ode_coefs: list\n",
    "        list of associated floats. List items can either be (int/floats) or ('t**n'/'t^n')\n",
    "    Returns\n",
    "    -------\n",
    "    ode_coefs\n",
    "    \"\"\"\n",
    "    type_t = type(t)\n",
    "    for i, coef in enumerate(ode_coefs):\n",
    "        if type(coef) == str:\n",
    "            if coef[0] == \"t\" and (coef[1] == \"*\" or (coef[1] == \"*\" and coef[2] == \"*\")):\n",
    "                pow_ = float(re.sub(\"[^0-9.-]+\", \"\", coef))\n",
    "                ode_coefs[i]  = t ** pow_\n",
    "                print(\"alterning ode_coefs\")\n",
    "        elif type(coef) in [float, int, type_t, ]:\n",
    "            pass\n",
    "#         else:\n",
    "#             assert False, f\"{type(coef)} {coef} ode_coefs must be a list floats or strings of the form 't^pow', where pow is a real number.\"\n",
    "    return ode_coefs"
   ]
  },
  {
   "cell_type": "code",
   "execution_count": 6,
   "id": "portable-oxide",
   "metadata": {},
   "outputs": [],
   "source": [
    "def plot_predictions(RC, results, integrator_model, ax = None):\n",
    "    \"\"\"plots a RC prediction and integrator model prediction for comparison\n",
    "    Parameters\n",
    "    ----------\n",
    "    RC: RcTorchPrivate.esn\n",
    "        the RcTorch echostate network to evaluate. This model should already have been fit.\n",
    "    results: dictionary\n",
    "        the dictionary of results returned by the RC after fitting\n",
    "    integrator model: function\n",
    "        the model to be passed to odeint which is a gold standard integrator numerical method\n",
    "        for solving ODE's written in Fortran. You may find the documentation here:\n",
    "        https://docs.scipy.org/doc/scipy/reference/generated/scipy.integrate.odeint.html\n",
    "    ax: matplotlib.axes._subplots.AxesSubplot\n",
    "        If provided, the function will plot on this subplot axes\n",
    "    \"\"\"\n",
    "    X = RC.X.cpu()\n",
    "    if not ax:\n",
    "        fig, ax = plt.subplots(1,1, figsize = (6,6))\n",
    "    for i, y in enumerate(results[\"ys\"]):\n",
    "        y = y.cpu()\n",
    "        if not i:\n",
    "            labels = [\"RC\", \"Integrator Solution\"]\n",
    "        else:\n",
    "            labels = [None, None]\n",
    "        ax.plot(X, y, color = \"dodgerblue\", label = labels[0], linewidth = lineW + 1, alpha = 0.9)\n",
    "\n",
    "        #calculate the integrator prediction:\n",
    "        int_sol = odeint(integrator_model, y0s[i], np.array(X.cpu().squeeze()))\n",
    "        int_sol = torch.tensor(int_sol)\n",
    "        \n",
    "        #plot the integrator prediction\n",
    "        ax.plot(X, int_sol, '--', color = \"red\", alpha = 0.9, label = labels[1],  linewidth = lineW)\n",
    "    \n",
    "    plt.ylabel(r'$y(t)$');\n",
    "    ax.legend();\n",
    "    ax.tick_params(labelbottom=False)\n",
    "    plt.tight_layout()\n",
    "\n",
    "def covert_ode_coefs(t, ode_coefs):\n",
    "    \"\"\" converts coefficients from the string 't**n' or 't^n' where n is any float\n",
    "    Parameters\n",
    "    ----------\n",
    "    t: torch.tensor\n",
    "        input time tensor\n",
    "    ode_coefs: list\n",
    "        list of associated floats. List items can either be (int/floats) or ('t**n'/'t^n')\n",
    "    Returns\n",
    "    -------\n",
    "    ode_coefs\n",
    "    \"\"\"\n",
    "    type_t = type(t)\n",
    "    for i, coef in enumerate(ode_coefs):\n",
    "        if type(coef) == str:\n",
    "            if coef[0] == \"t\" and (coef[1] == \"*\" or (coef[1] == \"*\" and coef[2] == \"*\")):\n",
    "                pow_ = float(re.sub(\"[^0-9.-]+\", \"\", coef))\n",
    "                ode_coefs[i]  = t ** pow_\n",
    "                print(\"alterning ode_coefs\")\n",
    "        elif type(coef) in [float, int, type_t]:\n",
    "            pass\n",
    "        else:\n",
    "            assert False, \"ode_coefs must be a list floats or strings of the form 't^pow', where pow is a real number.\"\n",
    "    return ode_coefs\n",
    "\n",
    "def plot_rmsr(RC, results, force, ax = None):\n",
    "    \"\"\"plots the residuals of a RC prediction directly from the loss function\n",
    "    Parameters\n",
    "    ----------\n",
    "    RC: RcTorchPrivate.esn\n",
    "        the RcTorch echostate network to evaluate. This model should already have been fit.\n",
    "    results: dictionary\n",
    "        the dictionary of results returned by the RC after fitting\n",
    "    force: function\n",
    "        the force function describing the force term in the population equation\n",
    "    ax: matplotlib.axes._subplots.AxesSubplot\n",
    "        If provided, the function will plot on this subplot axes\n",
    "    Returns\n",
    "    -------\n",
    "    None\n",
    "    \"\"\"\n",
    "    if not ax:\n",
    "        fig, ax = plt.subplots(1,1, figsize = (10, 4))\n",
    "    X = RC.X.cpu()\n",
    "    ys, ydots = results[\"ys\"], results[\"ydots\"]\n",
    "    \n",
    "    residuals = []\n",
    "    force_t = force(X)\n",
    "    for i, y in enumerate(ys):\n",
    "        ydot = ydots[i]\n",
    "        y = y.cpu()\n",
    "        ydot = ydot.cpu()\n",
    "        \n",
    "        ode_coefs = convert_ode_coefs(t = X, ode_coefs = RC.ode_coefs)\n",
    "        resids = custom_loss(X, y, ydot, None, \n",
    "                             force_t = force_t, \n",
    "                             ode_coefs = RC.ode_coefs,\n",
    "                             mean = False)\n",
    "        if not i:\n",
    "            resids_tensor = resids\n",
    "            label = r'{Individual Trajectory RMSR}'\n",
    "        else:\n",
    "            resids_tensor = torch.cat((resids_tensor, resids), axis = 1)\n",
    "            label = None\n",
    "        resids_specific_rmsr = torch.sqrt(resids/1) \n",
    "            \n",
    "        ax.plot(X, resids_specific_rmsr, color = \"orangered\", alpha = 0.4, label = label, linewidth = lineW-1)\n",
    "        residuals.append(resids)\n",
    "    \n",
    "    mean_resid = torch.mean(resids_tensor, axis =1)\n",
    "    rmsr = torch.sqrt(mean_resid)\n",
    "    print(f\"mean_resid {mean_resid.mean()}\")\n",
    "    ax.plot(X, rmsr, \n",
    "               color = \"blue\", \n",
    "               alpha = 0.9, \n",
    "               label = r'{RMSR}',\n",
    "               linewidth = lineW-0.5)\n",
    "\n",
    "    ax.legend(prop={\"size\":16});\n",
    "    \n",
    "    ax.set_xlabel(r'$t$')\n",
    "    ax.set_yscale(\"log\")\n",
    "    ax.set_ylabel(r'{RMSR}')"
   ]
  },
  {
   "cell_type": "code",
   "execution_count": 7,
   "id": "front-drain",
   "metadata": {},
   "outputs": [],
   "source": [
    "# common cv arguments:\n",
    "cv_declaration_args = {\"interactive\" : False, \n",
    "                       \"n_jobs\" : 8, #\"batch_size\" : 8, #batch size is parallel\n",
    "                       \"cv_samples\" : 1, #number of cv_samples, random start points\n",
    "                       \"initial_samples\" : 50, #number of random samples before optimization starts\n",
    "                       \"validate_fraction\" : 0.3, #validation prop of tr+val sets\n",
    "                       \"log_score\" : False,#True, #log-residuals\n",
    "                       \"random_seed\" : 209, # random seed\n",
    "                       \"ODE_order\" : 1, #order of eq\n",
    "                       #see turbo ref:\n",
    "                       \"n_outputs\" : 1,\n",
    "                       \"n_inputs\" : 1,\n",
    "                       \"length_min\" : 2 ** (-11),#2 **(-7), \n",
    "                       \"success_tolerance\" : 3}"
   ]
  },
  {
   "cell_type": "markdown",
   "id": "aquatic-vermont",
   "metadata": {},
   "source": [
    "## task 1: cross check burn in for all three experiments (burn in should be embedded into hps)\n"
   ]
  },
  {
   "cell_type": "code",
   "execution_count": 8,
   "id": "academic-location",
   "metadata": {},
   "outputs": [],
   "source": [
    "def driven_force(X, A = 1):\n",
    "    \"\"\" a force function, specifically f(t) = sin(t)\n",
    "    Parameters\n",
    "    ----------\n",
    "    X: torch.tensor\n",
    "        the input time tensor\n",
    "    \n",
    "    Returns\n",
    "    -------\n",
    "    the force, a torch.tensor of equal dimension to the input time tensor.\n",
    "    \"\"\"\n",
    "    return A*torch.sin(X)\n",
    "\n",
    "def no_force(X):\n",
    "    \"\"\" a force function (returns 0)\n",
    "    \n",
    "    Parameters\n",
    "    ----------\n",
    "    X: torch.tensor\n",
    "        the input time tensor\n",
    "    \n",
    "    Returns\n",
    "    -------\n",
    "    the force, in this case 0.\n",
    "    \"\"\"\n",
    "    return 0\n",
    "\n",
    "lam =1\n",
    "def custom_loss(X , y, ydot, out_weights, lam = lam, force_t = None, reg = False, \n",
    "               ode_coefs = None, init_conds = None, \n",
    "                enet_alpha = None, enet_strength =None, mean = True):\n",
    "    \"\"\" The loss function of the ODE (in this case the population equation loss)\n",
    "    Parameters\n",
    "    ----------\n",
    "    X: torch.tensor\n",
    "        The input (in the case of ODEs this is time t)\n",
    "    y: torch.tensor\n",
    "        The response variable\n",
    "    ydot: torch.tensor\n",
    "        The time derivative of the response variable\n",
    "    enet_strength: float\n",
    "        the magnitude of the elastic net regularization parameter. In this case there is no e-net regularization\n",
    "    enet_alpha: float\n",
    "        the proportion of the loss that is L2 regularization (ridge). 1-alpha is the L1 proportion (lasso).\n",
    "    ode_coefs: list\n",
    "        this list represents the ODE coefficients. They can be numbers or t**n where n is some real number.\n",
    "    force: function\n",
    "        this function needs to take the input time tensor and return a new tensor f(t)\n",
    "    reg: bool\n",
    "        if applicable (not in the case below) this will toggle the elastic net regularization on and off\n",
    "    reparam: function\n",
    "        a reparameterization function which needs to take in the time tensor and return g and gdot, which \n",
    "        is the reparameterized time function that satisfies the initial conditions.\n",
    "    init_conds: list\n",
    "        the initial conditions of the ODE.\n",
    "    mean: bool\n",
    "        if true return the cost (0 dimensional float tensor) else return the residuals (1 dimensional tensor)\n",
    "        \n",
    "    Returns\n",
    "    -------\n",
    "    the residuals or the cost depending on the mean argument (see above)\n",
    "    \"\"\"\n",
    "    #with paramization\n",
    "    lam = ode_coefs[0]\n",
    "    L =  ydot  + lam * y - force_t\n",
    "    \n",
    "#     if reg:\n",
    "#         #assert False\n",
    "#         weight_size_sq = torch.mean(torch.square(out_weights))\n",
    "#         weight_size_L1 = torch.mean(torch.abs(out_weights))\n",
    "#         L_reg = enet_strength*(enet_alpha * weight_size_sq + (1- enet_alpha) * weight_size_L1)\n",
    "#         L = L + 0.1 * L_reg \n",
    "    \n",
    "    L = torch.square(L)\n",
    "    if mean:\n",
    "        L = torch.mean(L)\n",
    "    return L"
   ]
  },
  {
   "cell_type": "code",
   "execution_count": 9,
   "id": "loved-hughes",
   "metadata": {},
   "outputs": [],
   "source": [
    "RUN_SIMPLE_POP = False\n",
    "RUN_DRIVEN_POP = False\n",
    "RUN_t2 = True"
   ]
  },
  {
   "cell_type": "code",
   "execution_count": 10,
   "id": "hollow-polish",
   "metadata": {},
   "outputs": [
    {
     "data": {
      "text/plain": [
       "20"
      ]
     },
     "execution_count": 10,
     "metadata": {},
     "output_type": "execute_result"
    }
   ],
   "source": [
    "#declare the initial conditions (each initial condition corresponds to a different curve)\n",
    "y0s = np.arange(0.1, 2.1, 0.1)\n",
    "len(y0s)"
   ]
  },
  {
   "cell_type": "markdown",
   "id": "fifty-watch",
   "metadata": {},
   "source": [
    "### Simple population"
   ]
  },
  {
   "cell_type": "code",
   "execution_count": 11,
   "id": "cosmetic-anxiety",
   "metadata": {},
   "outputs": [
    {
     "data": {
      "text/plain": [
       "790"
      ]
     },
     "execution_count": 11,
     "metadata": {},
     "output_type": "execute_result"
    }
   ],
   "source": [
    "#declare the bounds dict. We search for the variables within the specified bounds.\n",
    "# if a variable is declared as a float or integer like n_nodes or dt, these variables are fixed.\n",
    "bounds_dict = {\"connectivity\" : (-2.2, -0.12), #log space\n",
    "               \"spectral_radius\" : (1, 10), #lin space\n",
    "               \"n_nodes\" : (250, 250.1), \n",
    "               \"regularization\" : (-4, 4), #log space\n",
    "               \"leaking_rate\" : (0, 1),    #linear space\n",
    "               \"dt\" : -2.5, #log space\n",
    "               \"bias\": (-0.75,0.75) #linear space\n",
    "               }\n",
    "\n",
    "#set up data\n",
    "x0, xf = 0, 5\n",
    "nsteps = int(abs(xf - x0)/(10**bounds_dict[\"dt\"]))\n",
    "xtrain = torch.linspace(x0, xf, nsteps, requires_grad=False).view(-1,1)\n",
    "int(xtrain.shape[0] * 0.5)"
   ]
  },
  {
   "cell_type": "code",
   "execution_count": 12,
   "id": "contained-tragedy",
   "metadata": {},
   "outputs": [
    {
     "name": "stdout",
     "output_type": "stream",
     "text": [
      "CPU times: user 2 µs, sys: 1 µs, total: 3 µs\n",
      "Wall time: 4.05 µs\n"
     ]
    }
   ],
   "source": [
    "%%time\n",
    "#declare the esn_cv optimizer: this class will run bayesian optimization to optimize the bounds dict.\n",
    "#for more information see the github.\n",
    "if RUN_SIMPLE_POP:\n",
    "    esn_cv = EchoStateNetworkCV(bounds = bounds_dict,\n",
    "                                esn_burn_in = 500, #states to throw away before calculating output\n",
    "                                subsequence_prop = 0.8, #combine len of tr + val sets\n",
    "                                **cv_declaration_args\n",
    "                                )\n",
    "    #optimize the network:\n",
    "    simple_pop_hps = esn_cv.optimize(x = xtrain,\n",
    "                              reparam_f = reparam, \n",
    "                              ODE_criterion = custom_loss,\n",
    "                              init_conditions = [y0s], \n",
    "                              force = no_force,\n",
    "                              ode_coefs = [1, 1],\n",
    "                              max_evals = 500,\n",
    "                              n_trust_regions = 2,\n",
    "                              reg_type = \"simple_pop\")"
   ]
  },
  {
   "cell_type": "code",
   "execution_count": 13,
   "id": "designed-concrete",
   "metadata": {},
   "outputs": [],
   "source": [
    "if RUN_SIMPLE_POP:\n",
    "    simple_pop_hps = esn_cv.recover_hps()\n",
    "    simple_pop_hps"
   ]
  },
  {
   "cell_type": "code",
   "execution_count": 14,
   "id": "thorough-excerpt",
   "metadata": {},
   "outputs": [
    {
     "name": "stdout",
     "output_type": "stream",
     "text": [
      "CPU times: user 2 µs, sys: 0 ns, total: 2 µs\n",
      "Wall time: 4.05 µs\n"
     ]
    }
   ],
   "source": [
    "%%time\n",
    "if RUN_SIMPLE_POP:\n",
    "    pop_RC = EchoStateNetwork(**simple_pop_hps,\n",
    "                             random_state = 209, \n",
    "                             dtype = torch.float32)\n",
    "\n",
    "    train_args = {\"X\" : xtrain.view(-1,1),        \n",
    "                  \"burn_in\" : 500, \n",
    "                  \"ODE_order\" : 1,   \n",
    "                  \"force\" : no_force, \n",
    "                  \"reparam_f\" : reparam,\n",
    "                  \"ode_coefs\" : [1, 1]}\n",
    "\n",
    "\n",
    "    pop_results = pop_RC.fit(init_conditions = [y0s,1],\n",
    "                            SOLVE = True,\n",
    "                            train_score = True, \n",
    "                            ODE_criterion = custom_loss,\n",
    "\n",
    "                             n_outputs = 1,\n",
    "                            **train_args)"
   ]
  },
  {
   "cell_type": "code",
   "execution_count": 15,
   "id": "olive-geometry",
   "metadata": {},
   "outputs": [],
   "source": [
    "def simple_pop(y, t, t_pow = 0, force_k = 0, k = 1):\n",
    "    dydt = -k * y *t**t_pow + force_k*np.sin(t)\n",
    "    return dydt"
   ]
  },
  {
   "cell_type": "code",
   "execution_count": 16,
   "id": "interior-reasoning",
   "metadata": {},
   "outputs": [],
   "source": [
    "#TODO: show results outside BO range"
   ]
  },
  {
   "cell_type": "code",
   "execution_count": 17,
   "id": "considered-moment",
   "metadata": {},
   "outputs": [],
   "source": [
    "# some particularly good runs:\n",
    "\n",
    "# simple_pop_hps = {'dt': 0.0031622776601683794,\n",
    "#  'n_nodes': 250,\n",
    "#  'connectivity': 0.13615401772200952,\n",
    "#  'spectral_radius': 4.1387834548950195,\n",
    "#  'regularization': 0.00028325262824591835,\n",
    "#  'leaking_rate': 0.2962796092033386,\n",
    "#  'bias': -0.5639935731887817}\n",
    "\n",
    "# opt_hps = {'dt': 0.0031622776601683794,\n",
    "#  'n_nodes': 250,\n",
    "#  'connectivity': 0.7170604557008349,\n",
    "#  'spectral_radius': 1.5755887031555176,\n",
    "#  'regularization': 0.00034441529823729916,\n",
    "#  'leaking_rate': 0.9272222518920898,\n",
    "#  'bias': 0.1780446171760559}\n",
    "\n",
    "# opt_hps = {'dt': 0.0017782794100389228,\n",
    "#  'n_nodes': 250,\n",
    "#  'connectivity': 0.11197846061157432,\n",
    "#  'spectral_radius': 1.7452095746994019,\n",
    "#  'regularization': 0.00012929296298723957,\n",
    "#  'leaking_rate': 0.7733328938484192,\n",
    "#  'bias': 0.1652531623840332}"
   ]
  },
  {
   "cell_type": "code",
   "execution_count": 18,
   "id": "nearby-dublin",
   "metadata": {},
   "outputs": [],
   "source": [
    "\n",
    "if RUN_SIMPLE_POP:\n",
    "    fig = plt.figure(figsize = (9, 7)); gs1 = gridspec.GridSpec(3, 3);\n",
    "    ax = plt.subplot(gs1[:-1, :])\n",
    "\n",
    "    gts = plot_predictions(RC = pop_RC, \n",
    "                           results = pop_results, \n",
    "                           integrator_model = simple_pop, \n",
    "                           ax = ax)\n",
    "\n",
    "    ax = plt.subplot(gs1[-1, :])\n",
    "    plot_data = plot_rmsr(pop_RC, \n",
    "                          results = pop_results, \n",
    "                          force = no_force, \n",
    "                          ax = ax)"
   ]
  },
  {
   "cell_type": "code",
   "execution_count": 19,
   "id": "worldwide-delicious",
   "metadata": {},
   "outputs": [],
   "source": [
    "#esn_cv.X_turbo[0,:]"
   ]
  },
  {
   "cell_type": "code",
   "execution_count": 20,
   "id": "secure-classroom",
   "metadata": {},
   "outputs": [],
   "source": [
    "#plt.plot(-esn_cv.Y_turbo)"
   ]
  },
  {
   "cell_type": "markdown",
   "id": "associate-quebec",
   "metadata": {},
   "source": [
    "### Driven population:"
   ]
  },
  {
   "cell_type": "code",
   "execution_count": 21,
   "id": "enhanced-movement",
   "metadata": {},
   "outputs": [],
   "source": [
    "#declare the bounds dict. We search for the variables within the specified bounds.\n",
    "# if a variable is declared as a float or integer like n_nodes or dt, these variables are fixed.\n",
    "bounds_dict = {\"connectivity\" : (-2, -0.12), #log space\n",
    "               \"spectral_radius\" : (1, 10), #lin space\n",
    "               \"n_nodes\" : 400, \n",
    "               \"regularization\" : (-4, 4), #log space\n",
    "               \"leaking_rate\" : (0, 1),    #linear space\n",
    "               \"dt\" : -2.5, #log space\n",
    "               \"bias\": (-0.75,0.75) #linear space\n",
    "               }"
   ]
  },
  {
   "cell_type": "code",
   "execution_count": 22,
   "id": "encouraging-italy",
   "metadata": {},
   "outputs": [
    {
     "name": "stdout",
     "output_type": "stream",
     "text": [
      "CPU times: user 2 µs, sys: 0 ns, total: 2 µs\n",
      "Wall time: 3.81 µs\n"
     ]
    }
   ],
   "source": [
    "%%time\n",
    "#declare the esn_cv optimizer: this class will run bayesian optimization to optimize the bounds dict.\n",
    "#for more information see the github.\n",
    "if RUN_DRIVEN_POP:\n",
    "    esn_cv = EchoStateNetworkCV(bounds = bounds_dict,\n",
    "                                esn_burn_in = 500, #states to throw away before calculating output\n",
    "                                subsequence_prop = 0.8, #combine len of tr + val sets\n",
    "                                **cv_declaration_args,\n",
    "\n",
    "                                )\n",
    "    #optimize the network:\n",
    "    driven_pop_hps = esn_cv.optimize(x = xtrain,\n",
    "                              reparam_f = reparam, \n",
    "                              ODE_criterion = custom_loss,\n",
    "                              init_conditions = [y0s], \n",
    "                              force = driven_force,\n",
    "                              ode_coefs = [1, 1],\n",
    "                              reg_type = \"driven_pop\")"
   ]
  },
  {
   "cell_type": "code",
   "execution_count": 23,
   "id": "unavailable-sculpture",
   "metadata": {},
   "outputs": [
    {
     "data": {
      "text/plain": [
       "21"
      ]
     },
     "execution_count": 23,
     "metadata": {},
     "output_type": "execute_result"
    }
   ],
   "source": [
    "y0s = np.arange(-10, 10.1, 1)\n",
    "len(y0s)"
   ]
  },
  {
   "cell_type": "code",
   "execution_count": 24,
   "id": "false-baltimore",
   "metadata": {},
   "outputs": [
    {
     "name": "stdout",
     "output_type": "stream",
     "text": [
      "CPU times: user 2 µs, sys: 0 ns, total: 2 µs\n",
      "Wall time: 4.05 µs\n"
     ]
    }
   ],
   "source": [
    "%%time\n",
    "if RUN_DRIVEN_POP:\n",
    "    driven_RC = EchoStateNetwork(**driven_pop_hps,\n",
    "                             random_state = 209, \n",
    "                             dtype = torch.float32)\n",
    "\n",
    "    train_args = {\"X\" : xtrain.view(-1,1),        \n",
    "                  \"burn_in\" : 500, \n",
    "                  \"ODE_order\" : 1,   \n",
    "                  \"force\" : driven_force, \n",
    "                  \"reparam_f\" : reparam,\n",
    "                  \"ode_coefs\" : [1, 1]}\n",
    "\n",
    "\n",
    "    driven_results = driven_RC.fit(init_conditions = [y0s,1],\n",
    "                        SOLVE = True,\n",
    "                        train_score = True, \n",
    "                        ODE_criterion = custom_loss,\n",
    "                        **train_args)"
   ]
  },
  {
   "cell_type": "code",
   "execution_count": 25,
   "id": "solar-might",
   "metadata": {},
   "outputs": [],
   "source": [
    "def driven_pop(y, t, t_pow = 0, force_k = 1, k = 1):\n",
    "    dydt = -k * y *t**t_pow + force_k*np.sin(t)\n",
    "    return dydt\n"
   ]
  },
  {
   "cell_type": "code",
   "execution_count": 26,
   "id": "focal-digest",
   "metadata": {},
   "outputs": [],
   "source": [
    "if RUN_DRIVEN_POP:\n",
    "    driven_pop_hps"
   ]
  },
  {
   "cell_type": "code",
   "execution_count": 27,
   "id": "aggregate-process",
   "metadata": {},
   "outputs": [],
   "source": [
    "if RUN_DRIVEN_POP:\n",
    "    fig = plt.figure(figsize = (9, 7)); gs1 = gridspec.GridSpec(3, 3);\n",
    "    ax = plt.subplot(gs1[:-1, :])\n",
    "\n",
    "    gts = plot_predictions(RC = driven_RC, \n",
    "                           results = driven_results, \n",
    "                           integrator_model = driven_pop, \n",
    "                           ax = ax)\n",
    "\n",
    "    ax = plt.subplot(gs1[-1, :])\n",
    "    plot_data = plot_rmsr(driven_RC, \n",
    "                          results = driven_results, \n",
    "                          force = driven_force, \n",
    "                          ax = ax)"
   ]
  },
  {
   "cell_type": "markdown",
   "id": "requested-colombia",
   "metadata": {},
   "source": [
    "#### Driven t^2 Population:"
   ]
  },
  {
   "cell_type": "code",
   "execution_count": 28,
   "id": "universal-battery",
   "metadata": {},
   "outputs": [
    {
     "data": {
      "text/plain": [
       "201"
      ]
     },
     "execution_count": 28,
     "metadata": {},
     "output_type": "execute_result"
    }
   ],
   "source": [
    "#declare the initial conditions (each initial condition corresponds to a different curve)\n",
    "y0s = np.arange(-10, 10.1, 0.1)\n",
    "len(y0s)"
   ]
  },
  {
   "cell_type": "code",
   "execution_count": 29,
   "id": "textile-involvement",
   "metadata": {},
   "outputs": [
    {
     "data": {
      "text/plain": [
       "-0.3010299956639812"
      ]
     },
     "execution_count": 29,
     "metadata": {},
     "output_type": "execute_result"
    }
   ],
   "source": [
    "np.log10(0.5)"
   ]
  },
  {
   "cell_type": "code",
   "execution_count": 30,
   "id": "enabling-slovenia",
   "metadata": {},
   "outputs": [],
   "source": [
    "t2_hps =  {'n_nodes': 500,\n",
    "           'connectivity': 0.09905712745750006,\n",
    "           'spectral_radius': 1.8904799222946167,\n",
    "           'regularization': 714.156090350679,\n",
    "           'leaking_rate': 0.05,#0.031645022332668304,\n",
    "           'bias': -0.24167031049728394,\n",
    "           'dt' : 0.005,\n",
    "           'input_connectivity' : 0.3}"
   ]
  },
  {
   "cell_type": "code",
   "execution_count": 203,
   "id": "wanted-retreat",
   "metadata": {},
   "outputs": [],
   "source": [
    "#declare the bounds dict. We search for the variables within the specified bounds.\n",
    "# if a variable is declared as a float or integer like n_nodes or dt, these variables are fixed.\n",
    "\n",
    "t2_hps =  {'n_nodes': (500, 503),\n",
    "           'connectivity': 0.09905712745750006,\n",
    "           'spectral_radius': 1.8904799222946167,\n",
    "           'regularization': 714.156090350679,\n",
    "           'leaking_rate': 0.031645022332668304,\n",
    "           'bias': -0.24167031049728394,\n",
    "           'dt' : 0.005}\n",
    "\n",
    "bounds_dict = {\"connectivity\" : (-1.2, -0.8), #log space\n",
    "               \"spectral_radius\" : (1.5, 1.89), #lin space\n",
    "               \"n_nodes\" : 500, \n",
    "               \"regularization\" : (-4, 4), #log space\n",
    "               \"leaking_rate\" : (0.01, 1.0),#(0.02, .04),    #linear space\n",
    "               \"dt\" : -2.3, #log space\n",
    "               \"bias\": (-1,1), #linear space\n",
    "               'feedback_connectivity' : (0,1),\n",
    "               #'input_connectivity' : (0,1),\n",
    "               'input_scaling' : 0.0, #(0.1, 2),\n",
    "               'feedback_scaling' :(0.1, 2),\n",
    "               'feedback' : 1\n",
    "               }"
   ]
  },
  {
   "cell_type": "code",
   "execution_count": 209,
   "id": "sunrise-corrections",
   "metadata": {},
   "outputs": [
    {
     "data": {
      "text/plain": [
       "[('r', 't'), ('e', 'a'), ('l', 'n'), ('u', 'h')]"
      ]
     },
     "execution_count": 209,
     "metadata": {},
     "output_type": "execute_result"
    }
   ],
   "source": [
    "hi = {\"relu\" : 0.3, \"tanh\" : 0.8}\n",
    "list(zip(*hi))"
   ]
  },
  {
   "cell_type": "code",
   "execution_count": 214,
   "id": "weekly-surgery",
   "metadata": {},
   "outputs": [
    {
     "data": {
      "text/plain": [
       "tensor([2, 2, 2, 2, 2, 2, 2, 2, 2, 1])"
      ]
     },
     "execution_count": 214,
     "metadata": {},
     "output_type": "execute_result"
    }
   ],
   "source": [
    "torch.tensor(np.random.choice(list(range(3)), size = 10, p = [0.1, 0.1, 0.8])) "
   ]
  },
  {
   "cell_type": "code",
   "execution_count": 205,
   "id": "desirable-framework",
   "metadata": {},
   "outputs": [
    {
     "name": "stdout",
     "output_type": "stream",
     "text": [
      "FEEDBACK: None , device: None\n",
      "cpu\n",
      "m,n 1 500\n",
      "in_weights torch.Size([500, 1]) m 1 n_in 1\n",
      "Model initialization and exploration run...\n"
     ]
    },
    {
     "ename": "KeyboardInterrupt",
     "evalue": "",
     "output_type": "error",
     "traceback": [
      "\u001b[0;31m---------------------------------------------------------------------------\u001b[0m",
      "\u001b[0;31mKeyboardInterrupt\u001b[0m                         Traceback (most recent call last)",
      "\u001b[0;32m<timed exec>\u001b[0m in \u001b[0;36m<module>\u001b[0;34m\u001b[0m\n",
      "\u001b[0;32m/usr/local/anaconda3/lib/python3.8/site-packages/rctorchprivate/esn_cv.py\u001b[0m in \u001b[0;36moptimize\u001b[0;34m(self, n_trust_regions, max_evals, y, x, store_path, epochs, learning_rate, scoring_method, criterion, reparam_f, ODE_criterion, init_conditions, scale, force, backprop_f, backprop, ode_coefs, solve, rounds, tr_score_prop, q, eq_system, nonlinear_ode, reg_type, solve_sample_prop)\u001b[0m\n\u001b[1;32m   1661\u001b[0m             \u001b[0mself\u001b[0m\u001b[0;34m.\u001b[0m\u001b[0m_errorz\u001b[0m\u001b[0;34m[\u001b[0m\u001b[0mi\u001b[0m\u001b[0;34m]\u001b[0m\u001b[0;34m,\u001b[0m \u001b[0mself\u001b[0m\u001b[0;34m.\u001b[0m\u001b[0m_errorz_step\u001b[0m\u001b[0;34m[\u001b[0m\u001b[0mi\u001b[0m\u001b[0;34m]\u001b[0m\u001b[0;34m,\u001b[0m \u001b[0mself\u001b[0m\u001b[0;34m.\u001b[0m\u001b[0m_length_progress\u001b[0m\u001b[0;34m[\u001b[0m\u001b[0mi\u001b[0m\u001b[0;34m]\u001b[0m \u001b[0;34m=\u001b[0m \u001b[0;34m[\u001b[0m\u001b[0;34m]\u001b[0m\u001b[0;34m,\u001b[0m \u001b[0;34m[\u001b[0m\u001b[0;34m]\u001b[0m\u001b[0;34m,\u001b[0m \u001b[0;34m[\u001b[0m\u001b[0;34m]\u001b[0m\u001b[0;34m\u001b[0m\u001b[0;34m\u001b[0m\u001b[0m\n\u001b[1;32m   1662\u001b[0m \u001b[0;34m\u001b[0m\u001b[0m\n\u001b[0;32m-> 1663\u001b[0;31m         \u001b[0mbest_hyper_parameters\u001b[0m \u001b[0;34m=\u001b[0m \u001b[0mself\u001b[0m\u001b[0;34m.\u001b[0m\u001b[0m_turbo_m\u001b[0m\u001b[0;34m(\u001b[0m\u001b[0;34m)\u001b[0m\u001b[0;34m\u001b[0m\u001b[0;34m\u001b[0m\u001b[0m\n\u001b[0m\u001b[1;32m   1664\u001b[0m \u001b[0;34m\u001b[0m\u001b[0m\n\u001b[1;32m   1665\u001b[0m \u001b[0;34m\u001b[0m\u001b[0m\n",
      "\u001b[0;32m/usr/local/anaconda3/lib/python3.8/site-packages/rctorchprivate/esn_cv.py\u001b[0m in \u001b[0;36m_turbo_m\u001b[0;34m(self)\u001b[0m\n\u001b[1;32m   2083\u001b[0m         \u001b[0mself\u001b[0m\u001b[0;34m.\u001b[0m\u001b[0mstates\u001b[0m \u001b[0;34m=\u001b[0m \u001b[0;34m{\u001b[0m\u001b[0;34m}\u001b[0m\u001b[0;34m\u001b[0m\u001b[0;34m\u001b[0m\u001b[0m\n\u001b[1;32m   2084\u001b[0m \u001b[0;34m\u001b[0m\u001b[0m\n\u001b[0;32m-> 2085\u001b[0;31m         \u001b[0mself\u001b[0m\u001b[0;34m.\u001b[0m\u001b[0mexecute_initial_parallel_batches\u001b[0m\u001b[0;34m(\u001b[0m\u001b[0;34m)\u001b[0m\u001b[0;34m\u001b[0m\u001b[0;34m\u001b[0m\u001b[0m\n\u001b[0m\u001b[1;32m   2086\u001b[0m \u001b[0;34m\u001b[0m\u001b[0m\n\u001b[1;32m   2087\u001b[0m \u001b[0;34m\u001b[0m\u001b[0m\n",
      "\u001b[0;32m/usr/local/anaconda3/lib/python3.8/site-packages/rctorchprivate/esn_cv.py\u001b[0m in \u001b[0;36mexecute_initial_parallel_batches\u001b[0;34m(self)\u001b[0m\n\u001b[1;32m   1889\u001b[0m         \u001b[0mresults\u001b[0m \u001b[0;34m=\u001b[0m \u001b[0;34m[\u001b[0m\u001b[0;34m]\u001b[0m\u001b[0;34m\u001b[0m\u001b[0;34m\u001b[0m\u001b[0m\n\u001b[1;32m   1890\u001b[0m         \u001b[0;32mfor\u001b[0m \u001b[0mobjective_input\u001b[0m \u001b[0;32min\u001b[0m \u001b[0mobjective_inputs\u001b[0m\u001b[0;34m:\u001b[0m\u001b[0;34m\u001b[0m\u001b[0;34m\u001b[0m\u001b[0m\n\u001b[0;32m-> 1891\u001b[0;31m             \u001b[0mresult_i\u001b[0m \u001b[0;34m=\u001b[0m \u001b[0meval_objective_remote\u001b[0m\u001b[0;34m(\u001b[0m\u001b[0mself\u001b[0m\u001b[0;34m.\u001b[0m\u001b[0mparallel_args_id\u001b[0m\u001b[0;34m,\u001b[0m \u001b[0mobjective_input\u001b[0m\u001b[0;34m,\u001b[0m \u001b[0mself\u001b[0m\u001b[0;34m.\u001b[0m\u001b[0mdtype\u001b[0m\u001b[0;34m,\u001b[0m \u001b[0mself\u001b[0m\u001b[0;34m.\u001b[0m\u001b[0mdevice\u001b[0m\u001b[0;34m)\u001b[0m\u001b[0;34m\u001b[0m\u001b[0;34m\u001b[0m\u001b[0m\n\u001b[0m\u001b[1;32m   1892\u001b[0m             \u001b[0mresults\u001b[0m\u001b[0;34m.\u001b[0m\u001b[0mappend\u001b[0m\u001b[0;34m(\u001b[0m\u001b[0mresult_i\u001b[0m\u001b[0;34m)\u001b[0m\u001b[0;34m\u001b[0m\u001b[0;34m\u001b[0m\u001b[0m\n\u001b[1;32m   1893\u001b[0m \u001b[0;34m\u001b[0m\u001b[0m\n",
      "\u001b[0;32m/usr/local/anaconda3/lib/python3.8/site-packages/rctorchprivate/esn_cv.py\u001b[0m in \u001b[0;36meval_objective_remote\u001b[0;34m(parallel_args_id, parameters, dtype, device, plot_type, *args)\u001b[0m\n\u001b[1;32m    660\u001b[0m         \u001b[0;31m#breakpoint()\u001b[0m\u001b[0;34m\u001b[0m\u001b[0;34m\u001b[0m\u001b[0;34m\u001b[0m\u001b[0m\n\u001b[1;32m    661\u001b[0m         \u001b[0;31m#parallel_arguments, parameters, X_turbo_spec\u001b[0m\u001b[0;34m\u001b[0m\u001b[0;34m\u001b[0m\u001b[0;34m\u001b[0m\u001b[0m\n\u001b[0;32m--> 662\u001b[0;31m         \u001b[0mresults\u001b[0m \u001b[0;34m=\u001b[0m \u001b[0mray\u001b[0m\u001b[0;34m.\u001b[0m\u001b[0mget\u001b[0m\u001b[0;34m(\u001b[0m\u001b[0;34m[\u001b[0m\u001b[0mexecute_objective\u001b[0m\u001b[0;34m.\u001b[0m\u001b[0mremote\u001b[0m\u001b[0;34m(\u001b[0m\u001b[0mparallel_args_id\u001b[0m\u001b[0;34m,\u001b[0m \u001b[0mparams\u001b[0m\u001b[0;34m,\u001b[0m \u001b[0mX_turbo_batch\u001b[0m\u001b[0;34m[\u001b[0m\u001b[0mi\u001b[0m\u001b[0;34m]\u001b[0m\u001b[0;34m,\u001b[0m \u001b[0mtrust_region_ids\u001b[0m\u001b[0;34m[\u001b[0m\u001b[0mi\u001b[0m\u001b[0;34m]\u001b[0m\u001b[0;34m)\u001b[0m \u001b[0;32mfor\u001b[0m \u001b[0mi\u001b[0m\u001b[0;34m,\u001b[0m \u001b[0mparams\u001b[0m \u001b[0;32min\u001b[0m \u001b[0menumerate\u001b[0m\u001b[0;34m(\u001b[0m\u001b[0mparameter_lst\u001b[0m\u001b[0;34m)\u001b[0m\u001b[0;34m]\u001b[0m\u001b[0;34m)\u001b[0m\u001b[0;34m\u001b[0m\u001b[0;34m\u001b[0m\u001b[0m\n\u001b[0m\u001b[1;32m    663\u001b[0m \u001b[0;34m\u001b[0m\u001b[0m\n\u001b[1;32m    664\u001b[0m         \u001b[0;31m#the old way of sorting orgainizing to avoid problems with parallel job asynch, new method is id internal.\u001b[0m\u001b[0;34m\u001b[0m\u001b[0;34m\u001b[0m\u001b[0;34m\u001b[0m\u001b[0m\n",
      "\u001b[0;32m/usr/local/anaconda3/lib/python3.8/site-packages/ray/_private/client_mode_hook.py\u001b[0m in \u001b[0;36mwrapper\u001b[0;34m(*args, **kwargs)\u001b[0m\n\u001b[1;32m     80\u001b[0m         \u001b[0;32mif\u001b[0m \u001b[0mclient_mode_should_convert\u001b[0m\u001b[0;34m(\u001b[0m\u001b[0;34m)\u001b[0m\u001b[0;34m:\u001b[0m\u001b[0;34m\u001b[0m\u001b[0;34m\u001b[0m\u001b[0m\n\u001b[1;32m     81\u001b[0m             \u001b[0;32mreturn\u001b[0m \u001b[0mgetattr\u001b[0m\u001b[0;34m(\u001b[0m\u001b[0mray\u001b[0m\u001b[0;34m,\u001b[0m \u001b[0mfunc\u001b[0m\u001b[0;34m.\u001b[0m\u001b[0m__name__\u001b[0m\u001b[0;34m)\u001b[0m\u001b[0;34m(\u001b[0m\u001b[0;34m*\u001b[0m\u001b[0margs\u001b[0m\u001b[0;34m,\u001b[0m \u001b[0;34m**\u001b[0m\u001b[0mkwargs\u001b[0m\u001b[0;34m)\u001b[0m\u001b[0;34m\u001b[0m\u001b[0;34m\u001b[0m\u001b[0m\n\u001b[0;32m---> 82\u001b[0;31m         \u001b[0;32mreturn\u001b[0m \u001b[0mfunc\u001b[0m\u001b[0;34m(\u001b[0m\u001b[0;34m*\u001b[0m\u001b[0margs\u001b[0m\u001b[0;34m,\u001b[0m \u001b[0;34m**\u001b[0m\u001b[0mkwargs\u001b[0m\u001b[0;34m)\u001b[0m\u001b[0;34m\u001b[0m\u001b[0;34m\u001b[0m\u001b[0m\n\u001b[0m\u001b[1;32m     83\u001b[0m \u001b[0;34m\u001b[0m\u001b[0m\n\u001b[1;32m     84\u001b[0m     \u001b[0;32mreturn\u001b[0m \u001b[0mwrapper\u001b[0m\u001b[0;34m\u001b[0m\u001b[0;34m\u001b[0m\u001b[0m\n",
      "\u001b[0;32m/usr/local/anaconda3/lib/python3.8/site-packages/ray/worker.py\u001b[0m in \u001b[0;36mget\u001b[0;34m(object_refs, timeout)\u001b[0m\n\u001b[1;32m   1555\u001b[0m \u001b[0;34m\u001b[0m\u001b[0m\n\u001b[1;32m   1556\u001b[0m         \u001b[0;31m# TODO(ujvl): Consider how to allow user to retrieve the ready objects.\u001b[0m\u001b[0;34m\u001b[0m\u001b[0;34m\u001b[0m\u001b[0;34m\u001b[0m\u001b[0m\n\u001b[0;32m-> 1557\u001b[0;31m         values, debugger_breakpoint = worker.get_objects(\n\u001b[0m\u001b[1;32m   1558\u001b[0m             object_refs, timeout=timeout)\n\u001b[1;32m   1559\u001b[0m         \u001b[0;32mfor\u001b[0m \u001b[0mi\u001b[0m\u001b[0;34m,\u001b[0m \u001b[0mvalue\u001b[0m \u001b[0;32min\u001b[0m \u001b[0menumerate\u001b[0m\u001b[0;34m(\u001b[0m\u001b[0mvalues\u001b[0m\u001b[0;34m)\u001b[0m\u001b[0;34m:\u001b[0m\u001b[0;34m\u001b[0m\u001b[0;34m\u001b[0m\u001b[0m\n",
      "\u001b[0;32m/usr/local/anaconda3/lib/python3.8/site-packages/ray/worker.py\u001b[0m in \u001b[0;36mget_objects\u001b[0;34m(self, object_refs, timeout)\u001b[0m\n\u001b[1;32m    338\u001b[0m \u001b[0;34m\u001b[0m\u001b[0m\n\u001b[1;32m    339\u001b[0m         \u001b[0mtimeout_ms\u001b[0m \u001b[0;34m=\u001b[0m \u001b[0mint\u001b[0m\u001b[0;34m(\u001b[0m\u001b[0mtimeout\u001b[0m \u001b[0;34m*\u001b[0m \u001b[0;36m1000\u001b[0m\u001b[0;34m)\u001b[0m \u001b[0;32mif\u001b[0m \u001b[0mtimeout\u001b[0m \u001b[0;32melse\u001b[0m \u001b[0;34m-\u001b[0m\u001b[0;36m1\u001b[0m\u001b[0;34m\u001b[0m\u001b[0;34m\u001b[0m\u001b[0m\n\u001b[0;32m--> 340\u001b[0;31m         data_metadata_pairs = self.core_worker.get_objects(\n\u001b[0m\u001b[1;32m    341\u001b[0m             object_refs, self.current_task_id, timeout_ms)\n\u001b[1;32m    342\u001b[0m         \u001b[0mdebugger_breakpoint\u001b[0m \u001b[0;34m=\u001b[0m \u001b[0;34mb\"\"\u001b[0m\u001b[0;34m\u001b[0m\u001b[0;34m\u001b[0m\u001b[0m\n",
      "\u001b[0;31mKeyboardInterrupt\u001b[0m: "
     ]
    }
   ],
   "source": [
    "%%time\n",
    "n = 8\n",
    "#declare the esn_cv optimizer: this class will run bayesian optimization to optimize the bounds dict.\n",
    "#for more information see the github.\n",
    "esn_cv = EchoStateNetworkCV(bounds = bounds_dict,\n",
    "                            esn_burn_in = 0, #states to throw away before calculating output\n",
    "                            subsequence_prop = 0.8, #combine len of tr + val sets\n",
    "                            **cv_declaration_args,\n",
    "                            solve_sample_prop = 0.5,\n",
    "                            activation_function = {\"relu\"}\n",
    "                            )\n",
    "#optimize the network:\n",
    "opt = True\n",
    "if opt:\n",
    "    t2_pop_hps = esn_cv.optimize(x = xtrain,\n",
    "                              reparam_f = reparam, \n",
    "                              ODE_criterion = custom_loss,\n",
    "                              init_conditions = [y0s], \n",
    "                              force = driven_force,\n",
    "                              ode_coefs = [\"t^2\", 1],\n",
    "                              max_evals = 200 * n,\n",
    "                              n_trust_regions = n,\n",
    "                              reg_type = \"driven_pop\")"
   ]
  },
  {
   "cell_type": "code",
   "execution_count": 108,
   "id": "living-recording",
   "metadata": {},
   "outputs": [],
   "source": [
    "def recover_hps(self, alternative_index = None):\n",
    "        if alternative_index or alternative_index == 0:\n",
    "            _, best_indices = self.Y_turbo.view(-1,).topk(len(self.Y_turbo))\n",
    "            #breakpoint()\n",
    "            #I'm too lazy to change this now but best_vals will refer to the selected hps to \"recover\"\n",
    "            best_vals = self.X_turbo[best_indices[alternative_index]]\n",
    "        else:\n",
    "            best_vals = self.X_turbo[torch.argmax(self.Y_turbo)]\n",
    "            \n",
    "        denormed_ = self.denormalize_bounds(best_vals)\n",
    "\n",
    "        try:\n",
    "            denormed_ = denormalize_bounds(best_vals)\n",
    "        except:\n",
    "            print(\"FAIL\")\n",
    "\n",
    "        #best_vals = X_turbo[torch.argmax(Y_turbo)]\n",
    "\n",
    "        #####Bad temporary code to change it back into a dictionaryf\n",
    "        denormed_free_parameters = list(zip(self.free_parameters, denormed_))\n",
    "        denormed_free_parameters = dict([ (item[0], item[1].item()) for item in denormed_free_parameters])\n",
    "\n",
    "        best_hyper_parameters = denormed_free_parameters\n",
    "        for fixed_parameter in self.fixed_parameters:\n",
    "            best_hyper_parameters = {fixed_parameter : self.bounds[fixed_parameter], **best_hyper_parameters }\n",
    "\n",
    "        #log_vars = ['connectivity', 'llambda', 'llambda2', 'noise', 'regularization', 'dt']\n",
    "        for var in self.log_vars:\n",
    "            if var in best_hyper_parameters:\n",
    "                best_hyper_parameters[var] = 10. ** best_hyper_parameters[var] \n",
    "\n",
    "\n",
    "\n",
    "        # Return best parameters\n",
    "        return best_hyper_parameters\n"
   ]
  },
  {
   "cell_type": "code",
   "execution_count": null,
   "id": "fluid-inspiration",
   "metadata": {},
   "outputs": [],
   "source": []
  },
  {
   "cell_type": "code",
   "execution_count": 109,
   "id": "fatal-elder",
   "metadata": {},
   "outputs": [],
   "source": [
    "\n",
    "#solution run:\n",
    "t2_hps =  {'n_nodes': 500,\n",
    "           'connectivity': 0.09905712745750006,\n",
    "           'spectral_radius': 1.8904799222946167,\n",
    "           'regularization': 714.156090350679,\n",
    "           'leaking_rate': 0.05,#0.031645022332668304,\n",
    "           'bias': -0.24167031049728394,\n",
    "           'dt' : 0.005,\n",
    "           'input_connectivity' : 0.3}"
   ]
  },
  {
   "cell_type": "code",
   "execution_count": 110,
   "id": "understanding-button",
   "metadata": {},
   "outputs": [
    {
     "data": {
      "text/plain": [
       "201"
      ]
     },
     "execution_count": 110,
     "metadata": {},
     "output_type": "execute_result"
    }
   ],
   "source": [
    "#declare the initial conditions (each initial condition corresponds to a different curve)\n",
    "y0s = np.arange(-10, 10.1, 0.1)\n",
    "len(y0s)"
   ]
  },
  {
   "cell_type": "code",
   "execution_count": 111,
   "id": "satellite-result",
   "metadata": {},
   "outputs": [],
   "source": [
    "#max(esn_cv.Y_turbo)"
   ]
  },
  {
   "cell_type": "code",
   "execution_count": 112,
   "id": "assisted-wiring",
   "metadata": {},
   "outputs": [],
   "source": [
    "import seaborn as sns"
   ]
  },
  {
   "cell_type": "code",
   "execution_count": 113,
   "id": "common-julian",
   "metadata": {},
   "outputs": [],
   "source": [
    "#df = pd.DataFrame({\"Y\" : esn_cv.Y_turbo.view(-1,), \"turbo_id\" :  esn_cv._idx.view(-1,)})\n",
    "# sub_df = df.loc[df[\"turbo_id\"] == -1]\n",
    "\n",
    "# plt.plot(range(len(sub_df)), sub_df.Y, color = \"red\", alpha = 0.4)"
   ]
  },
  {
   "cell_type": "code",
   "execution_count": 114,
   "id": "cleared-collect",
   "metadata": {},
   "outputs": [],
   "source": [
    "# for i in range(len(df.turbo_id.unique())):\n",
    "# #     if i > 3:\n",
    "# #         break\n",
    "#     sub_df = df.loc[df[\"turbo_id\"] == i]\n",
    "#     plt.plot(range(len(sub_df)), sub_df.Y, color = \"red\", alpha = 0.4)"
   ]
  },
  {
   "cell_type": "code",
   "execution_count": 115,
   "id": "strategic-auckland",
   "metadata": {},
   "outputs": [],
   "source": [
    "#sns.lineplot(x = range(len(df)), y = \"Y\", data = df, hue = \"turbo_id\")"
   ]
  },
  {
   "cell_type": "code",
   "execution_count": 185,
   "id": "upset-service",
   "metadata": {},
   "outputs": [
    {
     "name": "stdout",
     "output_type": "stream",
     "text": [
      "FAIL\n",
      "{'feedback': 1, 'dt': 0.005011872336272725, 'n_nodes': 500, 'spectral_radius': 1.89, 'connectivity': 0.1, 'regularization': 26.06307408848708, 'leaking_rate': 0.03024485521018505, 'bias': 0.9432246685028076, 'feedback_connectivity': 0.017625024542212486, 'input_connectivity': 0.26556336879730225, 'input_scaling': 0.6623784899711609, 'feedback_scaling': 0.37480247020721436}\n"
     ]
    }
   ],
   "source": []
  },
  {
   "cell_type": "code",
   "execution_count": 186,
   "id": "otherwise-newfoundland",
   "metadata": {},
   "outputs": [],
   "source": [
    "# t2_hps =  {'n_nodes': 500,\n",
    "#            'connectivity': 0.09905712745750006,\n",
    "#            'spectral_radius': 1.8904799222946167,\n",
    "#            'regularization': 714.156090350679,\n",
    "#            'leaking_rate': 0.031645022332668304,\n",
    "#            'bias': -0.24167031049728394,\n",
    "#            'dt' : 0.005,\n",
    "#            'input_connectivity' : 0.01}\n",
    "\n",
    "# t2_hps =  {'n_nodes': 500,\n",
    "#            'connectivity': 0.09905712745750006,\n",
    "#            'spectral_radius': 1.8904799222946167,\n",
    "#            'regularization': 714.156090350679,\n",
    "#            'leaking_rate': 0.031645022332668304,\n",
    "#            'bias': -0.24167031049728394,\n",
    "#            'dt' : 0.005,\n",
    "#            'feedback' : 0} \n",
    "#            'input_scaling' :0.0,\n",
    "#            'feedback_scaling' :0.3,\n",
    "#            'input_connectivity' : 0.2,\n",
    "#            'feedback_connectivity' : 0.2}"
   ]
  },
  {
   "cell_type": "code",
   "execution_count": 187,
   "id": "aggregate-scenario",
   "metadata": {},
   "outputs": [],
   "source": [
    "pow_ = 2\n",
    "\n",
    "\n",
    "\n",
    "def t2_pop(y, t, t_pow = pow_, force_k = 1, k = 1):\n",
    "    dydt = -k * y *t**t_pow + force_k*np.sin(t)\n",
    "    return dydt"
   ]
  },
  {
   "cell_type": "code",
   "execution_count": 198,
   "id": "invalid-zealand",
   "metadata": {},
   "outputs": [
    {
     "name": "stdout",
     "output_type": "stream",
     "text": [
      "FAIL\n",
      "{'feedback': 1, 'dt': 0.005011872336272725, 'n_nodes': 500, 'spectral_radius': 1.89, 'connectivity': 0.1, 'regularization': 26.06307408848708, 'leaking_rate': 0.03024485521018505, 'bias': 0.9432246685028076, 'feedback_connectivity': 0.017625024542212486, 'input_connectivity': 0.26556336879730225, 'input_scaling': 0.0, 'feedback_scaling': 0.37480247020721436}\n",
      "CPU times: user 1.28 s, sys: 120 ms, total: 1.4 s\n",
      "Wall time: 1.35 s\n"
     ]
    }
   ],
   "source": [
    "%%time\n",
    "\n",
    "t2_hps = recover_hps(esn_cv, 2)\n",
    "t2_hps[\"input_scaling\"] =  0.0\n",
    "#t2_hps[\"spectral_radius\"] = 0.99\n",
    "print(t2_hps)\n",
    "\n",
    "#t2_hps[\"leaking_rate\"] =0.1\n",
    "# t2_hps[\"spectral_radius\"] = 1.3#1.5\n",
    "\n",
    "#declare the initial conditions (each initial condition corresponds to a different curve)\n",
    "y0s = np.arange(-2, 2.9, 0.25)\n",
    "len(y0s)\n",
    "\n",
    "#t2_hps[\"input_connectivity\"] = 1.0\n",
    "t2_RC = EchoStateNetwork(**t2_hps,#pop_hps,\n",
    "                         random_state = 209, \n",
    "                         #feedback = True,\n",
    "                         dtype = torch.float32, )\n",
    "\n",
    "train_args = {\"X\" : xtrain.view(-1,1),        \n",
    "              \"burn_in\" : 0, #1000, \n",
    "              \"ODE_order\" : 1,   \n",
    "              \"force\" : driven_force, \n",
    "              \"reparam_f\" : reparam,\n",
    "              \"ode_coefs\" : [f\"t**{pow_}\", 1]}\n",
    "\n",
    "\n",
    "t2_results = t2_RC.fit(init_conditions = [y0s,1],\n",
    "                        SOLVE = True,\n",
    "                        train_score = True, \n",
    "                        ODE_criterion = custom_loss,\n",
    "                        \n",
    "                        #backprop_f = optimize_last_layer,\n",
    "                        **train_args,\n",
    "                        n_outputs = 1)"
   ]
  },
  {
   "cell_type": "code",
   "execution_count": 199,
   "id": "fewer-millennium",
   "metadata": {},
   "outputs": [
    {
     "data": {
      "text/plain": [
       "['connectivity',\n",
       " 'llambda',\n",
       " 'llambda2',\n",
       " 'enet_strength',\n",
       " 'noise',\n",
       " 'regularization',\n",
       " 'dt',\n",
       " 'gamma_cyclic',\n",
       " 'sigma']"
      ]
     },
     "execution_count": 199,
     "metadata": {},
     "output_type": "execute_result"
    }
   ],
   "source": [
    "esn_cv.log_vars"
   ]
  },
  {
   "cell_type": "code",
   "execution_count": 200,
   "id": "native-speaker",
   "metadata": {},
   "outputs": [
    {
     "data": {
      "text/plain": [
       "-1.0041142702102661"
      ]
     },
     "execution_count": 200,
     "metadata": {},
     "output_type": "execute_result"
    }
   ],
   "source": [
    "np.log10(0.09905712745750006)"
   ]
  },
  {
   "cell_type": "code",
   "execution_count": 201,
   "id": "fatal-nebraska",
   "metadata": {},
   "outputs": [
    {
     "data": {
      "text/plain": [
       "0.040925182"
      ]
     },
     "execution_count": 201,
     "metadata": {},
     "output_type": "execute_result"
    }
   ],
   "source": [
    "np.mean(t2_results['scores'])"
   ]
  },
  {
   "cell_type": "code",
   "execution_count": 202,
   "id": "metallic-proxy",
   "metadata": {},
   "outputs": [
    {
     "name": "stdout",
     "output_type": "stream",
     "text": [
      "alterning ode_coefs\n",
      "mean_resid 0.04092518240213394\n"
     ]
    },
    {
     "data": {
      "image/png": "[encoded data removed]",
      "text/plain": [
       "<Figure size 648x504 with 2 Axes>"
      ]
     },
     "metadata": {
      "needs_background": "light"
     },
     "output_type": "display_data"
    }
   ],
   "source": [
    "fig = plt.figure(figsize = (9, 7)); gs1 = gridspec.GridSpec(3, 3);\n",
    "ax = plt.subplot(gs1[:-1, :])\n",
    "\n",
    "gts = plot_predictions(RC = t2_RC, \n",
    "                       results = t2_results, \n",
    "                       integrator_model = t2_pop, \n",
    "                       ax = ax)\n",
    "\n",
    "ax = plt.subplot(gs1[-1, :])\n",
    "plot_data = plot_rmsr(t2_RC, \n",
    "                      results = t2_results, \n",
    "                      force = driven_force, \n",
    "                      ax = ax)"
   ]
  },
  {
   "cell_type": "code",
   "execution_count": null,
   "id": "public-debut",
   "metadata": {},
   "outputs": [],
   "source": [
    "# X_turbo = pd.DataFrame(esn_cv.X_turbo.numpy())\n",
    "# X_turbo.columns = esn_cv.free_parameters\n",
    "# Y_turbo = pd.DataFrame(esn_cv.Y_turbo.numpy())\n",
    "# Y_turbo.to_csv(\"driven_force_Y_turbo.csv\")\n",
    "# X_turbo.to_csv(\"driven_force_X_turbo.csv\")"
   ]
  },
  {
   "cell_type": "code",
   "execution_count": null,
   "id": "described-palestinian",
   "metadata": {},
   "outputs": [],
   "source": [
    "end_time = time.time()\n",
    "print(f'Total notebook runtime: {end_time - start_time:.2f} seconds')"
   ]
  },
  {
   "cell_type": "code",
   "execution_count": null,
   "id": "parliamentary-trail",
   "metadata": {},
   "outputs": [],
   "source": [
    "\n",
    "def force(X, A = 0):\n",
    "    return torch.zeros_like(X)\n",
    "\n",
    "def optimize_last_layer(esn, \n",
    "                        SAVE_AFTER_EPOCHS = 0,\n",
    "                        epochs = 30000,\n",
    "                        custom_loss = custom_loss,\n",
    "                        #loss_threshold = 10 ** -8,\n",
    "                        EPOCHS_TO_TERMINATION = None,\n",
    "                        force = force,\n",
    "                        learning_rate = 0.01,\n",
    "                        plott = False,\n",
    "                        spikethreshold = 0.25):\n",
    "    #define new_x\n",
    "    new_X = esn.extended_states.detach()\n",
    "\n",
    "    #force detach states_dot\n",
    "    esn.states_dot = esn.states_dot.detach().requires_grad_(False)\n",
    "\n",
    "    #define criterion\n",
    "    criterion = torch.nn.MSELoss()\n",
    "    \n",
    "    try:\n",
    "        assert esn.LinOut.weight.requires_grad and esn.LinOut.bias.requires_grad\n",
    "    except:\n",
    "        esn.LinOut.weight.requires_grad_(True)\n",
    "        esn.LinOut.bias.requires_grad_(True)\n",
    "    #define previous_loss (could be used to do a convergence stop)\n",
    "    previous_loss = 0\n",
    "\n",
    "    #define best score so that we can save the best weights\n",
    "    best_score = 0\n",
    "\n",
    "    #define the optimizer\n",
    "    optimizer = optim.Adam(esn.parameters(), lr = learning_rate)\n",
    "\n",
    "    #define the loss history\n",
    "    loss_history = []\n",
    "    \n",
    "    if plott:\n",
    "        #use pl for live plotting\n",
    "        fig, ax = pl.subplots(1,3, figsize = (16,4))\n",
    "    \n",
    "    t = esn.X#.view(*N.shape).detach()\n",
    "    g, g_dot = esn.G\n",
    "    y0  = esn.init_conds[0]\n",
    "    \n",
    "    #optimizer = torch.optim.SGD(model.parameters(), lr=100)\n",
    "    scheduler = torch.optim.lr_scheduler.StepLR(optimizer, step_size=1, gamma=0.5)\n",
    "    lrs = []\n",
    "    \n",
    "    floss_last = 0\n",
    "    force_t = force(t)\n",
    "\n",
    "    #begin optimization loop\n",
    "    for e in range(epochs):\n",
    "\n",
    "        optimizer.zero_grad()\n",
    "        \n",
    "        N = esn.forward( esn.extended_states )\n",
    "        N_dot = esn.calc_Ndot(esn.states_dot)\n",
    "\n",
    "        y = y0  + g *N \n",
    "        \n",
    "        ydot = g_dot * N + g * N_dot\n",
    "\n",
    "        #assert N.shape == N_dot.shape, f'{N.shape} != {N_dot.shape}'\n",
    "        #assert esn.LinOut.weight.requires_grad and esn.LinOut.bias.requires_grad\n",
    "        \n",
    "        #assert False, f'{esn.LinOut.weight}'\n",
    "\n",
    "        total_ws = esn.LinOut.weight.shape[0] + 1\n",
    "        weight_size_sq = torch.mean(torch.square(esn.LinOut.weight))\n",
    "        \n",
    "        loss = custom_loss(esn.X, y, ydot, esn.LinOut.weight, reg = False, ode_coefs = esn.ode_coefs, force_t = force_t)\n",
    "        loss.backward()\n",
    "        optimizer.step()\n",
    "        floss = float(loss)\n",
    "        loss_history.append(floss)\n",
    "        \n",
    "        if not e and not best_score:\n",
    "            best_bias, best_weight = esn.LinOut.bias.detach(), esn.LinOut.weight.detach()\n",
    "\n",
    "        #if e > SAVE_AFTER_EPOCHS:\n",
    "        if not best_score:\n",
    "            best_score = float(loss)\n",
    "            if floss <= min(loss_history):\n",
    "                best_pred = y.clone()\n",
    "                best_ydot = ydot.clone()\n",
    "                best_bias, best_weight = esn.LinOut.bias.detach(), esn.LinOut.weight.detach()\n",
    "        else:\n",
    "            if floss < best_score:\n",
    "                best_pred = y.clone()\n",
    "                best_ydot = ydot.clone()\n",
    "                best_bias, best_weight = esn.LinOut.bias.detach(), esn.LinOut.weight.detach()\n",
    "                best_score = float(loss)\n",
    "                \n",
    "        if EPOCHS_TO_TERMINATION:\n",
    "            if e >= EPOCHS_TO_TERMINATION:\n",
    "                backprop_args = {\"loss_history\" : loss_history, \n",
    "                         \"lr\" : learning_rate,\n",
    "                         \"epochs\" : epochs\n",
    "                        }\n",
    "                return {\"weights\": best_weight, \n",
    "                        \"best_score\" : torch.tensor(best_score),\n",
    "                        \"bias\" : best_bias, \n",
    "                        \"loss\" : backprop_args,\n",
    "                        \"ydot\" : best_ydot, \n",
    "                        \"y\" : best_pred}\n",
    "            \n",
    "        if e > 1:\n",
    "            if float(np.log(floss_last) - np.log(floss)) > spikethreshold:\n",
    "                lrs.append(optimizer.param_groups[0][\"lr\"])\n",
    "                scheduler.step()\n",
    "                #for param_group in optimizer.param_groups:\n",
    "                #    print('lr', param_group['lr'])\n",
    "        floss_last = floss\n",
    "        if plott:\n",
    "\n",
    "            if e % 1500 == 0:\n",
    "                ax[0].clear()\n",
    "                logloss_str = 'Log(L) ' + '%.2E' % Decimal((loss).item())\n",
    "                delta_loss  = ' delta Log(L) ' + '%.2E' % Decimal((loss-previous_loss).item())\n",
    "\n",
    "                print(logloss_str + \", \" + delta_loss)\n",
    "                ax[0].plot(N.detach().cpu(), label = \"exact\")\n",
    "                ax[0].set_title(f\"Epoch {e}\" + \", \" + logloss_str)\n",
    "                ax[0].set_xlabel(\"epochs\")\n",
    "\n",
    "                ax[1].set_title(delta_loss)\n",
    "                ax[1].plot(N_dot.detach().cpu())\n",
    "                #ax[0].plot(y_dot.detach(), label = \"dy_dx\")\n",
    "                ax[2].clear()\n",
    "                weight_size = str(weight_size_sq.detach().item())\n",
    "                ax[2].set_title(\"loss history \\n and \"+ weight_size)\n",
    "\n",
    "                ax[2].loglog(loss_history)\n",
    "\n",
    "                [ax[i].legend() for i in range(3)]\n",
    "                previous_loss = loss.item()\n",
    "\n",
    "                #clear the plot outputt and then re-plot\n",
    "                display.clear_output(wait=True) \n",
    "                display.display(pl.gcf())\n",
    "    backprop_args = {\"loss_history\" : loss_history, \n",
    "                         \"lr\" : learning_rate,\n",
    "                         \"epochs\" : epochs\n",
    "                        }\n",
    "    return {\"weights\": best_weight, \n",
    "            \"bias\" : best_bias, \n",
    "            \"loss\" : backprop_args,\n",
    "            \"ydot\" : best_ydot,\n",
    "            \"best_score\" : torch.tensor(best_score), \n",
    "            \"y\" : best_pred}"
   ]
  },
  {
   "cell_type": "code",
   "execution_count": null,
   "id": "sized-polish",
   "metadata": {},
   "outputs": [],
   "source": []
  },
  {
   "cell_type": "code",
   "execution_count": null,
   "id": "chemical-wagner",
   "metadata": {},
   "outputs": [],
   "source": []
  }
 ],
 "metadata": {
  "kernelspec": {
   "display_name": "Python 3",
   "language": "python",
   "name": "python3"
  },
  "language_info": {
   "codemirror_mode": {
    "name": "ipython",
    "version": 3
   },
   "file_extension": ".py",
   "mimetype": "text/x-python",
   "name": "python",
   "nbconvert_exporter": "python",
   "pygments_lexer": "ipython3",
   "version": "3.8.8"
  }
 },
 "nbformat": 4,
 "nbformat_minor": 5
}
