{
 "cells": [
  {
   "cell_type": "code",
   "execution_count": null,
   "id": "proprietary-butter",
   "metadata": {},
   "outputs": [],
   "source": [
    "#ideas\n",
    "# cash register\n",
    "# data normalization\n",
    "# car directory\n",
    "\n",
    "# we can have frozen code that can take in data, then let them play with it afterwards."
   ]
  },
  {
   "cell_type": "code",
   "execution_count": 8,
   "id": "authorized-ladder",
   "metadata": {},
   "outputs": [
    {
     "data": {
      "text/plain": [
       "2.0"
      ]
     },
     "execution_count": 8,
     "metadata": {},
     "output_type": "execute_result"
    }
   ],
   "source": [
    "import math\n"
   ]
  },
  {
   "cell_type": "code",
   "execution_count": 33,
   "id": "young-theology",
   "metadata": {},
   "outputs": [],
   "source": [
    "class List_scaler:\n",
    "    def __init__(self):\n",
    "        self.mean = None\n",
    "        self.std_err = None\n",
    "        \n",
    "    @staticmethod\n",
    "    def standardize(data):\n",
    "        n = len(data)\n",
    "        mean = sum(data)/ n\n",
    "        std_err = sum([(dat - mean)**2 for dat in data])/math.sqrt(n)\n",
    "        return [(dat - mean)/std_err for dat in data]\n",
    "    \n",
    "    def __call__(self):\n",
    "        \n",
    "    \n",
    "    \n",
    "\n"
   ]
  },
  {
   "cell_type": "code",
   "execution_count": 34,
   "id": "stuffed-pakistan",
   "metadata": {},
   "outputs": [],
   "source": [
    "scaler = Standard_scaler"
   ]
  },
  {
   "cell_type": "code",
   "execution_count": 35,
   "id": "flexible-kennedy",
   "metadata": {},
   "outputs": [],
   "source": [
    "data = [1,2,3,4,5]"
   ]
  },
  {
   "cell_type": "code",
   "execution_count": 36,
   "id": "corrected-maximum",
   "metadata": {},
   "outputs": [
    {
     "data": {
      "text/plain": [
       "[-0.4472135954999579,\n",
       " -0.22360679774997896,\n",
       " 0.0,\n",
       " 0.22360679774997896,\n",
       " 0.4472135954999579]"
      ]
     },
     "execution_count": 36,
     "metadata": {},
     "output_type": "execute_result"
    }
   ],
   "source": [
    "scaler.standardize(data)"
   ]
  },
  {
   "cell_type": "code",
   "execution_count": null,
   "id": "phantom-surprise",
   "metadata": {},
   "outputs": [],
   "source": [
    "#grams per mile of co2 produced\n",
    "cars = {\"\"\n",
    "        \"american\" : 275,\n",
    "        \"tesla\" : 163}"
   ]
  }
 ],
 "metadata": {
  "kernelspec": {
   "display_name": "Python 3",
   "language": "python",
   "name": "python3"
  },
  "language_info": {
   "codemirror_mode": {
    "name": "ipython",
    "version": 3
   },
   "file_extension": ".py",
   "mimetype": "text/x-python",
   "name": "python",
   "nbconvert_exporter": "python",
   "pygments_lexer": "ipython3",
   "version": "3.8.8"
  }
 },
 "nbformat": 4,
 "nbformat_minor": 5
}
