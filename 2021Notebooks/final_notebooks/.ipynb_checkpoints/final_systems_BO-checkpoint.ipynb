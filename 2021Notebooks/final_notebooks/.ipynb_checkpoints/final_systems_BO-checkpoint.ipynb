{
 "cells": [
  {
   "cell_type": "code",
   "execution_count": 1,
   "id": "coastal-manual",
   "metadata": {
    "id": "coastal-manual"
   },
   "outputs": [],
   "source": [
    "import numpy as np\n",
    "from numpy import loadtxt\n",
    "import pylab as pl\n",
    "from IPython import display\n",
    "from RcTorch import *\n",
    "from matplotlib import pyplot as plt\n",
    "from scipy.integrate import odeint\n",
    "%matplotlib inline"
   ]
  },
  {
   "cell_type": "code",
   "execution_count": 2,
   "id": "4e-rXL3fLBDU",
   "metadata": {
    "id": "4e-rXL3fLBDU"
   },
   "outputs": [],
   "source": [
    "#pip install rctorch==0.7\n"
   ]
  },
  {
   "cell_type": "code",
   "execution_count": 3,
   "id": "needed-panel",
   "metadata": {
    "id": "needed-panel"
   },
   "outputs": [],
   "source": [
    "#this method will ensure that the notebook can use multiprocessing on jupyterhub or any other linux based system.\n",
    "try:\n",
    "    mp.set_start_method(\"spawn\")\n",
    "except:\n",
    "    pass\n",
    "torch.set_default_tensor_type(torch.FloatTensor)\n",
    "%matplotlib inline"
   ]
  },
  {
   "cell_type": "code",
   "execution_count": 4,
   "id": "limiting-albert",
   "metadata": {
    "id": "limiting-albert"
   },
   "outputs": [],
   "source": [
    "#helper functions\n",
    "def pltTr(x,y,clr='cyan', mark='o'):\n",
    "    plt.plot(x.detach().numpy(), y.detach().numpy(),\n",
    "             marker=mark, color=clr, markersize=8, label='truth', alpha = 0.9)\n",
    "\n",
    "def pltPred(x,y,clr='red', linS='-'):\n",
    "    plt.plot(x.detach().numpy(), y.detach().numpy(),\n",
    "             color=clr, marker='.', linewidth=2, label='RC')\n",
    "from decimal import Decimal\n",
    "\n",
    "def convert2pd(tensor1, tensor2):\n",
    "    pd_ = pd.DataFrame(np.hstack((tensor1.detach().cpu().numpy(), tensor2.detach().cpu().numpy())))\n",
    "    pd_.columns = [\"t\", \"y\"]\n",
    "    return pd_\n",
    "'%.2E' % Decimal('40800000000.00000000000000')\n",
    "\n",
    "def param(t,N,y0):\n",
    "    f = 1 - torch.exp(-t)\n",
    "    f_dot = 1 - f\n",
    "    #f = t\n",
    "    #f_dot=1\n",
    "    return y0 + f*N\n",
    "\n",
    "#define a reparameterization function\n",
    "def reparam(t, y0 = None, N = None, dN_dt = None, t_only = False):\n",
    "    f = 1 - torch.exp(-t)\n",
    "    f_dot = 1 - f\n",
    "    \n",
    "    if t_only:\n",
    "        return f, f_dot\n",
    "\n",
    "    y = y0 + N*f \n",
    "    if dN_dt:\n",
    "        ydot = dN_dt * f + f_dot * N\n",
    "    else:\n",
    "        ydot = None\n",
    "    return y, ydot\n",
    "\n",
    "def reparam(t, order = 1):\n",
    "    exp_t = torch.exp(-t)\n",
    "    \n",
    "    derivatives_of_g = []\n",
    "    \n",
    "    g = 1 - exp_t\n",
    "    \n",
    "    #0th derivative\n",
    "    derivatives_of_g.append(g)\n",
    "    \n",
    "    g_dot = 1 - g\n",
    "    return g, g_dot"
   ]
  },
  {
   "cell_type": "code",
   "execution_count": 5,
   "id": "enhanced-prescription",
   "metadata": {
    "id": "enhanced-prescription"
   },
   "outputs": [],
   "source": [
    "def force(X, A = 0):\n",
    "    return torch.zeros_like(X)\n",
    "lam =1\n",
    "def hamiltonian(x, p, lam = lam):\n",
    "    return (1/2)*(x**2 + p**2) + lam*x**4/4\n",
    "\n",
    "def custom_loss(X , y, ydot, out_weights, f = force, \n",
    "                reg = True, ode_coefs = None, mean = True,\n",
    "               enet_strength = None, enet_alpha = None, init_conds = None, lam = 1):\n",
    "    y, p = y[:,0].view(-1,1), y[:,1].view(-1,1)\n",
    "    ydot, pdot = ydot[:,0].view(-1,1), ydot[:,1].view(-1,1)\n",
    "    \n",
    "    #with paramization\n",
    "    L =  (ydot - p)**2 + (pdot + y + lam * y**3   - force(X))**2\n",
    "    \n",
    "    #if mean:\n",
    "    L = torch.mean(L)\n",
    "    \n",
    "    if reg:\n",
    "        #assert False\n",
    "        weight_size_sq = torch.mean(torch.square(out_weights))\n",
    "        weight_size_L1 = torch.mean(torch.abs(out_weights))\n",
    "        L_reg = enet_strength*(enet_alpha * weight_size_sq + (1- enet_alpha) * weight_size_L1)\n",
    "        L = L + 0.1 * L_reg \n",
    "\n",
    "    y0, p0 = init_conds\n",
    "    ham = hamiltonian(y, p)\n",
    "    ham0 = hamiltonian(y0, p0)\n",
    "    L_H = (( ham - ham0).pow(2)).mean()\n",
    "    assert L_H >0\n",
    "\n",
    "    L = L +  0.1 * L_H\n",
    "    \n",
    "    #print(\"L1\", hi, \"L_elastic\", L_reg, \"L_H\", L_H)\n",
    "    return L"
   ]
  },
  {
   "cell_type": "code",
   "execution_count": 6,
   "id": "practical-preparation",
   "metadata": {
    "id": "practical-preparation"
   },
   "outputs": [],
   "source": [
    "lineW = 3\n",
    "lineBoxW=2\n",
    "\n",
    "def plot_result(esn, xtrain, v0s = [1], y0s = [1.3], plot_gt = True, loglog = False,\n",
    "               ode_coefs = None, force_k = 0, fileName=None, backprop_f = None, ax = None,\n",
    "               solve = None , out_weights = None, epochs = None, reg = None, gamma_cyclic = None\n",
    "                      ):\n",
    "    \n",
    "    RC = esn\n",
    "    if not ax:\n",
    "        fig, ax = plt.subplots(1,1, figsize = (8, 6))       \n",
    "    t_pow = 0\n",
    "    for i, v0 in enumerate(v0s):\n",
    "        y0 = y0s[i]\n",
    "        \n",
    "        train_args = {\"burn_in\" : int(BURN_IN), \n",
    "                      \"ODE_order\" : 1,\n",
    "                      \"force\" : force,\n",
    "                      \"reparam_f\" : reparam,\n",
    "                      \"init_conditions\" : [float(y0), float(v0)],\n",
    "                      \"ode_coefs\" : ode_coefs,\n",
    "                      \"y\" : None,\n",
    "                      \"X\" : xtrain.view(-1,1),\n",
    "                      \"eq_system\" : True,\n",
    "                      #\"out_weights\" : out_weights\n",
    "                      }\n",
    "        \n",
    "        if not i:\n",
    "            y, ydot = esn.fit(**train_args, SOLVE = solve, out_weights = out_weights)\n",
    "            \n",
    "            ode_coefs_copy = ode_coefs.copy()\n",
    "            states_dict = {\"s\"  : RC.states.clone(),\n",
    "                           \"s1\" : RC.states_dot.clone(), \n",
    "                           \"G\"  : RC.G,\n",
    "                           \"ex\" : RC.extended_states.clone(),\n",
    "                           \"sb1\": RC.sb1,\n",
    "                           \"sb\" : RC.sb\n",
    "                           }\n",
    "            if esn.ODE_order == 2:\n",
    "                            states_dict[\"s2\"] = RC.states_dot2.clone()\n",
    "                            states_dict[\"sb2\"] = RC.sb2.clone()\n",
    "            #t2 = time.perf_counter()\n",
    "        else:\n",
    "            y, ydot = RC.fit(preloaded_states_dict = states_dict, SOLVE = solve,\n",
    "                          **train_args, out_weights = out_weights)\n",
    "        if not out_weights:\n",
    "            if backprop_f:\n",
    "                weight_dict = backprop_f(esn, epochs = epochs,reg = reg)\n",
    "                #y, ydot = esn.fit(**train_args, out_weights = weight_dict, SOLVE = False)\n",
    "                y,ydot = weight_dict[\"y\"], weight_dict[\"ydot\"]\n",
    "                esn = weight_dict[\"RC\"]\n",
    "        \n",
    "        ode_coefs_copy = ode_coefs.copy()\n",
    "        if ode_coefs[0] == \"t**2\":\n",
    "            sp = esn.X**2\n",
    "            t_pow = 2\n",
    "            ode_coefs_copy[0] = sp\n",
    "            \n",
    "        def f(u, t ,lam=0,A=0,W=1):\n",
    "            x,  px = u      # unpack current values of u\n",
    "            derivs = [px, -x - lam*x**3 +A*np.sin(W*t)]     # you write the derivative here\n",
    "            return derivs\n",
    "        \n",
    "        # Scipy Solver   \n",
    "        def NLosc_solution(t, x0,  px0, lam=0, A=0,W=1):\n",
    "            u0 = [x0, px0]\n",
    "            # Call the ODE solver\n",
    "            solPend = odeint(f, u0, t.cpu(), args=(lam,A,W,))\n",
    "            xP = solPend[:,0];        pxP = solPend[:,1];   \n",
    "            return xP, pxP\n",
    "\n",
    "        y_truth, v_truth  = NLosc_solution(esn.X.squeeze().data,1.3,1,lam=1, A=0, W= 0) \n",
    "        \n",
    "        p = y[:,1].cpu()# + v0\n",
    "        yy = y[:,0].cpu()# + y0\n",
    "        X = esn.X.cpu()\n",
    "        \n",
    "        #y_truth = odeint(ODE_numSolver,y0,np.array(esn.X.cpu().view(-1,)))\n",
    "        if y0==1:\n",
    "            extraWidth = 2; color = 'k'\n",
    "        else: extraWidth=0; color = 'b'\n",
    "        \n",
    "        if not i:\n",
    "            ax.plot(X, yy, color, linewidth=lineW+extraWidth, label = \"x_hat\", color = \"blue\" )\n",
    "            ax.plot(X, p, color, linewidth=lineW+extraWidth, label = \"p_hat\", color = \"red\" )\n",
    "           \n",
    "            #ax.plot(X, torch.cos(X),'--', linewidth=lineW, alpha=0.85, label = \"p_gt\", color = \"red\")\n",
    "            #ax.plot(X, torch.sin(X),'--', linewidth=lineW, alpha=0.85, label = \"x_gt\", color = \"blue\")\n",
    "            \n",
    "            ax.plot(X, v_truth,'--', linewidth=lineW, alpha=0.85, label = \"p_gt_\", color = \"red\")\n",
    "            ax.plot(X, y_truth,'--', linewidth=lineW, alpha=0.85, label = \"x_gt_\", color = \"blue\")\n",
    "        else:\n",
    "            ax.plot(X, yy, color, linewidth=lineW+extraWidth, color = \"blue\")\n",
    "            ax.plot(X, p,'--r', linewidth=lineW, alpha=0.85, color = \"red\")\n",
    "            \n",
    "            ax.plot(X, v_truth,'--', linewidth=lineW, alpha=0.85, color = \"red\")\n",
    "            ax.plot(X, y_truth,'--', linewidth=lineW, alpha=0.85, color = \"blue\")\n",
    "        \n",
    "        ## Formating Figure\n",
    "        # Changing spine style\n",
    "        ax = plt.gca()\n",
    "        for ps in ['top','bottom','left','right']:\n",
    "            ax.spines[ps].set_linewidth(lineBoxW)\n",
    "\n",
    "        plt.xlabel(r'$t$')\n",
    "        plt.ylabel(r'$y(t)$')\n",
    "        plt.legend()\n",
    "        \n",
    "    return esn\n",
    "\n",
    "def optimize_last_layer(esn, \n",
    "                        SAVE_AFTER_EPOCHS = 1,\n",
    "                        epochs = 45000,\n",
    "                        custom_loss = custom_loss,\n",
    "                        EPOCHS_TO_TERMINATION = None,\n",
    "                        f = force,\n",
    "                        lr = 0.05, \n",
    "                        reg = None,\n",
    "                        plott = True,\n",
    "                        plot_every_n_epochs = 2000):#gamma 0.1, spikethreshold 0.07 works\n",
    "    with torch.enable_grad():\n",
    "        #define new_x\n",
    "        new_X = esn.extended_states.detach()\n",
    "        spikethreshold = esn.spikethreshold\n",
    "\n",
    "        #force detach states_dot\n",
    "        esn.states_dot = esn.states_dot.detach().requires_grad_(False)\n",
    "\n",
    "        #define criterion\n",
    "        criterion = torch.nn.MSELoss()\n",
    "\n",
    "        #assert esn.LinOut.weight.requires_grad and esn.LinOut.bias.requires_grad\n",
    "        #assert not new_X.requires_grad\n",
    "\n",
    "        #define previous_loss (could be used to do a convergence stop)\n",
    "        previous_loss = 0\n",
    "\n",
    "        #define best score so that we can save the best weights\n",
    "        best_score = 0\n",
    "\n",
    "        #define the optimizer\n",
    "        optimizer = optim.Adam(esn.parameters(), lr = lr)\n",
    "\n",
    "        #optimizer = torch.optim.SGD(model.parameters(), lr=100)\n",
    "        if esn.gamma_cyclic:\n",
    "            cyclic_scheduler = torch.optim.lr_scheduler.CyclicLR(optimizer, 10**-6, 0.01,\n",
    "                                            gamma = esn.gamma_cyclic,#0.9999,\n",
    "                                            mode = \"exp_range\", cycle_momentum = False)\n",
    "\n",
    "        scheduler = torch.optim.lr_scheduler.StepLR(optimizer, step_size=1, gamma=esn.gamma)\n",
    "        lrs = []\n",
    "\n",
    "        #define the loss history\n",
    "        loss_history = []\n",
    "\n",
    "        if plott:\n",
    "          #use pl for live plotting\n",
    "          fig, ax = pl.subplots(1,3, figsize = (16,4))\n",
    "\n",
    "        t = esn.X#.view(*N.shape).detach()\n",
    "        g, g_dot = esn.G\n",
    "        y0  = esn.init_conds[0]\n",
    "\n",
    "        flipped = False\n",
    "        flipped2 = False\n",
    "        pow_ = -4\n",
    "        floss_last = 0\n",
    "\n",
    "\n",
    "        try:\n",
    "            assert esn.LinOut.weight.requires_grad and esn.LinOut.bias.requires_grad\n",
    "        except:\n",
    "            esn.LinOut.weight.requires_grad_(True)\n",
    "            esn.LinOut.bias.requires_grad_(True)\n",
    "\n",
    "        #bail\n",
    "\n",
    "        #begin optimization loop\n",
    "        for e in range(epochs):\n",
    "\n",
    "            optimizer.zero_grad()\n",
    "\n",
    "            N = esn.forward( esn.extended_states )\n",
    "            N_dot = esn.calc_Ndot(esn.states_dot)\n",
    "\n",
    "            y = g *N \n",
    "\n",
    "            ydot = g_dot * N + g * N_dot\n",
    "\n",
    "            y[:,0] = y[:,0] + esn.init_conds[0]\n",
    "            y[:,1] = y[:,1] + esn.init_conds[1]\n",
    "\n",
    "            assert N.shape == N_dot.shape, f'{N.shape} != {N_dot.shape}'\n",
    "\n",
    "            #assert esn.LinOut.weight.requires_grad and esn.LinOut.bias.requires_grad\n",
    "\n",
    "            #total_ws = esn.LinOut.weight.shape[0] + 1\n",
    "            #weight_size_sq = torch.mean(torch.square(esn.LinOut.weight))\n",
    "\n",
    "            loss = custom_loss(esn.X, y, ydot, esn.LinOut.weight, reg = reg, ode_coefs = esn.ode_coefs,\n",
    "                    init_conds = esn.init_conds, enet_alpha= esn.enet_alpha, enet_strength = esn.enet_strength)\n",
    "            loss.backward()\n",
    "            optimizer.step()\n",
    "            if esn.gamma_cyclic and e > 100 and e <5000:\n",
    "                cyclic_scheduler.step()\n",
    "                lrs.append(optimizer.param_groups[0][\"lr\"])\n",
    "\n",
    "\n",
    "            floss = float(loss)\n",
    "            loss_history.append(floss)\n",
    "\n",
    "            if e == 10**3:\n",
    "                if floss > 10**(5):\n",
    "                    EPOCHS_TO_TERMINATION = e + 50\n",
    "\n",
    "            if e == 10**4:\n",
    "                if floss > 10**(2.5):\n",
    "                    EPOCHS_TO_TERMINATION = e + 50\n",
    "                    \n",
    "            if e > 0:\n",
    "                loss_delta = float(np.log(floss_last) - np.log(floss)) \n",
    "                if loss_delta > esn.spikethreshold:# or loss_delta < -3:\n",
    "                    lrs.append(optimizer.param_groups[0][\"lr\"])\n",
    "                    scheduler.step()\n",
    "\n",
    "\n",
    "            if not e and not best_score:\n",
    "                best_bias, best_weight, best_fit = esn.LinOut.bias.detach(), esn.LinOut.weight.detach(), y.clone()\n",
    "\n",
    "            if e > SAVE_AFTER_EPOCHS:\n",
    "                if not best_score:\n",
    "                    best_score = min(loss_history)\n",
    "                if floss < best_score:  \n",
    "                    best_bias, best_weight = esn.LinOut.bias.detach(), esn.LinOut.weight.detach()\n",
    "                    best_score = float(loss)\n",
    "                    best_fit = y.clone()\n",
    "                    best_ydot = ydot.clone()\n",
    "            # else:\n",
    "            #     if floss < best_score:\n",
    "            #         best_bias, best_weight = esn.LinOut.bias.detach(), esn.LinOut.weight.detach()\n",
    "            #         best_score = float(loss)\n",
    "            #         best_fit = y.clone()\n",
    "            #         best_ydot = ydot.clone()\n",
    "\n",
    "            if e >= EPOCHS_TO_TERMINATION:\n",
    "                return {\"weights\": best_weight, \"bias\" : best_bias, \"y\" : best_fit, \n",
    "                      \"loss\" : {\"loss_history\" : loss_history},  \"best_score\" : torch.tensor(best_score),\n",
    "                      \"RC\" : esn}\n",
    "            floss_last = floss\n",
    "            if plott and e:\n",
    "\n",
    "                if e % plot_every_n_epochs == 0:\n",
    "                    for param_group in optimizer.param_groups:\n",
    "                        print('lr', param_group['lr'])\n",
    "                    ax[0].clear()\n",
    "                    logloss_str = 'Log(L) ' + '%.2E' % Decimal((loss).item())\n",
    "                    delta_loss  = ' delta Log(L) ' + '%.2E' % Decimal((loss-previous_loss).item())\n",
    "\n",
    "                    print(logloss_str + \", \" + delta_loss)\n",
    "                    ax[0].plot(y.detach().cpu(), label = \"exact\")\n",
    "                    ax[0].set_title(f\"Epoch {e}\" + \", \" + logloss_str)\n",
    "                    ax[0].set_xlabel(\"t\")\n",
    "\n",
    "                    ax[1].set_title(delta_loss)\n",
    "                    ax[1].plot(N_dot.detach().cpu())\n",
    "                    #ax[0].plot(y_dot.detach(), label = \"dy_dx\")\n",
    "                    ax[2].clear()\n",
    "                    #weight_size = str(weight_size_sq.detach().item())\n",
    "                    #ax[2].set_title(\"loss history \\n and \"+ weight_size)\n",
    "\n",
    "                    ax[2].loglog(loss_history)\n",
    "                    ax[2].set_xlabel(\"t\")\n",
    "\n",
    "                    [ax[i].legend() for i in range(3)]\n",
    "                    previous_loss = loss.item()\n",
    "\n",
    "                    #clear the plot outputt and then re-plot\n",
    "                    display.clear_output(wait=True) \n",
    "                    display.display(pl.gcf())\n",
    "\n",
    "\n",
    "        return {\"weights\": best_weight, \"bias\" : best_bias, \"y\" : best_fit, \"ydot\" : best_ydot, \n",
    "              \"loss\" : {\"loss_history\" : loss_history}, \"best_score\" : torch.tensor(best_score),\n",
    "              \"RC\" : esn}\n",
    "\n"
   ]
  },
  {
   "cell_type": "code",
   "execution_count": 7,
   "id": "expensive-contractor",
   "metadata": {
    "id": "expensive-contractor"
   },
   "outputs": [],
   "source": [
    "#y0s = array([-1.  , -0.25,  0.5 ,  1.25])\n",
    "torch.set_default_dtype(torch.float32)"
   ]
  },
  {
   "cell_type": "code",
   "execution_count": 8,
   "id": "artificial-exclusive",
   "metadata": {
    "colab": {
     "base_uri": "https://localhost:8080/"
    },
    "id": "artificial-exclusive",
    "outputId": "2e10c59c-592a-4273-b0c2-e54754cbe860"
   },
   "outputs": [
    {
     "name": "stdout",
     "output_type": "stream",
     "text": [
      "dt -3.0\n",
      "n_nodes 500\n",
      "connectivity -1.7001224756240845\n",
      "spectral_radius 2.4289157390594482\n",
      "regularization 1.6905698776245117\n",
      "leaking_rate 0.0032216429244726896\n",
      "bias 0.3808490037918091\n",
      "enet_alpha 0.2040003091096878\n",
      "enet_strength -1.1255784034729004\n",
      "spikethreshold 0.4231834411621094\n",
      "gamma 0.09350859373807907\n",
      "gamma_cyclic 0.9999\n"
     ]
    }
   ],
   "source": [
    "log_vars = ['connectivity', 'llambda', 'llambda2', 'noise', 'regularization', 'dt', 'enet_strength']\n",
    "\n",
    "#trained to 20*pi\n",
    "hps = {'dt': 0.001,\n",
    "       'n_nodes': 500,\n",
    "       'connectivity': 0.019946997092875757,\n",
    "       'spectral_radius': 2.4289157390594482,\n",
    "       'regularization': 49.04219249279563,\n",
    "       'leaking_rate': 0.0032216429244726896,\n",
    "       'bias': 0.3808490037918091,\n",
    "       'enet_alpha': 0.2040003091096878,\n",
    "       'enet_strength': 0.07488961475845243,\n",
    "       'spikethreshold': 0.4231834411621094,\n",
    "       'gamma': .09350859373807907,\n",
    "       'gamma_cyclic' : 0.9999}\n",
    "\n",
    "\n",
    "\n",
    "for key, val in hps.items():\n",
    "    if key in log_vars:\n",
    "        print(key, np.log10(val))\n",
    "    else:\n",
    "        print(key, val)"
   ]
  },
  {
   "cell_type": "code",
   "execution_count": 9,
   "id": "historic-liberal",
   "metadata": {
    "colab": {
     "base_uri": "https://localhost:8080/"
    },
    "id": "historic-liberal",
    "outputId": "fcde4903-229d-4aa5-c85f-0298a3e62362"
   },
   "outputs": [
    {
     "data": {
      "text/plain": [
       "12566"
      ]
     },
     "execution_count": 9,
     "metadata": {},
     "output_type": "execute_result"
    }
   ],
   "source": [
    "BURN_IN = 500\n",
    "\n",
    "#declare the bounds dict. See above for which variables are optimized in linear vs logarithmic space.\n",
    "bounds_dict = {\"connectivity\" : (-2, -1.4), #(-2, -0.5), \n",
    "               \"spectral_radius\" : (2.2, 2.6),#(0.01, 1),\n",
    "               \"n_nodes\" : 500,\n",
    "               \"regularization\" : 1.69, #(-4.4, 2.6),\n",
    "               \"leaking_rate\" : (0.00322 - 0.002, 0.00322 + 0.002),\n",
    "               \"dt\" : -3,#-3,\n",
    "               \"bias\": (-0.5, 0.5),\n",
    "               \"enet_alpha\": (0.18, 0.22), #(0,1.0),\n",
    "               \"enet_strength\": (-1.32,-0.92),\n",
    "               \"spikethreshold\" : (0.35,0.45),\n",
    "               \"gamma\" : (0.08,0.12),\n",
    "               \"gamma_cyclic\" : (float(np.log10(0.9997)), float(np.log10(0.99999))),#(-0.002176919254274547, 0)\n",
    "               }\n",
    "#set up data\n",
    "x0, xf = 0, 4*np.pi\n",
    "nsteps = int(abs(xf - x0)/(10**bounds_dict[\"dt\"]))\n",
    "xtrain = torch.linspace(x0, xf, nsteps, requires_grad=False).view(-1,1)\n",
    "int(xtrain.shape[0])"
   ]
  },
  {
   "cell_type": "code",
   "execution_count": 10,
   "id": "living-coordination",
   "metadata": {
    "colab": {
     "base_uri": "https://localhost:8080/",
     "height": 695
    },
    "id": "living-coordination",
    "outputId": "c5218826-e571-48e5-d189-02b880096345",
    "scrolled": true
   },
   "outputs": [
    {
     "data": {
      "image/png": "[encoded data removed]",
      "text/plain": [
       "<Figure size 1152x288 with 3 Axes>"
      ]
     },
     "metadata": {},
     "output_type": "display_data"
    },
    {
     "name": "stderr",
     "output_type": "stream",
     "text": [
      "ERROR:root:Internal Python error in the inspect module.\n",
      "Below is the traceback from this internal error.\n",
      "\n"
     ]
    },
    {
     "name": "stdout",
     "output_type": "stream",
     "text": [
      "Traceback (most recent call last):\n",
      "  File \"/usr/local/anaconda3/lib/python3.8/site-packages/IPython/core/interactiveshell.py\", line 3437, in run_code\n",
      "    exec(code_obj, self.user_global_ns, self.user_ns)\n",
      "  File \"<ipython-input-10-f96e8513bf21>\", line 21, in <module>\n",
      "    opt_hps = esn_cv.optimize(y = None,\n",
      "  File \"/usr/local/anaconda3/lib/python3.8/site-packages/RcTorch/esn_cv.py\", line 1627, in optimize\n",
      "    Y_batch = self.eval_objective( X_batch )\n",
      "  File \"/usr/local/anaconda3/lib/python3.8/site-packages/RcTorch/esn_cv.py\", line 1361, in eval_objective\n",
      "    results = execute_objective(data_args[0])\n",
      "  File \"/usr/local/anaconda3/lib/python3.8/site-packages/RcTorch/esn_cv.py\", line 551, in execute_objective\n",
      "    dictt = RC.fit(X = train_x, y = train_y, train_score = True, **train_args)\n",
      "  File \"/usr/local/anaconda3/lib/python3.8/site-packages/RcTorch/esn.py\", line 1164, in fit\n",
      "    weight_dict = backprop_f(self, epochs = epochs)\n",
      "  File \"<ipython-input-6-93d14bb60268>\", line 203, in optimize_last_layer\n",
      "    loss.backward()\n",
      "  File \"/usr/local/anaconda3/lib/python3.8/site-packages/torch/tensor.py\", line 221, in backward\n",
      "    torch.autograd.backward(self, gradient, retain_graph, create_graph)\n",
      "  File \"/usr/local/anaconda3/lib/python3.8/site-packages/torch/autograd/__init__.py\", line 130, in backward\n",
      "    Variable._execution_engine.run_backward(\n",
      "KeyboardInterrupt\n",
      "\n",
      "During handling of the above exception, another exception occurred:\n",
      "\n",
      "Traceback (most recent call last):\n",
      "  File \"/usr/local/anaconda3/lib/python3.8/site-packages/IPython/core/interactiveshell.py\", line 2061, in showtraceback\n",
      "    stb = value._render_traceback_()\n",
      "AttributeError: 'KeyboardInterrupt' object has no attribute '_render_traceback_'\n",
      "\n",
      "During handling of the above exception, another exception occurred:\n",
      "\n",
      "Traceback (most recent call last):\n",
      "  File \"/usr/local/anaconda3/lib/python3.8/site-packages/IPython/core/ultratb.py\", line 1101, in get_records\n",
      "    return _fixed_getinnerframes(etb, number_of_lines_of_context, tb_offset)\n",
      "  File \"/usr/local/anaconda3/lib/python3.8/site-packages/IPython/core/ultratb.py\", line 248, in wrapped\n",
      "    return f(*args, **kwargs)\n",
      "  File \"/usr/local/anaconda3/lib/python3.8/site-packages/IPython/core/ultratb.py\", line 281, in _fixed_getinnerframes\n",
      "    records = fix_frame_records_filenames(inspect.getinnerframes(etb, context))\n",
      "  File \"/usr/local/anaconda3/lib/python3.8/inspect.py\", line 1515, in getinnerframes\n",
      "    frameinfo = (tb.tb_frame,) + getframeinfo(tb, context)\n",
      "  File \"/usr/local/anaconda3/lib/python3.8/inspect.py\", line 1473, in getframeinfo\n",
      "    filename = getsourcefile(frame) or getfile(frame)\n",
      "  File \"/usr/local/anaconda3/lib/python3.8/inspect.py\", line 708, in getsourcefile\n",
      "    if getattr(getmodule(object, filename), '__loader__', None) is not None:\n",
      "  File \"/usr/local/anaconda3/lib/python3.8/inspect.py\", line 754, in getmodule\n",
      "    os.path.realpath(f)] = module.__name__\n",
      "  File \"/usr/local/anaconda3/lib/python3.8/posixpath.py\", line 391, in realpath\n",
      "    path, ok = _joinrealpath(filename[:0], filename, {})\n",
      "  File \"/usr/local/anaconda3/lib/python3.8/posixpath.py\", line 425, in _joinrealpath\n",
      "    if not islink(newpath):\n",
      "  File \"/usr/local/anaconda3/lib/python3.8/posixpath.py\", line 167, in islink\n",
      "    st = os.lstat(path)\n",
      "KeyboardInterrupt\n"
     ]
    },
    {
     "ename": "TypeError",
     "evalue": "object of type 'NoneType' has no len()",
     "output_type": "error",
     "traceback": [
      "\u001b[0;31m---------------------------------------------------------------------------\u001b[0m",
      "\u001b[0;31mKeyboardInterrupt\u001b[0m                         Traceback (most recent call last)",
      "    \u001b[0;31m[... skipping hidden 1 frame]\u001b[0m\n",
      "\u001b[0;32m<ipython-input-10-f96e8513bf21>\u001b[0m in \u001b[0;36m<module>\u001b[0;34m\u001b[0m\n\u001b[1;32m     20\u001b[0m \u001b[0;32mif\u001b[0m \u001b[0mopt\u001b[0m\u001b[0;34m:\u001b[0m\u001b[0;34m\u001b[0m\u001b[0;34m\u001b[0m\u001b[0m\n\u001b[0;32m---> 21\u001b[0;31m     opt_hps = esn_cv.optimize(y = None, \n\u001b[0m\u001b[1;32m     22\u001b[0m                               \u001b[0mx\u001b[0m \u001b[0;34m=\u001b[0m \u001b[0mxtrain\u001b[0m\u001b[0;34m.\u001b[0m\u001b[0mview\u001b[0m\u001b[0;34m(\u001b[0m\u001b[0;34m-\u001b[0m\u001b[0;36m1\u001b[0m\u001b[0;34m,\u001b[0m\u001b[0;36m1\u001b[0m\u001b[0;34m)\u001b[0m\u001b[0;34m,\u001b[0m\u001b[0;34m\u001b[0m\u001b[0;34m\u001b[0m\u001b[0m\n",
      "\u001b[0;32m/usr/local/anaconda3/lib/python3.8/site-packages/RcTorch/esn_cv.py\u001b[0m in \u001b[0;36moptimize\u001b[0;34m(self, y, x, store_path, epochs, learning_rate, scoring_method, criterion, reparam_f, ODE_criterion, init_conditions, scale, force, backprop_f, backprop, ode_coefs, solve, rounds, tr_score_prop, q, eq_system, n_outputs, nonlinear_ode, reg_type)\u001b[0m\n\u001b[1;32m   1626\u001b[0m                 \u001b[0mX_batch\u001b[0m \u001b[0;34m=\u001b[0m \u001b[0mX_init\u001b[0m\u001b[0;34m[\u001b[0m \u001b[0;34m(\u001b[0m\u001b[0mi\u001b[0m\u001b[0;34m*\u001b[0m\u001b[0mself\u001b[0m\u001b[0;34m.\u001b[0m\u001b[0mbatch_size\u001b[0m\u001b[0;34m)\u001b[0m \u001b[0;34m:\u001b[0m \u001b[0;34m(\u001b[0m\u001b[0;34m(\u001b[0m\u001b[0mi\u001b[0m\u001b[0;34m+\u001b[0m\u001b[0;36m1\u001b[0m\u001b[0;34m)\u001b[0m\u001b[0;34m*\u001b[0m\u001b[0mself\u001b[0m\u001b[0;34m.\u001b[0m\u001b[0mbatch_size\u001b[0m\u001b[0;34m)\u001b[0m\u001b[0;34m,\u001b[0m \u001b[0;34m:\u001b[0m \u001b[0;34m]\u001b[0m\u001b[0;34m\u001b[0m\u001b[0;34m\u001b[0m\u001b[0m\n\u001b[0;32m-> 1627\u001b[0;31m                 \u001b[0mY_batch\u001b[0m \u001b[0;34m=\u001b[0m \u001b[0mself\u001b[0m\u001b[0;34m.\u001b[0m\u001b[0meval_objective\u001b[0m\u001b[0;34m(\u001b[0m \u001b[0mX_batch\u001b[0m \u001b[0;34m)\u001b[0m\u001b[0;34m\u001b[0m\u001b[0;34m\u001b[0m\u001b[0m\n\u001b[0m\u001b[1;32m   1628\u001b[0m \u001b[0;34m\u001b[0m\u001b[0m\n",
      "\u001b[0;32m/usr/local/anaconda3/lib/python3.8/site-packages/RcTorch/esn_cv.py\u001b[0m in \u001b[0;36meval_objective\u001b[0;34m(self, parameters, plot_type, *args)\u001b[0m\n\u001b[1;32m   1360\u001b[0m         \u001b[0;32melse\u001b[0m\u001b[0;34m:\u001b[0m\u001b[0;34m\u001b[0m\u001b[0;34m\u001b[0m\u001b[0m\n\u001b[0;32m-> 1361\u001b[0;31m             \u001b[0mresults\u001b[0m \u001b[0;34m=\u001b[0m \u001b[0mexecute_objective\u001b[0m\u001b[0;34m(\u001b[0m\u001b[0mdata_args\u001b[0m\u001b[0;34m[\u001b[0m\u001b[0;36m0\u001b[0m\u001b[0;34m]\u001b[0m\u001b[0;34m)\u001b[0m\u001b[0;34m\u001b[0m\u001b[0;34m\u001b[0m\u001b[0m\n\u001b[0m\u001b[1;32m   1362\u001b[0m             \u001b[0mscores\u001b[0m\u001b[0;34m,\u001b[0m \u001b[0mpreds\u001b[0m\u001b[0;34m,\u001b[0m \u001b[0mid_\u001b[0m \u001b[0;34m=\u001b[0m \u001b[0mresults\u001b[0m\u001b[0;34m\u001b[0m\u001b[0;34m\u001b[0m\u001b[0m\n",
      "\u001b[0;32m/usr/local/anaconda3/lib/python3.8/site-packages/RcTorch/esn_cv.py\u001b[0m in \u001b[0;36mexecute_objective\u001b[0;34m(arguments)\u001b[0m\n\u001b[1;32m    550\u001b[0m                 \u001b[0;31m#                 \"losses\" : Ls}\u001b[0m\u001b[0;34m\u001b[0m\u001b[0;34m\u001b[0m\u001b[0;34m\u001b[0m\u001b[0m\n\u001b[0;32m--> 551\u001b[0;31m                 \u001b[0mdictt\u001b[0m \u001b[0;34m=\u001b[0m \u001b[0mRC\u001b[0m\u001b[0;34m.\u001b[0m\u001b[0mfit\u001b[0m\u001b[0;34m(\u001b[0m\u001b[0mX\u001b[0m \u001b[0;34m=\u001b[0m \u001b[0mtrain_x\u001b[0m\u001b[0;34m,\u001b[0m \u001b[0my\u001b[0m \u001b[0;34m=\u001b[0m \u001b[0mtrain_y\u001b[0m\u001b[0;34m,\u001b[0m \u001b[0mtrain_score\u001b[0m \u001b[0;34m=\u001b[0m \u001b[0;32mTrue\u001b[0m\u001b[0;34m,\u001b[0m \u001b[0;34m**\u001b[0m\u001b[0mtrain_args\u001b[0m\u001b[0;34m)\u001b[0m\u001b[0;34m\u001b[0m\u001b[0;34m\u001b[0m\u001b[0m\n\u001b[0m\u001b[1;32m    552\u001b[0m                 \u001b[0mtrain_scores\u001b[0m \u001b[0;34m=\u001b[0m \u001b[0mdictt\u001b[0m\u001b[0;34m[\u001b[0m\u001b[0;34m\"scores\"\u001b[0m\u001b[0;34m]\u001b[0m\u001b[0;34m\u001b[0m\u001b[0;34m\u001b[0m\u001b[0m\n",
      "\u001b[0;32m/usr/local/anaconda3/lib/python3.8/site-packages/RcTorch/esn.py\u001b[0m in \u001b[0;36mfit\u001b[0;34m(self, y, X, burn_in, input_weight, verbose, learning_rate, return_states, criterion, optimizer, out_weights, ODE_order, SOLVE, reparam_f, init_conditions, force, ode_coefs, train_score, ODE_criterion, preloaded_states_dict, q, eq_system, nl, backprop_f, epochs)\u001b[0m\n\u001b[1;32m   1163\u001b[0m                         \u001b[0;32mwith\u001b[0m \u001b[0mtorch\u001b[0m\u001b[0;34m.\u001b[0m\u001b[0menable_grad\u001b[0m\u001b[0;34m(\u001b[0m\u001b[0;34m)\u001b[0m\u001b[0;34m:\u001b[0m\u001b[0;34m\u001b[0m\u001b[0;34m\u001b[0m\u001b[0m\n\u001b[0;32m-> 1164\u001b[0;31m                             \u001b[0mweight_dict\u001b[0m \u001b[0;34m=\u001b[0m \u001b[0mbackprop_f\u001b[0m\u001b[0;34m(\u001b[0m\u001b[0mself\u001b[0m\u001b[0;34m,\u001b[0m \u001b[0mepochs\u001b[0m \u001b[0;34m=\u001b[0m \u001b[0mepochs\u001b[0m\u001b[0;34m)\u001b[0m\u001b[0;34m\u001b[0m\u001b[0;34m\u001b[0m\u001b[0m\n\u001b[0m\u001b[1;32m   1165\u001b[0m \u001b[0;34m\u001b[0m\u001b[0m\n",
      "\u001b[0;32m<ipython-input-6-93d14bb60268>\u001b[0m in \u001b[0;36moptimize_last_layer\u001b[0;34m(esn, SAVE_AFTER_EPOCHS, epochs, custom_loss, loss_threshold, EPOCHS_TO_TERMINATION, f, lr, reg, plott, plot_every_n_epochs)\u001b[0m\n\u001b[1;32m    202\u001b[0m                     init_conds = esn.init_conds, enet_alpha= esn.enet_alpha, enet_strength = esn.enet_strength)\n\u001b[0;32m--> 203\u001b[0;31m             \u001b[0mloss\u001b[0m\u001b[0;34m.\u001b[0m\u001b[0mbackward\u001b[0m\u001b[0;34m(\u001b[0m\u001b[0;34m)\u001b[0m\u001b[0;34m\u001b[0m\u001b[0;34m\u001b[0m\u001b[0m\n\u001b[0m\u001b[1;32m    204\u001b[0m             \u001b[0moptimizer\u001b[0m\u001b[0;34m.\u001b[0m\u001b[0mstep\u001b[0m\u001b[0;34m(\u001b[0m\u001b[0;34m)\u001b[0m\u001b[0;34m\u001b[0m\u001b[0;34m\u001b[0m\u001b[0m\n",
      "\u001b[0;32m/usr/local/anaconda3/lib/python3.8/site-packages/torch/tensor.py\u001b[0m in \u001b[0;36mbackward\u001b[0;34m(self, gradient, retain_graph, create_graph)\u001b[0m\n\u001b[1;32m    220\u001b[0m                 create_graph=create_graph)\n\u001b[0;32m--> 221\u001b[0;31m         \u001b[0mtorch\u001b[0m\u001b[0;34m.\u001b[0m\u001b[0mautograd\u001b[0m\u001b[0;34m.\u001b[0m\u001b[0mbackward\u001b[0m\u001b[0;34m(\u001b[0m\u001b[0mself\u001b[0m\u001b[0;34m,\u001b[0m \u001b[0mgradient\u001b[0m\u001b[0;34m,\u001b[0m \u001b[0mretain_graph\u001b[0m\u001b[0;34m,\u001b[0m \u001b[0mcreate_graph\u001b[0m\u001b[0;34m)\u001b[0m\u001b[0;34m\u001b[0m\u001b[0;34m\u001b[0m\u001b[0m\n\u001b[0m\u001b[1;32m    222\u001b[0m \u001b[0;34m\u001b[0m\u001b[0m\n",
      "\u001b[0;32m/usr/local/anaconda3/lib/python3.8/site-packages/torch/autograd/__init__.py\u001b[0m in \u001b[0;36mbackward\u001b[0;34m(tensors, grad_tensors, retain_graph, create_graph, grad_variables)\u001b[0m\n\u001b[1;32m    129\u001b[0m \u001b[0;34m\u001b[0m\u001b[0m\n\u001b[0;32m--> 130\u001b[0;31m     Variable._execution_engine.run_backward(\n\u001b[0m\u001b[1;32m    131\u001b[0m         \u001b[0mtensors\u001b[0m\u001b[0;34m,\u001b[0m \u001b[0mgrad_tensors_\u001b[0m\u001b[0;34m,\u001b[0m \u001b[0mretain_graph\u001b[0m\u001b[0;34m,\u001b[0m \u001b[0mcreate_graph\u001b[0m\u001b[0;34m,\u001b[0m\u001b[0;34m\u001b[0m\u001b[0;34m\u001b[0m\u001b[0m\n",
      "\u001b[0;31mKeyboardInterrupt\u001b[0m: ",
      "\nDuring handling of the above exception, another exception occurred:\n",
      "\u001b[0;31mAttributeError\u001b[0m                            Traceback (most recent call last)",
      "\u001b[0;32m/usr/local/anaconda3/lib/python3.8/site-packages/IPython/core/interactiveshell.py\u001b[0m in \u001b[0;36mshowtraceback\u001b[0;34m(self, exc_tuple, filename, tb_offset, exception_only, running_compiled_code)\u001b[0m\n\u001b[1;32m   2060\u001b[0m                         \u001b[0;31m# in the engines. This should return a list of strings.\u001b[0m\u001b[0;34m\u001b[0m\u001b[0;34m\u001b[0m\u001b[0;34m\u001b[0m\u001b[0m\n\u001b[0;32m-> 2061\u001b[0;31m                         \u001b[0mstb\u001b[0m \u001b[0;34m=\u001b[0m \u001b[0mvalue\u001b[0m\u001b[0;34m.\u001b[0m\u001b[0m_render_traceback_\u001b[0m\u001b[0;34m(\u001b[0m\u001b[0;34m)\u001b[0m\u001b[0;34m\u001b[0m\u001b[0;34m\u001b[0m\u001b[0m\n\u001b[0m\u001b[1;32m   2062\u001b[0m                     \u001b[0;32mexcept\u001b[0m \u001b[0mException\u001b[0m\u001b[0;34m:\u001b[0m\u001b[0;34m\u001b[0m\u001b[0;34m\u001b[0m\u001b[0m\n",
      "\u001b[0;31mAttributeError\u001b[0m: 'KeyboardInterrupt' object has no attribute '_render_traceback_'",
      "\nDuring handling of the above exception, another exception occurred:\n",
      "\u001b[0;31mTypeError\u001b[0m                                 Traceback (most recent call last)",
      "    \u001b[0;31m[... skipping hidden 1 frame]\u001b[0m\n",
      "\u001b[0;32m/usr/local/anaconda3/lib/python3.8/site-packages/IPython/core/interactiveshell.py\u001b[0m in \u001b[0;36mshowtraceback\u001b[0;34m(self, exc_tuple, filename, tb_offset, exception_only, running_compiled_code)\u001b[0m\n\u001b[1;32m   2061\u001b[0m                         \u001b[0mstb\u001b[0m \u001b[0;34m=\u001b[0m \u001b[0mvalue\u001b[0m\u001b[0;34m.\u001b[0m\u001b[0m_render_traceback_\u001b[0m\u001b[0;34m(\u001b[0m\u001b[0;34m)\u001b[0m\u001b[0;34m\u001b[0m\u001b[0;34m\u001b[0m\u001b[0m\n\u001b[1;32m   2062\u001b[0m                     \u001b[0;32mexcept\u001b[0m \u001b[0mException\u001b[0m\u001b[0;34m:\u001b[0m\u001b[0;34m\u001b[0m\u001b[0;34m\u001b[0m\u001b[0m\n\u001b[0;32m-> 2063\u001b[0;31m                         stb = self.InteractiveTB.structured_traceback(etype,\n\u001b[0m\u001b[1;32m   2064\u001b[0m                                             value, tb, tb_offset=tb_offset)\n\u001b[1;32m   2065\u001b[0m \u001b[0;34m\u001b[0m\u001b[0m\n",
      "\u001b[0;32m/usr/local/anaconda3/lib/python3.8/site-packages/IPython/core/ultratb.py\u001b[0m in \u001b[0;36mstructured_traceback\u001b[0;34m(self, etype, value, tb, tb_offset, number_of_lines_of_context)\u001b[0m\n\u001b[1;32m   1365\u001b[0m         \u001b[0;32melse\u001b[0m\u001b[0;34m:\u001b[0m\u001b[0;34m\u001b[0m\u001b[0;34m\u001b[0m\u001b[0m\n\u001b[1;32m   1366\u001b[0m             \u001b[0mself\u001b[0m\u001b[0;34m.\u001b[0m\u001b[0mtb\u001b[0m \u001b[0;34m=\u001b[0m \u001b[0mtb\u001b[0m\u001b[0;34m\u001b[0m\u001b[0;34m\u001b[0m\u001b[0m\n\u001b[0;32m-> 1367\u001b[0;31m         return FormattedTB.structured_traceback(\n\u001b[0m\u001b[1;32m   1368\u001b[0m             self, etype, value, tb, tb_offset, number_of_lines_of_context)\n\u001b[1;32m   1369\u001b[0m \u001b[0;34m\u001b[0m\u001b[0m\n",
      "\u001b[0;32m/usr/local/anaconda3/lib/python3.8/site-packages/IPython/core/ultratb.py\u001b[0m in \u001b[0;36mstructured_traceback\u001b[0;34m(self, etype, value, tb, tb_offset, number_of_lines_of_context)\u001b[0m\n\u001b[1;32m   1265\u001b[0m         \u001b[0;32mif\u001b[0m \u001b[0mmode\u001b[0m \u001b[0;32min\u001b[0m \u001b[0mself\u001b[0m\u001b[0;34m.\u001b[0m\u001b[0mverbose_modes\u001b[0m\u001b[0;34m:\u001b[0m\u001b[0;34m\u001b[0m\u001b[0;34m\u001b[0m\u001b[0m\n\u001b[1;32m   1266\u001b[0m             \u001b[0;31m# Verbose modes need a full traceback\u001b[0m\u001b[0;34m\u001b[0m\u001b[0;34m\u001b[0m\u001b[0;34m\u001b[0m\u001b[0m\n\u001b[0;32m-> 1267\u001b[0;31m             return VerboseTB.structured_traceback(\n\u001b[0m\u001b[1;32m   1268\u001b[0m                 \u001b[0mself\u001b[0m\u001b[0;34m,\u001b[0m \u001b[0metype\u001b[0m\u001b[0;34m,\u001b[0m \u001b[0mvalue\u001b[0m\u001b[0;34m,\u001b[0m \u001b[0mtb\u001b[0m\u001b[0;34m,\u001b[0m \u001b[0mtb_offset\u001b[0m\u001b[0;34m,\u001b[0m \u001b[0mnumber_of_lines_of_context\u001b[0m\u001b[0;34m\u001b[0m\u001b[0;34m\u001b[0m\u001b[0m\n\u001b[1;32m   1269\u001b[0m             )\n",
      "\u001b[0;32m/usr/local/anaconda3/lib/python3.8/site-packages/IPython/core/ultratb.py\u001b[0m in \u001b[0;36mstructured_traceback\u001b[0;34m(self, etype, evalue, etb, tb_offset, number_of_lines_of_context)\u001b[0m\n\u001b[1;32m   1122\u001b[0m         \u001b[0;34m\"\"\"Return a nice text document describing the traceback.\"\"\"\u001b[0m\u001b[0;34m\u001b[0m\u001b[0;34m\u001b[0m\u001b[0m\n\u001b[1;32m   1123\u001b[0m \u001b[0;34m\u001b[0m\u001b[0m\n\u001b[0;32m-> 1124\u001b[0;31m         formatted_exception = self.format_exception_as_a_whole(etype, evalue, etb, number_of_lines_of_context,\n\u001b[0m\u001b[1;32m   1125\u001b[0m                                                                tb_offset)\n\u001b[1;32m   1126\u001b[0m \u001b[0;34m\u001b[0m\u001b[0m\n",
      "\u001b[0;32m/usr/local/anaconda3/lib/python3.8/site-packages/IPython/core/ultratb.py\u001b[0m in \u001b[0;36mformat_exception_as_a_whole\u001b[0;34m(self, etype, evalue, etb, number_of_lines_of_context, tb_offset)\u001b[0m\n\u001b[1;32m   1080\u001b[0m \u001b[0;34m\u001b[0m\u001b[0m\n\u001b[1;32m   1081\u001b[0m \u001b[0;34m\u001b[0m\u001b[0m\n\u001b[0;32m-> 1082\u001b[0;31m         \u001b[0mlast_unique\u001b[0m\u001b[0;34m,\u001b[0m \u001b[0mrecursion_repeat\u001b[0m \u001b[0;34m=\u001b[0m \u001b[0mfind_recursion\u001b[0m\u001b[0;34m(\u001b[0m\u001b[0morig_etype\u001b[0m\u001b[0;34m,\u001b[0m \u001b[0mevalue\u001b[0m\u001b[0;34m,\u001b[0m \u001b[0mrecords\u001b[0m\u001b[0;34m)\u001b[0m\u001b[0;34m\u001b[0m\u001b[0;34m\u001b[0m\u001b[0m\n\u001b[0m\u001b[1;32m   1083\u001b[0m \u001b[0;34m\u001b[0m\u001b[0m\n\u001b[1;32m   1084\u001b[0m         \u001b[0mframes\u001b[0m \u001b[0;34m=\u001b[0m \u001b[0mself\u001b[0m\u001b[0;34m.\u001b[0m\u001b[0mformat_records\u001b[0m\u001b[0;34m(\u001b[0m\u001b[0mrecords\u001b[0m\u001b[0;34m,\u001b[0m \u001b[0mlast_unique\u001b[0m\u001b[0;34m,\u001b[0m \u001b[0mrecursion_repeat\u001b[0m\u001b[0;34m)\u001b[0m\u001b[0;34m\u001b[0m\u001b[0;34m\u001b[0m\u001b[0m\n",
      "\u001b[0;32m/usr/local/anaconda3/lib/python3.8/site-packages/IPython/core/ultratb.py\u001b[0m in \u001b[0;36mfind_recursion\u001b[0;34m(etype, value, records)\u001b[0m\n\u001b[1;32m    380\u001b[0m     \u001b[0;31m# first frame (from in to out) that looks different.\u001b[0m\u001b[0;34m\u001b[0m\u001b[0;34m\u001b[0m\u001b[0;34m\u001b[0m\u001b[0m\n\u001b[1;32m    381\u001b[0m     \u001b[0;32mif\u001b[0m \u001b[0;32mnot\u001b[0m \u001b[0mis_recursion_error\u001b[0m\u001b[0;34m(\u001b[0m\u001b[0metype\u001b[0m\u001b[0;34m,\u001b[0m \u001b[0mvalue\u001b[0m\u001b[0;34m,\u001b[0m \u001b[0mrecords\u001b[0m\u001b[0;34m)\u001b[0m\u001b[0;34m:\u001b[0m\u001b[0;34m\u001b[0m\u001b[0;34m\u001b[0m\u001b[0m\n\u001b[0;32m--> 382\u001b[0;31m         \u001b[0;32mreturn\u001b[0m \u001b[0mlen\u001b[0m\u001b[0;34m(\u001b[0m\u001b[0mrecords\u001b[0m\u001b[0;34m)\u001b[0m\u001b[0;34m,\u001b[0m \u001b[0;36m0\u001b[0m\u001b[0;34m\u001b[0m\u001b[0;34m\u001b[0m\u001b[0m\n\u001b[0m\u001b[1;32m    383\u001b[0m \u001b[0;34m\u001b[0m\u001b[0m\n\u001b[1;32m    384\u001b[0m     \u001b[0;31m# Select filename, lineno, func_name to track frames with\u001b[0m\u001b[0;34m\u001b[0m\u001b[0;34m\u001b[0m\u001b[0;34m\u001b[0m\u001b[0m\n",
      "\u001b[0;31mTypeError\u001b[0m: object of type 'NoneType' has no len()"
     ]
    },
    {
     "data": {
      "image/png": "[encoded data removed]",
      "text/plain": [
       "<Figure size 1152x288 with 3 Axes>"
      ]
     },
     "metadata": {
      "needs_background": "light"
     },
     "output_type": "display_data"
    },
    {
     "data": {
      "image/png": "[encoded data removed]",
      "text/plain": [
       "<Figure size 1152x288 with 3 Axes>"
      ]
     },
     "metadata": {
      "needs_background": "light"
     },
     "output_type": "display_data"
    },
    {
     "data": {
      "image/png": "[encoded data removed]",
      "text/plain": [
       "<Figure size 1152x288 with 3 Axes>"
      ]
     },
     "metadata": {
      "needs_background": "light"
     },
     "output_type": "display_data"
    }
   ],
   "source": [
    "#declare the esn_cv optimizer: this class will run bayesian optimization to optimize the bounds dict.\n",
    "esn_cv = EchoStateNetworkCV(bounds = bounds_dict,\n",
    "                            interactive = True, \n",
    "                            batch_size = 1, \n",
    "                            cv_samples = 1, \n",
    "                            initial_samples = 100,  #200\n",
    "                            subsequence_length = int(xtrain.shape[0] * 0.98),\n",
    "                            validate_fraction = 0.5,\n",
    "                            random_seed = 209, \n",
    "                            success_tolerance = 10,\n",
    "                            ODE_order = 1, \n",
    "                            length_min = 2 **(-8),\n",
    "                            esn_burn_in = BURN_IN, \n",
    "                            log_score = True,\n",
    "                            activation_function = torch.sin,\n",
    "                        act_f_prime = torch.cos,\n",
    "                            )\n",
    "#optimize:\n",
    "opt = True\n",
    "if opt:\n",
    "    opt_hps = esn_cv.optimize(y = None, \n",
    "                              x = xtrain.view(-1,1),\n",
    "                            reparam_f = reparam, \n",
    "                            ODE_criterion = custom_loss,\n",
    "                            init_conditions = [[1.1, 1.3], 1],#[[0,1], [0,1]], \n",
    "                            force = force,\n",
    "                            ode_coefs = [1, 1],\n",
    "                            rounds =1,\n",
    "                            backprop_f = optimize_last_layer, \n",
    "                            solve =  True, \n",
    "                            eq_system = True,\n",
    "                            n_outputs = 2,\n",
    "                            epochs =  5000,\n",
    "                            reg_type = \"ham\",\n",
    "                            tr_score_prop = 0.2)"
   ]
  },
  {
   "cell_type": "code",
   "execution_count": null,
   "id": "instrumental-oxford",
   "metadata": {
    "id": "instrumental-oxford"
   },
   "outputs": [],
   "source": [
    "if opt:\n",
    "    opt_hps"
   ]
  },
  {
   "cell_type": "code",
   "execution_count": null,
   "id": "9FfE_WCWW4GA",
   "metadata": {
    "id": "9FfE_WCWW4GA"
   },
   "outputs": [],
   "source": [
    "esn_cv.n_outputs"
   ]
  },
  {
   "cell_type": "code",
   "execution_count": null,
   "id": "moderate-story",
   "metadata": {
    "id": "moderate-story"
   },
   "outputs": [],
   "source": [
    "#opt_hps\n",
    "#new hps\n",
    "hps = {'dt': 10**-2.2, #0.00630957344480193,\n",
    " 'n_nodes': 500,\n",
    " 'connectivity': 0.0032730501495831926,\n",
    " 'spectral_radius': 8, #1.4158440828323364,\n",
    " 'regularization': 1.5068021807798724,\n",
    " 'leaking_rate': 0.059490688145160675,\n",
    " 'bias': -0.048827290534973145}\n",
    "\n",
    "\n",
    "new_hps = {'dt': 0.01,\n",
    " 'n_nodes': 500,\n",
    " 'connectivity': 0.0012518575764582111,\n",
    " 'spectral_radius': 1.1966601610183716,\n",
    " 'regularization': 16.545863672039996,\n",
    " 'leaking_rate': 0.06009502336382866,\n",
    " 'bias': 0.3623389005661011,\n",
    " 'enet_alpha': 0.8732492327690125,\n",
    " 'enet_strength': 0.011039982688091154}\n",
    "\n",
    "new_new_hps = {'dt': 0.015848931924611134,\n",
    " 'n_nodes': 500,\n",
    " 'connectivity': 0.019411325024276192,\n",
    " 'spectral_radius': 1.0023764371871948,\n",
    " 'regularization': 0.01620633637515373,\n",
    " 'leaking_rate': 0.064253069460392,\n",
    " 'bias': 0.42768096923828125,\n",
    " 'enet_alpha': 0.6743161678314209,\n",
    " 'enet_strength': 0.8529825590176218}\n",
    "\n",
    "#trained to 20*pi\n",
    "hps = {'dt': 0.015848931924611134,\n",
    " 'n_nodes': 500,\n",
    " 'connectivity': 0.011412976296653454,\n",
    " 'spectral_radius': 1.5883185863494873,\n",
    " 'regularization': 0.00017807099501162684,\n",
    " 'leaking_rate': 0.13014408946037292,\n",
    " 'bias': 0.9991035461425781,\n",
    " 'enet_alpha': 0.3216418921947479,\n",
    " 'enet_strength': 4.858497457864491,\n",
    " 'spikethreshold': 0.3982628881931305,\n",
    " 'gamma': 0.09541413187980652}\n",
    "\n",
    "#trained to 20*pi round 2\n",
    "hps = {'dt': 0.015848931924611134,\n",
    " 'n_nodes': 500,\n",
    " 'connectivity': 0.07016350849568936,\n",
    " 'spectral_radius': 1.2355562448501587,\n",
    " 'regularization': 1.9761536690744939,\n",
    " 'leaking_rate': 0.03428209573030472,\n",
    " 'bias': 0.9089397192001343,\n",
    " 'enet_alpha': 0.2660914659500122,\n",
    " 'enet_strength': 3.898602924275761,\n",
    " 'spikethreshold': 0.4618821144104004,\n",
    " 'gamma': 0.0948069617152214}\n",
    "\n",
    "\n",
    "afternoon_hps = {'dt': 0.01, #0.001, #0.01\n",
    " 'n_nodes': 500,\n",
    " 'connectivity': 0.020193996324265714,\n",
    " 'spectral_radius': 1.418228268623352,\n",
    " 'regularization': 13.826029502079747,\n",
    " 'leaking_rate': 0.06767291575670242,\n",
    " 'bias': -1.1795610189437866,\n",
    " 'enet_alpha': 0.2708361744880676,\n",
    " 'enet_strength': 0.015112827558814506,\n",
    " 'spikethreshold': 0.4739722013473511,\n",
    " 'gamma': 0.05922722443938255}\n",
    "\n"
   ]
  },
  {
   "cell_type": "markdown",
   "id": "described-brass",
   "metadata": {
    "id": "described-brass"
   },
   "source": [
    "#esn_cv.Y_turbo.detach().cpu())\n",
    "Y_turbo = esn_cv.Y_turbo.data.cpu()\n",
    "plt.plot(Y_turbo)"
   ]
  },
  {
   "cell_type": "code",
   "execution_count": null,
   "id": "three-performance",
   "metadata": {
    "id": "three-performance"
   },
   "outputs": [],
   "source": [
    "plt.plot(xtrain)"
   ]
  },
  {
   "cell_type": "code",
   "execution_count": null,
   "id": "naughty-knife",
   "metadata": {
    "id": "naughty-knife"
   },
   "outputs": [],
   "source": [
    "# plot_result(esn, xtrain, v0s = np.array([1]), \n",
    "#             y0s = [1.3],plot_gt = True, ode_coefs = [1,1], \n",
    "#             force_k = 0,\n",
    "#            backprop_f = optimize_last_layer,solve = True, epochs = 80000, reg = False)\n",
    "# plt.plot(esn.states[:,1:10].detach().cpu());"
   ]
  },
  {
   "cell_type": "code",
   "execution_count": null,
   "id": "silver-maryland",
   "metadata": {
    "id": "silver-maryland"
   },
   "outputs": [],
   "source": [
    "def fit_and_test(RC, xtrain, xtest, y0 = 1.3, v0 = 1, ode_coefs = [1,1], \n",
    "                 solve = None, epochs = None, reg = None, plott = None):\n",
    "    train_args = {\"burn_in\" : int(BURN_IN), \n",
    "                      \"ODE_order\" : 1,\n",
    "                      \"force\" : force,\n",
    "                      \"reparam_f\" : reparam,\n",
    "                      \"init_conditions\" : [float(y0), float(v0)],\n",
    "                      \"ode_coefs\" : ode_coefs,\n",
    "                      \"y\" : None,\n",
    "                      \"X\" : xtrain.view(-1,1),\n",
    "                      \"eq_system\" : True,\n",
    "                      #\"out_weights\" : out_weights\n",
    "                      }\n",
    "    #fit\n",
    "    y, ydot = RC.fit(**train_args, SOLVE = solve)#, out_weights = out_weights)\n",
    "    states_dict = {\"s\"  : RC.states.clone(),\n",
    "                   \"s1\" : RC.states_dot.clone(), \n",
    "                   \"G\"  : RC.G,\n",
    "                   \"ex\" : RC.extended_states.clone(),\n",
    "                   \"sb1\": RC.sb1,\n",
    "                   \"sb\" : RC.sb\n",
    "                   }\n",
    "    weight_dict = optimize_last_layer(RC, epochs = epochs,reg = reg, plott = plott)\n",
    "    RC = weight_dict[\"RC\"]\n",
    "    #y, ydot = esn.fit(**train_args, preloaded_states_dict = states_dict, out_weights = weight_dict, SOLVE = False)\n",
    "    \n",
    "    #test\n",
    "    score, pred, _ = RC.test(y = torch.ones_like(xtest.to(esn.device)), X = xtest.to(esn.device), reparam = reparam, ODE_criterion = custom_loss)\n",
    "    \n",
    "    return esn.X.cpu().data, weight_dict[\"fit\"].cpu().data, ydot.cpu().data, pred.cpu().data, weight_dict\n",
    "\n",
    "def integrator_sol(esn):\n",
    "    def f(u, t ,lam=0,A=0,W=1):\n",
    "            x,  px = u      # unpack current values of u\n",
    "            derivs = [px, -x - lam*x**3 +A*np.sin(W*t)]     # you write the derivative here\n",
    "            return derivs\n",
    "        \n",
    "    # Scipy Solver   \n",
    "    def NLosc_solution(t, x0,  px0, lam=0, A=0,W=1):\n",
    "        u0 = [x0, px0]\n",
    "        # Call the ODE solver\n",
    "        solPend = odeint(f, u0, t.cpu(), args=(lam,A,W,))\n",
    "        xP = solPend[:,0];        pxP = solPend[:,1];   \n",
    "        return xP, pxP\n",
    "\n",
    "    y_truth, v_truth = NLosc_solution(esn.X.squeeze().data,1.3,1,lam=1, A=0, W= 0) \n",
    "    \n",
    "    return y_truth, v_truth\n",
    "\n",
    "def plot_sol(X, yy, gt, xtest, pred, train_lim = None):\n",
    "    plt.figure(figsize = (12, 5))\n",
    "    print(yy[0,:].shape)\n",
    "    plt.plot(X, yy[:,0].cpu(), label = \"pred\", color = \"red\")\n",
    "    plt.plot(X, gt[0], '--', color = 'r')\n",
    "    \n",
    "    plt.axvline(train_lim, label = \"train_limit\")\n",
    "    \n",
    "    plt.plot(X, yy[:,1].cpu(), label = \"pred\", color = \"b\", linewidth = 5, alpha = 0.5)\n",
    "    plt.plot(X, gt[1], '--', color = 'b', linewidth = 5, alpha = 0.5)\n",
    "    \n",
    "    plt.plot(xtest, pred, color = \"green\")"
   ]
  },
  {
   "cell_type": "code",
   "execution_count": null,
   "id": "better-liabilities",
   "metadata": {
    "id": "better-liabilities"
   },
   "outputs": [],
   "source": [
    "may12hps = {'dt': 0.001,\n",
    " 'n_nodes': 500,\n",
    " 'connectivity': 0.019946997092875757,\n",
    " 'spectral_radius': 2.4289157390594482,\n",
    " 'regularization': 49.04219249279563,\n",
    " 'leaking_rate': 0.0032216429244726896,\n",
    " 'bias': 0.3808490037918091,\n",
    " 'enet_alpha': 0.2040003091096878,\n",
    " 'enet_strength': 0.07488961475845243,\n",
    " 'spikethreshold': 0.4231834411621094,\n",
    " 'gamma': .09350859373807907,\n",
    "  'gamma_cyclic' : 0.9999}\n",
    "\n",
    "may13hps ={'gamma_cyclic': 1,#0.9998,\n",
    " 'spikethreshold': 0.25,\n",
    " 'enet_alpha': 0.2,\n",
    " 'dt': 0.01,\n",
    " 'regularization': 13.803842646028846,\n",
    " 'n_nodes': 600,\n",
    " 'connectivity': 0.01344268178203971,\n",
    " 'spectral_radius': 2.459860324859619,\n",
    " 'leaking_rate': 0.0045151556842029095,\n",
    " #'input_scaling': 0.7782557606697083,\n",
    " 'bias': -0.7429814338684082,\n",
    " 'enet_strength': 0.04331694643272608,\n",
    " 'gamma': 0.08337975293397903}\n",
    "\n",
    "may15hps = {'dt': 0.001,\n",
    " 'regularization': 48.97788193684461,\n",
    " 'n_nodes': 500,\n",
    " 'connectivity': 0.017714821964432213,\n",
    " 'spectral_radius': 2.3660330772399902,\n",
    " 'leaking_rate': 0.0024312976747751236,\n",
    " 'bias': 0.37677669525146484,\n",
    " 'enet_alpha': 0.2082211971282959,\n",
    " 'enet_strength': 0.118459548397668,\n",
    " 'spikethreshold': 0.43705281615257263,\n",
    " 'gamma': 0.09469877928495407,\n",
    " 'gamma_cyclic': 0.999860422666841}\n",
    "\n",
    "hp_set = may15hps"
   ]
  },
  {
   "cell_type": "code",
   "execution_count": null,
   "id": "southeast-chorus",
   "metadata": {
    "id": "southeast-chorus"
   },
   "outputs": [],
   "source": [
    "esn = EchoStateNetwork(**hp_set, \n",
    "                       random_state = 209, \n",
    "                       feedback = False, \n",
    "                       id_ = 10,\n",
    "                       activation_f = torch.sin,\n",
    "                       act_f_prime = torch.cos,\n",
    "                       dtype = torch.float32, n_outputs = 2)\n",
    "factor = 1#0.6*0.7\n",
    "base = 10*np.pi\n",
    "factor = 1.2\n",
    "x0, xf, xf2 = 0, base, base*factor\n",
    "nsteps = int(abs(xf - x0)/(hp_set[\"dt\"]))\n",
    "nsteps2 = int(abs(xf2 - xf)/(hp_set[\"dt\"]))\n",
    "xtrain = torch.linspace(x0, xf, nsteps, requires_grad=False).view(-1,1)\n",
    "xtest = torch.cat((xtrain,xtrain+xtrain[-1]), axis = 0)[len(xtrain):]\n",
    "dt1, dt2 = float(xtest[1] - xtest[0]), float(xtrain[1]- xtrain[0])\n",
    "#assert dt1 == dt2, f'{dt1} != {dt2}'\n",
    "\n",
    "\n",
    "xx, yy, yydot, yypred, weight_dict =  fit_and_test(esn, xtrain, xtest, epochs = 50000, reg = False, plott = True, solve = True)"
   ]
  },
  {
   "cell_type": "code",
   "execution_count": null,
   "id": "stopped-unknown",
   "metadata": {
    "id": "stopped-unknown"
   },
   "outputs": [],
   "source": [
    "plt.plot(esn.states[:,  1:10]);"
   ]
  },
  {
   "cell_type": "code",
   "execution_count": null,
   "id": "completed-devices",
   "metadata": {
    "id": "completed-devices",
    "scrolled": true
   },
   "outputs": [],
   "source": [
    "xtrain[1]- xtrain[0], xtest[1]- xtest[0]"
   ]
  },
  {
   "cell_type": "code",
   "execution_count": null,
   "id": "educated-candy",
   "metadata": {
    "id": "educated-candy"
   },
   "outputs": [],
   "source": [
    "gt = integrator_sol(esn)\n",
    "plot_sol(xx, yy,gt, xtest, yypred, xf)"
   ]
  },
  {
   "cell_type": "code",
   "execution_count": null,
   "id": "emerging-container",
   "metadata": {
    "id": "emerging-container"
   },
   "outputs": [],
   "source": []
  },
  {
   "cell_type": "code",
   "execution_count": null,
   "id": "advance-roman",
   "metadata": {
    "id": "advance-roman"
   },
   "outputs": [],
   "source": [
    "sns.heatmap(esn.laststate.cpu().data.numpy().reshape(-1,1))"
   ]
  },
  {
   "cell_type": "code",
   "execution_count": null,
   "id": "suburban-newark",
   "metadata": {
    "id": "suburban-newark"
   },
   "outputs": [],
   "source": [
    "xtest.shape, weight_dict[\"weights\"].shape"
   ]
  },
  {
   "cell_type": "code",
   "execution_count": null,
   "id": "peaceful-adult",
   "metadata": {
    "id": "peaceful-adult"
   },
   "outputs": [],
   "source": [
    "xtest2 = torch.linspace(x0, xf2, nsteps2, requires_grad=False).view(-1,1)"
   ]
  },
  {
   "cell_type": "code",
   "execution_count": null,
   "id": "dental-spank",
   "metadata": {
    "id": "dental-spank"
   },
   "outputs": [],
   "source": [
    "esn = EchoStateNetwork(**may12hps, \n",
    "                       random_state = 209, \n",
    "                       feedback = False, \n",
    "                       id_ = 10,\n",
    "                       backprop = False,\n",
    "                       activation_f = torch.sin,\n",
    "                       act_f_prime = torch.cos,\n",
    "                       dtype = torch.float32, n_outputs = 2)\n",
    "\n",
    "train_args = {\"burn_in\" : int(BURN_IN), \n",
    "              \"ODE_order\" : 1,\n",
    "              \"force\" : force,\n",
    "              \"reparam_f\" : reparam,\n",
    "              \"init_conditions\" : [float(1.3), float(1)],\n",
    "              \"ode_coefs\" : [1,1],\n",
    "              \"y\" : None,\n",
    "              \"X\" : xtrain.view(-1,1),#\n",
    "              \"eq_system\" : True,\n",
    "              \"out_weights\" : weight_dict,\n",
    "              \"SOLVE\" : False\n",
    "              }\n",
    "y, ydot = esn.fit(**train_args)"
   ]
  },
  {
   "cell_type": "code",
   "execution_count": null,
   "id": "welsh-tamil",
   "metadata": {
    "id": "welsh-tamil"
   },
   "outputs": [],
   "source": [
    "yhat = esn.predict(None, x = xtest.cuda(), continuation = True, #torch.ones_like(xtest2.cuda()), , \n",
    "                   continue_force = True)"
   ]
  },
  {
   "cell_type": "code",
   "execution_count": null,
   "id": "naked-chess",
   "metadata": {
    "id": "naked-chess"
   },
   "outputs": [],
   "source": [
    "xtrain.shape"
   ]
  },
  {
   "cell_type": "code",
   "execution_count": null,
   "id": "decent-marshall",
   "metadata": {
    "id": "decent-marshall"
   },
   "outputs": [],
   "source": [
    "plt.plot(esn.X.cpu(), y.cpu().detach())\n",
    "plt.plot(xtest,yhat[1].cpu().detach())"
   ]
  },
  {
   "cell_type": "code",
   "execution_count": null,
   "id": "upset-begin",
   "metadata": {
    "id": "upset-begin"
   },
   "outputs": [],
   "source": [
    "esn.X_val"
   ]
  },
  {
   "cell_type": "code",
   "execution_count": null,
   "id": "killing-married",
   "metadata": {
    "id": "killing-married"
   },
   "outputs": [],
   "source": [
    "esn.laststate"
   ]
  },
  {
   "cell_type": "code",
   "execution_count": null,
   "id": "hearing-score",
   "metadata": {
    "id": "hearing-score"
   },
   "outputs": [],
   "source": [
    "import pickle\n",
    "#t2, ys, gts, ws, bs, Ls = result\n",
    "plot_data = {\"time\": xx, \n",
    "            \"ypreds\" : yy,\n",
    "            \"extrapolation\" : yypred,\n",
    "            \"gts\" : gt}\n",
    "\n",
    "with open('nonlinear_oscillator_plot.pickle', 'wb') as handle:\n",
    "    pickle.dump(plot_data, handle, protocol=pickle.HIGHEST_PROTOCOL)\n",
    "    \n",
    "with open('nonlinear_oscillator_plot.pickle', 'rb') as handle:\n",
    "    b = pickle.load(handle)\n",
    "\n",
    "\n",
    "repr_data = {\"time\": xx, \n",
    "       \"hyper_params\" : may12hps,\n",
    "       \"out_weights\" : {\"weights\": [weight_dict[\"weights\"]],\n",
    "                        \"bias\": [weight_dict[\"bias\"]]}, \n",
    "       \"burn_in\" : BURN_IN, \n",
    "       \"epochs\" : 30000,\n",
    "       \"learning_rate\": 0.04,\n",
    "       \"loss_history\" : weight_dict[\"loss\"],\n",
    "       \"info\" : \"run on 30k epochs with both lr schedulers.\",\n",
    "       \"v0\" : 1,\n",
    "       \"y0\" : 1.3}\n",
    "\n",
    "with open('nonlinear_oscillator_reproduce.pickle', 'wb') as handle:\n",
    "    pickle.dump(repr_data, handle, protocol=pickle.HIGHEST_PROTOCOL)\n",
    "\n",
    "with open('nonlinear_oscillator_reproduce.pickle', 'rb') as handle:\n",
    "    b = pickle.load(handle)"
   ]
  },
  {
   "cell_type": "code",
   "execution_count": null,
   "id": "cleared-jungle",
   "metadata": {
    "id": "cleared-jungle"
   },
   "outputs": [],
   "source": [
    "esn = EchoStateNetwork(**afternoon_hps, \n",
    "                       random_state = 209, \n",
    "                       id_ = 10,\n",
    "                       activation_f = torch.sin,\n",
    "                       act_f_prime = torch.cos,\n",
    "                       dtype = torch.float32, n_outputs = 2)\n",
    "\n",
    "extrapolate(esn, 0 , (np.pi * 20), (np.pi * 20)*1.2, epochs = 100000, solve = True, reg = False)"
   ]
  },
  {
   "cell_type": "code",
   "execution_count": null,
   "id": "unlike-corruption",
   "metadata": {
    "id": "unlike-corruption"
   },
   "outputs": [],
   "source": [
    "orig_BO_train_len_pi_prop = 0.6*0.7\n",
    "extrapolate(esn,  0, (np.pi * 4),  (np.pi * 4)*1.2, epochs = 20000)"
   ]
  },
  {
   "cell_type": "code",
   "execution_count": null,
   "id": "waiting-moore",
   "metadata": {
    "id": "waiting-moore"
   },
   "outputs": [],
   "source": [
    "assert False\n",
    "best_weights = {\"weights\" : esn.LinOut.weight.data, \n",
    "                \"bias\": esn.LinOut.bias.data}"
   ]
  },
  {
   "cell_type": "code",
   "execution_count": null,
   "id": "quarterly-tattoo",
   "metadata": {
    "id": "quarterly-tattoo"
   },
   "outputs": [],
   "source": [
    "xf0,xf1, dt = 0, (np.pi * 20), esn.dt"
   ]
  },
  {
   "cell_type": "code",
   "execution_count": null,
   "id": "wrapped-cleaners",
   "metadata": {
    "id": "wrapped-cleaners"
   },
   "outputs": [],
   "source": [
    "train_args = {\"burn_in\" : int(BURN_IN), \n",
    "              \"ODE_order\" : 1,\n",
    "              \"force\" : force,\n",
    "              \"reparam_f\" : reparam,\n",
    "              \"init_conditions\" : [float(1.3), float(1)],\n",
    "              \"ode_coefs\" : [1,1],\n",
    "              \"y\" : None,\n",
    "              \"X\" : xtrain.view(-1,1),\n",
    "              \"eq_system\" : True,\n",
    "              \"out_weights\" : best_weights\n",
    "              }\n",
    "        \n",
    "y, ydot = esn.fit(**train_args, SOLVE = False)\n",
    "\n",
    "\n",
    "\n",
    "#nsteps_test = int((xf2 - x0)/dt_)\n",
    "#nsteps_test2 = int((xf2 - xf1)/dt_)\n",
    "\n",
    "#print(f'dt = {dt_}')\n",
    "\n",
    "#xtest = torch.linspace(x0, xf2, steps = nsteps_test, requires_grad=False).view(-1,1)\n",
    "#xtest2 = torch.linspace(xf1, xf2, steps = nsteps_test2, requires_grad=False).view(-1,1)"
   ]
  },
  {
   "cell_type": "code",
   "execution_count": null,
   "id": "clear-memorabilia",
   "metadata": {
    "id": "clear-memorabilia"
   },
   "outputs": [],
   "source": []
  },
  {
   "cell_type": "code",
   "execution_count": null,
   "id": "inappropriate-deadline",
   "metadata": {
    "id": "inappropriate-deadline"
   },
   "outputs": [],
   "source": [
    "def f(u, t ,lam=0,A=0,W=1):\n",
    "            x,  px = u      # unpack current values of u\n",
    "            derivs = [px, -x - lam*x**3 +A*np.sin(W*t)]     # you write the derivative here\n",
    "            return derivs\n",
    "        \n",
    "# Scipy Solver   \n",
    "def NLosc_solution(t, x0,  px0, lam=0, A=0,W=1):\n",
    "    u0 = [x0, px0]\n",
    "    # Call the ODE solver\n",
    "    solPend = odeint(f, u0, t.cpu(), args=(lam,A,W,))\n",
    "    xP = solPend[:,0];        pxP = solPend[:,1];   \n",
    "    return xP, pxP\n",
    "\n",
    "y_truth, v_truth  = NLosc_solution(esn.X.squeeze().data,1.3,1,lam=1, A=0, W= 0.5) \n",
    "\n",
    "\n",
    "#p = y[:,1].cpu()# + v0\n",
    "#yy = y[:,0].cpu()# + y0"
   ]
  },
  {
   "cell_type": "code",
   "execution_count": null,
   "id": "attempted-asthma",
   "metadata": {
    "id": "attempted-asthma"
   },
   "outputs": [],
   "source": [
    "plt.plot((y[:,1].cpu()))\n",
    "plt.plot(v_truth)"
   ]
  },
  {
   "cell_type": "code",
   "execution_count": null,
   "id": "working-building",
   "metadata": {
    "id": "working-building"
   },
   "outputs": [],
   "source": [
    "x, p = esn.yfit[:,0].view(-1,1), esn.yfit[:,1].view(-1,1)\n",
    "xdot, pdot = esn.ydot[:,0].view(-1,1), esn.ydot[:,1].view(-1,1)\n",
    "plt.plot(custom_loss(esn.X, esn.yfit, esn.ydot, None, mean = False))\n",
    "plt.plot(x, label = \"x\")\n",
    "plt.plot(p, label = \"p\")\n",
    "plt.legend();"
   ]
  }
 ],
 "metadata": {
  "accelerator": "GPU",
  "colab": {
   "collapsed_sections": [],
   "name": "eq_system_v1_sin_nonlinear_ham_fast.ipynb",
   "provenance": []
  },
  "kernelspec": {
   "display_name": "Python 3",
   "language": "python",
   "name": "python3"
  },
  "language_info": {
   "codemirror_mode": {
    "name": "ipython",
    "version": 3
   },
   "file_extension": ".py",
   "mimetype": "text/x-python",
   "name": "python",
   "nbconvert_exporter": "python",
   "pygments_lexer": "ipython3",
   "version": "3.8.8"
  }
 },
 "nbformat": 4,
 "nbformat_minor": 5
}
