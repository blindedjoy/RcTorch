{
 "cells": [
  {
   "cell_type": "code",
   "execution_count": 29,
   "id": "f1a5786c",
   "metadata": {},
   "outputs": [],
   "source": [
    "import numpy as np"
   ]
  },
  {
   "cell_type": "markdown",
   "id": "514e811b",
   "metadata": {},
   "source": [
    "### Upgrading UI"
   ]
  },
  {
   "cell_type": "code",
   "execution_count": 30,
   "id": "4bbe5ad6",
   "metadata": {},
   "outputs": [],
   "source": [
    "#Task 1: accept log_arguments\n",
    "\n",
    "str_list = ['log_a', 'log_spectral_radius', 'connectivity']"
   ]
  },
  {
   "cell_type": "code",
   "execution_count": 31,
   "id": "4f46e51a",
   "metadata": {},
   "outputs": [
    {
     "data": {
      "text/plain": [
       "[(True, 'a'), (True, 'spectral_radius'), (False, 'connectivity')]"
      ]
     },
     "execution_count": 31,
     "metadata": {},
     "output_type": "execute_result"
    }
   ],
   "source": [
    "log_var_indices = ['log_' in str_ for str_ in str_list]\n",
    "user_var_list = [(str_.split(sep = 'log_'))[-1] for str_ in str_list]\n",
    "list(zip(a,b))"
   ]
  },
  {
   "cell_type": "code",
   "execution_count": 32,
   "id": "bbb0c3bb",
   "metadata": {},
   "outputs": [
    {
     "data": {
      "text/plain": [
       "['a', 'spectral_radius', 'connectivity']"
      ]
     },
     "execution_count": 32,
     "metadata": {},
     "output_type": "execute_result"
    }
   ],
   "source": [
    "b"
   ]
  },
  {
   "cell_type": "code",
   "execution_count": 35,
   "id": "526678b5",
   "metadata": {},
   "outputs": [
    {
     "data": {
      "text/plain": [
       "['a', 'spectral_radius']"
      ]
     },
     "execution_count": 35,
     "metadata": {},
     "output_type": "execute_result"
    }
   ],
   "source": [
    "user_variables = [(str_.split(sep = 'log_'))[-1] for str_ in user_var_list]\n",
    "\n",
    "log_vars = list(np.array(user_variables)[log_var_indices])\n",
    "log_vars"
   ]
  },
  {
   "cell_type": "code",
   "execution_count": null,
   "id": "d0a24f62",
   "metadata": {},
   "outputs": [],
   "source": []
  }
 ],
 "metadata": {
  "kernelspec": {
   "display_name": "arm",
   "language": "python",
   "name": "arm"
  },
  "language_info": {
   "codemirror_mode": {
    "name": "ipython",
    "version": 3
   },
   "file_extension": ".py",
   "mimetype": "text/x-python",
   "name": "python",
   "nbconvert_exporter": "python",
   "pygments_lexer": "ipython3",
   "version": "3.8.11"
  }
 },
 "nbformat": 4,
 "nbformat_minor": 5
}
