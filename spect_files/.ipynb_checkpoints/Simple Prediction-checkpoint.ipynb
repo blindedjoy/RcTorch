{
 "cells": [
  {
   "cell_type": "code",
   "execution_count": 1,
   "metadata": {},
   "outputs": [],
   "source": [
    "import numpy as np \n",
    "import pandas as pd\n",
    "import matplotlib as plt"
   ]
  },
  {
   "cell_type": "code",
   "execution_count": null,
   "metadata": {},
   "outputs": [],
   "source": [
    "A_med = loadmat('spectrogram_data/medium/Intensity_1024.mat')[\"M\"]\n",
    "plt.imshow(A_med)\n",
    "plt.show()\n",
    "A_med = A_med.T\n",
    "plt.imshow(A_med)"
   ]
  },
  {
   "cell_type": "code",
   "execution_count": null,
   "metadata": {},
   "outputs": [],
   "source": [
    "#zhizhuo experiment 1: finding the right indices ; 249, 289\n",
    "lst__ = [i for i in list(range(250 - 1, 289))]\n",
    "assert len(lst__) == 40\n",
    "assert lst__[0] + 1 == 250\n",
    "assert lst__[-1] + 1 == 289\n",
    "print(len(lst__))\n",
    "print(lst__[0] + 1)\n",
    "print(lst__[-1] + 1)"
   ]
  },
  {
   "cell_type": "code",
   "execution_count": null,
   "metadata": {},
   "outputs": [],
   "source": [
    "#250-289 inclusive\n",
    "def get_series(matrixx, k, zhizhuo_endpoints = None, shape_assert = None, plott = False, start = 0):\n",
    "    matrixx = (matrixx - np.mean(matrixx)) / np.std(matrixx)\n",
    "    #start = 0\n",
    "    stop = matrixx.shape[1]\n",
    "    print(\"stop: \" + str(stop))\n",
    "    break_points = range(start, stop, k)\n",
    "    break_points = list(break_points)\n",
    "    if zhizhuo_endpoints:\n",
    "        zlb, zub = zhizhuo_endpoints[0], zhizhuo_endpoints[1]\n",
    "    \n",
    "    train_arrays  = []\n",
    "    target_arrays = []\n",
    "    \n",
    "    #### --> test area\n",
    "    if plott:\n",
    "        fig, ax = plt.subplots(1, len(break_points) - 1, figsize = (8, 12))\n",
    "    for i in range(len(break_points) - 1):\n",
    "        lb, ub = break_points[i], break_points[i+1]\n",
    "        if zhizhuo_endpoints:\n",
    "            sub_df = matrixx[ zlb:zub, lb:ub]\n",
    "            sub_df_train = matrixx[ (zlb - 100):zlb, lb:ub]\n",
    "            train_arrays.append(sub_df_train)\n",
    "            target_arrays.append(sub_df)\n",
    "            if plott:\n",
    "                ax[i].imshow(sub_df, aspect = 10)\n",
    "            if shape_assert:\n",
    "                assert( shape_assert == sub_df.shape[0])\n",
    "        else:\n",
    "            ax[i].imshow(matrixx[:,lb:ub], aspect = 1)\n",
    "            target_arrays.append(matrixx[:,lb:ub])\n",
    "    if plott:\n",
    "        plt.show()\n",
    "    print(len(train_arrays))\n",
    "    \n",
    "    dictt = {\"Train\" :[np.ones(arr.shape) for arr in train_arrays] , \n",
    "             \"xTr\" : train_arrays,\n",
    "             \"target\" :  [np.ones(arr.shape) for arr in target_arrays], #np.ones(self.xTr.shape), np.ones(self.xTe.shape)\n",
    "             \"xTe\" : target_arrays }\n",
    "    return dictt\n",
    "# The question is obvious,"
   ]
  },
  {
   "cell_type": "code",
   "execution_count": null,
   "metadata": {},
   "outputs": [],
   "source": [
    "broken_up_A_med = get_series(A_med, k = 1, \n",
    "                             zhizhuo_endpoints = [249, 289], \n",
    "                             shape_assert = 40, start = 5)\n"
   ]
  },
  {
   "cell_type": "code",
   "execution_count": null,
   "metadata": {},
   "outputs": [],
   "source": [
    "plt.imshow(broken_up_A_med[\"xTr\"][0], aspect = 0.5)\n",
    "plt.show()\n",
    "plt.imshow(broken_up_A_med[\"xTe\"][0], aspect = 0.5)\n",
    "print(broken_up_A_med[\"xTr\"][0].shape)\n",
    "print(broken_up_A_med[\"xTe\"][0].shape)"
   ]
  },
  {
   "cell_type": "code",
   "execution_count": null,
   "metadata": {},
   "outputs": [],
   "source": [
    "Train = broken_up_A_med[\"Train\"][0]\n",
    "print(Train.shape)\n",
    "xTr = broken_up_A_med[\"xTr\"][0]\n",
    "plt.imshow(xTr)\n",
    "broken_up_A_med[\"xTe\"][0].shape"
   ]
  },
  {
   "cell_type": "code",
   "execution_count": null,
   "metadata": {},
   "outputs": [],
   "source": [
    "bounds = { 'connectivity':    (-3, 0),\n",
    "            'n_nodes':   1000,\n",
    "            'spectral_radius': (0.001, 0.999),\n",
    "            'regularization':  (-6, 4),\n",
    "            \"leaking_rate\" :   (0.001, 1)}\n",
    "esn_cv_spec = EchoStateNetworkCV(bounds = bounds, \n",
    "                                 subsequence_length = 40, \n",
    "                                 esn_feedback = False, \n",
    "                                 eps = 10**(-5),\n",
    "                                 cv_samples = 3,\n",
    "                                 model_type = \"uniform\",\n",
    "                                 n_jobs = 2,\n",
    "                                 initial_samples = 150\n",
    "                                )\n",
    "assert broken_up_A_med[\"Train\"][0].shape == broken_up_A_med[\"xTr\"][0].shape\n",
    "best_args_ = esn_cv_spec.optimize(y = xTr, x = None)#np.ones(xTr.shape))\n",
    "#self.best_arguments =  self.esn_cv.optimize(x = self.Train, y = self.xTr) "
   ]
  },
  {
   "cell_type": "code",
   "execution_count": null,
   "metadata": {},
   "outputs": [],
   "source": [
    "hi = \"\"\"best_args_ = {'cyclic_res_w': 0.001246639973578002,\n",
    "              'cyclic_input_w': 0.018582012103828045,\n",
    "              'cyclic_bias': 0.050674025611653906,\n",
    "              'leaking_rate': 0.001,\n",
    "              'n_nodes': 1000,\n",
    "              'random_seed': 123,\n",
    "              'feedback': False,\n",
    "              \"model_type\" : \"cyclic\"}\n",
    "best_args_ = {'connectivity': 1.0,\n",
    " 'spectral_radius': 0.5420020711421967,\n",
    " 'regularization': 1.367683798343926,\n",
    " 'leaking_rate': 1.0,\n",
    " 'n_nodes': 1000,\n",
    " 'random_seed': 123,\n",
    " 'feedback': False,\n",
    " 'model_type' : \"uniform\"}\"\"\"\n",
    "best_args_ = {'cyclic_res_w': 0.001246639973578002,\n",
    "              'cyclic_input_w': 0.018582012103828045,\n",
    "              'cyclic_bias': 0.050674025611653906,\n",
    "              'leaking_rate': 0.001,\n",
    "              'n_nodes': 1000,\n",
    "              'random_seed': 123,\n",
    "              'feedback': False,\n",
    "              \"model_type\" : \"cyclic\"}\n",
    "\n",
    "\n",
    "esn_spec =  EchoStateNetwork(**best_args_)#, model_type = \"uniform\")"
   ]
  },
  {
   "cell_type": "code",
   "execution_count": null,
   "metadata": {},
   "outputs": [],
   "source": [
    "print(broken_up_A_med[\"xTr\"][0].shape)\n",
    "print(np.ones(broken_up_A_med[\"xTr\"][0].shape).shape)\n",
    "broken_up_A_med.keys()\n",
    "broken_up_A_med[\"target\"][0].shape\n",
    "type(broken_up_A_med[\"Train\"][0])\n",
    "test_ = broken_up_A_med[\"xTe\"][0]\n",
    "xTr, xTe = broken_up_A_med[\"xTr\"][0], broken_up_A_med[\"xTe\"][0]\n",
    "plt.imshow(test_)\n",
    "\n",
    "print(broken_up_A_med.keys())\n",
    "plt.imshow(broken_up_A_med[\"xTr\"][0], aspect = 0.2)\n",
    "esn_spec.train(y = broken_up_A_med[\"xTr\"][0],  x = None)\n",
    "pred_ = esn_spec.predict( n_steps = test_.shape[0], x = broken_up_A_med[\"target\"][0])\n",
    "#plt.imshow(broken_up_A_med[\"xTr\"][0])\n",
    "sns.heatmap(broken_up_A_med[\"Train\"][0])\n",
    "\n",
    "print(nrmse(test_, pred_))\n",
    "plt.imshow(pred_)\n",
    "plt.show()\n",
    "plt.imshow(test_)\n",
    "plt.show()\n"
   ]
  }
 ],
 "metadata": {
  "kernelspec": {
   "display_name": "Python 3",
   "language": "python",
   "name": "python3"
  },
  "language_info": {
   "codemirror_mode": {
    "name": "ipython",
    "version": 3
   },
   "file_extension": ".py",
   "mimetype": "text/x-python",
   "name": "python",
   "nbconvert_exporter": "python",
   "pygments_lexer": "ipython3",
   "version": "3.7.6"
  }
 },
 "nbformat": 4,
 "nbformat_minor": 4
}
