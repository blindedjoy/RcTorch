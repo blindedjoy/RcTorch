{
 "cells": [
  {
   "cell_type": "code",
   "execution_count": 3,
   "metadata": {},
   "outputs": [],
   "source": [
    "%run -i '../MARIOS/PyFiles/imports.py'\n",
    "%run -i '../MARIOS/PyFiles/helpers.py'\n",
    "%run -i \"../MARIOS/PyFiles/experiment.py\""
   ]
  },
  {
   "cell_type": "code",
   "execution_count": 14,
   "metadata": {},
   "outputs": [],
   "source": [
    "\n",
    "def load_data(file = \"default\"):\n",
    "    if file == \"default\":\n",
    "        nf = get_new_filename(exp = exp, current = True)\n",
    "    else:\n",
    "        nf = file\n",
    "    with open(nf) as json_file: # 'non_exp_w.txt'\n",
    "        datt = json.load(json_file)\n",
    "    #datt = non_exp_best_args[\"dat\"]\n",
    "    #datt[\"obs_tr\"], datt[\"obs_te\"]   = np.array(datt[\"obs_tr\"]), np.array(datt[\"obs_te\"])\n",
    "    #datt[\"resp_tr\"], datt[\"resp_te\"] = np.array(datt[\"resp_tr\"]), np.array(datt[\"resp_te\"])\n",
    "    return(datt)\n",
    "\n",
    "#experiment.save_json(exp = False)\n",
    "fp = bp + 'targetKhz:_0.01__obskHz:_0.01.txt'\n",
    "fp = bp + 'targetKhz:_0.02__obskHz:_0.01.txt'\n",
    "def topline(spec_path, base_path = \"./experiment_results/2k/medium/split_0.9/\"):\n",
    "    \n",
    "    print(\"DATA STRUCTURE: (it's a dict)\")\n",
    "    fp = base_path + spec_path\n",
    "    \"\"\"\n",
    "    targetKhz:_0.02__obskHz:_0.01.txt\n",
    "    │   │   │   ├── targetKhz:_0.5__obskHz:_0.5.txt\n",
    "    │   │   │   └── targetKhz:_0.5__obskHz:_1.0.txt\n",
    "    \"\"\"\n",
    "    hi = load_data(file = fp)\n",
    "    for i in hi.keys():\n",
    "        print(i + \"/\")\n",
    "\n",
    "        if type(hi[i]) == dict:\n",
    "\n",
    "            for j in hi[i].keys():\n",
    "                print(\"    \" +j)\n",
    "    print(\"/n inputs:\")\n",
    "    print(hi[\"experiment_inputs\"])\n",
    "    print(hi[\"get_observer_inputs\"])\n",
    "\n",
    "    print(\"/n key saved values:\")\n",
    "    print(hi[\"best arguments\"])\n",
    "    print(hi[\"nrmse\"])"
   ]
  },
  {
   "cell_type": "code",
   "execution_count": 15,
   "metadata": {},
   "outputs": [
    {
     "name": "stdout",
     "output_type": "stream",
     "text": [
      "DATA STRUCTURE: (it's a dict)\n",
      "prediction/\n",
      "    interpolation\n",
      "    uniform\n",
      "    exponential\n",
      "nrmse/\n",
      "    interpolation\n",
      "    uniform\n",
      "    exponential\n",
      "best arguments/\n",
      "    uniform\n",
      "    exponential\n",
      "obs_idx/\n",
      "resp_idx/\n",
      "experiment_inputs/\n",
      "    size\n",
      "    target_frequency\n",
      "    obs_hz\n",
      "    target_hz\n",
      "    verbose\n",
      "get_observer_inputs/\n",
      "    method\n",
      "    split\n",
      "    aspect\n",
      "/n inputs:\n",
      "{'size': 'medium', 'target_frequency': 2000, 'obs_hz': 0.0005, 'target_hz': 0.0005, 'verbose': False}\n",
      "{'method': 'freq', 'split': 0.9, 'aspect': 0.9}\n",
      "/n key saved values:\n",
      "{'uniform': {'connectivity': 0.001, 'n_nodes': 100, 'spectral_radius': 0.05, 'regularization': 10.0, 'leaking_rate': 0.7733379691839218, 'random_seed': 123}, 'exponential': {'llambda': 1e-12, 'connectivity': 0.001, 'n_nodes': 100, 'spectral_radius': 0.7930102038383484, 'regularization': 10.0, 'leaking_rate': 1.0, 'random_seed': 123}}\n",
      "{'interpolation': 0.0395523911947735, 'uniform': 0.008455659375210041, 'exponential': 0.008443754314894253}\n"
     ]
    }
   ],
   "source": [
    "topline(\"targetKhz:_0.5__obskHz:_0.5.txt\") #GOOD!"
   ]
  },
  {
   "cell_type": "code",
   "execution_count": 16,
   "metadata": {},
   "outputs": [
    {
     "name": "stdout",
     "output_type": "stream",
     "text": [
      "DATA STRUCTURE: (it's a dict)\n",
      "prediction/\n",
      "    interpolation\n",
      "    uniform\n",
      "nrmse/\n",
      "    interpolation\n",
      "    uniform\n",
      "best arguments/\n",
      "    uniform\n",
      "obs_idx/\n",
      "resp_idx/\n",
      "experiment_inputs/\n",
      "    size\n",
      "    target_frequency\n",
      "    obs_hz\n",
      "    target_hz\n",
      "    verbose\n",
      "get_observer_inputs/\n",
      "    method\n",
      "    split\n",
      "    aspect\n",
      "/n inputs:\n",
      "{'size': 'medium', 'target_frequency': 2000, 'obs_hz': 0.001, 'target_hz': 0.001, 'verbose': False}\n",
      "{'method': 'freq', 'split': 0.9, 'aspect': 0.9}\n",
      "/n key saved values:\n",
      "{'uniform': {'connectivity': 0.001, 'n_nodes': 100, 'spectral_radius': 0.05, 'regularization': 2.9680391680382754, 'leaking_rate': 1.0, 'random_seed': 123}}\n",
      "{'interpolation': 0.03935121434238906, 'uniform': 0.005177064717304037}\n"
     ]
    }
   ],
   "source": [
    "topline(\"targetKhz:_1.0__obskHz:_1.0.txt\") #MISSING, RERUN THE EXPONENTIAL TEST"
   ]
  },
  {
   "cell_type": "code",
   "execution_count": 18,
   "metadata": {},
   "outputs": [
    {
     "name": "stdout",
     "output_type": "stream",
     "text": [
      "DATA STRUCTURE: (it's a dict)\n",
      "prediction/\n",
      "    interpolation\n",
      "    uniform\n",
      "    exponential\n",
      "nrmse/\n",
      "    interpolation\n",
      "    uniform\n",
      "    exponential\n",
      "best arguments/\n",
      "    uniform\n",
      "    exponential\n",
      "obs_idx/\n",
      "resp_idx/\n",
      "experiment_inputs/\n",
      "    size\n",
      "    target_frequency\n",
      "    obs_hz\n",
      "    target_hz\n",
      "    verbose\n",
      "get_observer_inputs/\n",
      "    method\n",
      "    split\n",
      "    aspect\n",
      "/n inputs:\n",
      "{'size': 'medium', 'target_frequency': 2000, 'obs_hz': 0.001, 'target_hz': 0.0005, 'verbose': False}\n",
      "{'method': 'freq', 'split': 0.9, 'aspect': 0.9}\n",
      "/n key saved values:\n",
      "{'uniform': {'connectivity': 0.02744261050691086, 'n_nodes': 990, 'spectral_radius': 0.7366989505290985, 'regularization': 0.05041276487429129, 'leaking_rate': 0.47951199561357494, 'random_seed': 123}, 'exponential': {'llambda': 1e-12, 'connectivity': 1.0, 'n_nodes': 100, 'spectral_radius': 0.32241672337055205, 'regularization': 6.61975942289967, 'leaking_rate': 0.05, 'random_seed': 123}}\n",
      "{'interpolation': 0.03909516122428118, 'uniform': 0.013463952460055623, 'exponential': 0.009400709001748447}\n"
     ]
    }
   ],
   "source": [
    "topline(\"targetKhz:_0.5__obskHz:_1.0.txt\") "
   ]
  },
  {
   "cell_type": "code",
   "execution_count": 20,
   "metadata": {},
   "outputs": [
    {
     "name": "stdout",
     "output_type": "stream",
     "text": [
      "DATA STRUCTURE: (it's a dict)\n",
      "prediction/\n",
      "    interpolation\n",
      "    uniform\n",
      "    exponential\n",
      "nrmse/\n",
      "    interpolation\n",
      "    uniform\n",
      "    exponential\n",
      "best arguments/\n",
      "    uniform\n",
      "    exponential\n",
      "obs_idx/\n",
      "resp_idx/\n",
      "experiment_inputs/\n",
      "    size\n",
      "    target_frequency\n",
      "    obs_hz\n",
      "    target_hz\n",
      "    verbose\n",
      "get_observer_inputs/\n",
      "    method\n",
      "    split\n",
      "    aspect\n",
      "/n inputs:\n",
      "{'size': 'medium', 'target_frequency': 2000, 'obs_hz': 0.001, 'target_hz': 0.0005, 'verbose': False}\n",
      "{'method': 'freq', 'split': 0.9, 'aspect': 0.9}\n",
      "/n key saved values:\n",
      "{'uniform': {'connectivity': 0.02744261050691086, 'n_nodes': 990, 'spectral_radius': 0.7366989505290985, 'regularization': 0.05041276487429129, 'leaking_rate': 0.47951199561357494, 'random_seed': 123}, 'exponential': {'llambda': 1e-12, 'connectivity': 1.0, 'n_nodes': 100, 'spectral_radius': 0.32241672337055205, 'regularization': 6.61975942289967, 'leaking_rate': 0.05, 'random_seed': 123}}\n",
      "{'interpolation': 0.03909516122428118, 'uniform': 0.013463952460055623, 'exponential': 0.009400709001748447}\n"
     ]
    }
   ],
   "source": [
    "topline(\"targetKhz:_0.5__obskHz:_1.0.txt\")  #GOOD!"
   ]
  },
  {
   "cell_type": "code",
   "execution_count": null,
   "metadata": {},
   "outputs": [],
   "source": []
  }
 ],
 "metadata": {
  "kernelspec": {
   "display_name": "Python 3",
   "language": "python",
   "name": "python3"
  },
  "language_info": {
   "codemirror_mode": {
    "name": "ipython",
    "version": 3
   },
   "file_extension": ".py",
   "mimetype": "text/x-python",
   "name": "python",
   "nbconvert_exporter": "python",
   "pygments_lexer": "ipython3",
   "version": "3.7.6"
  }
 },
 "nbformat": 4,
 "nbformat_minor": 4
}
