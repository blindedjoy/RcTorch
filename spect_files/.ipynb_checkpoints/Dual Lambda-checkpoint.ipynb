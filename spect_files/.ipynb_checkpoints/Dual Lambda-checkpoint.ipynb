{
 "cells": [
  {
   "cell_type": "code",
   "execution_count": null,
   "metadata": {},
   "outputs": [],
   "source": [
    "%run -i 'PyFiles/imports.py'\n",
    "%run -i 'PyFiles/helpers.py'\n",
    "%run -i \"PyFiles/experiment.py\"\n",
    "%run -i \"PyFiles/analysis.py\"\n",
    "import scipy.stats as stats\n",
    "import glob"
   ]
  },
  {
   "cell_type": "code",
   "execution_count": null,
   "metadata": {},
   "outputs": [],
   "source": [
    "medium_path_list = glob.glob('experiment_results/medium/*/*.txt')\n",
    "test_analysis = EchoStateAnalysis([medium_path_list[0]], \n",
    "                                  model = \"uniform\", \n",
    "                                  ip_use_observers = True, \n",
    "                                  ip_method = \"linear\")\n",
    "\n",
    "json_obj_test = test_analysis.experiment_lst[0]\n",
    "test_experiment = test_analysis.get_experiment(json_obj_test, model = \"uniform\")"
   ]
  },
  {
   "cell_type": "code",
   "execution_count": null,
   "metadata": {},
   "outputs": [],
   "source": [
    "json_obj_test[\"best arguments\"]"
   ]
  },
  {
   "cell_type": "code",
   "execution_count": null,
   "metadata": {},
   "outputs": [],
   "source": [
    "test_esn = test_experiment.esn_spec\n",
    "test2_esn = EchoStateNetwork(**json_obj_test[\"best arguments\"][\"exponential\"],\n",
    "                             resp_idx = json_obj_test[\"resp_idx\"],\n",
    "                             obs_idx = json_obj_test[\"obs_idx\"],\n",
    "                             exponential = False, plot = True, \n",
    "                             llambda2 = 10**(-2), model_type = \"exponential\")\n",
    "test2_esn.noise = 0.5\n",
    "test2_esn.get_exp_weights()"
   ]
  },
  {
   "cell_type": "code",
   "execution_count": null,
   "metadata": {},
   "outputs": [],
   "source": [
    "test_esn = test_experiment.esn_spec\n",
    "test2_esn = EchoStateNetwork(**json_obj_test[\"best arguments\"][\"exponential\"],\n",
    "                             resp_idx = json_obj_test[\"resp_idx\"],\n",
    "                             obs_idx = json_obj_test[\"obs_idx\"],\n",
    "                             exponential = False, plot = True,\n",
    "                             llambda2 = 0.0001, model_type = \"exponential\")\n",
    "test2_esn.noise = 0.1\n",
    "test2_esn.get_exp_weights()"
   ]
  },
  {
   "cell_type": "code",
   "execution_count": null,
   "metadata": {},
   "outputs": [],
   "source": [
    "test_esn = test_experiment.esn_spec\n",
    "test2_esn = EchoStateNetwork(**json_obj_test[\"best arguments\"][\"exponential\"],\n",
    "                             resp_idx = json_obj_test[\"resp_idx\"],\n",
    "                             obs_idx = json_obj_test[\"obs_idx\"],\n",
    "                             exponential = False, plot = True, model_type = \"exponential\",\n",
    "                             llambda2 = 10)\n",
    "test2_esn.noise = 0.5\n",
    "test2_esn.get_exp_weights()"
   ]
  },
  {
   "cell_type": "code",
   "execution_count": null,
   "metadata": {},
   "outputs": [],
   "source": [
    "normal_error = np.random.normal(loc = 0, scale = 0.01, size = (10,3))\n",
    "exp_weights1to3 = test2_esn.exp_weights[:3]\n",
    "print(exp_weights1to3 )\n",
    "exp_weights1to3 + normal_error"
   ]
  }
 ],
 "metadata": {
  "kernelspec": {
   "display_name": "Python 3",
   "language": "python",
   "name": "python3"
  },
  "language_info": {
   "codemirror_mode": {
    "name": "ipython",
    "version": 3
   },
   "file_extension": ".py",
   "mimetype": "text/x-python",
   "name": "python",
   "nbconvert_exporter": "python",
   "pygments_lexer": "ipython3",
   "version": "3.7.6"
  }
 },
 "nbformat": 4,
 "nbformat_minor": 4
}
